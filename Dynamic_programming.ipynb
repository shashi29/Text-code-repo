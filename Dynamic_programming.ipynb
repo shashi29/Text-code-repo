{
  "nbformat": 4,
  "nbformat_minor": 0,
  "metadata": {
    "colab": {
      "name": "Dynamic-programming.ipynb",
      "provenance": [],
      "authorship_tag": "ABX9TyMGcwC1V2PsB9hI16LOT51N",
      "include_colab_link": true
    },
    "kernelspec": {
      "name": "python3",
      "display_name": "Python 3"
    }
  },
  "cells": [
    {
      "cell_type": "markdown",
      "metadata": {
        "id": "view-in-github",
        "colab_type": "text"
      },
      "source": [
        "<a href=\"https://colab.research.google.com/github/shashi29/Text-code-repo/blob/master/Dynamic_programming.ipynb\" target=\"_parent\"><img src=\"https://colab.research.google.com/assets/colab-badge.svg\" alt=\"Open In Colab\"/></a>"
      ]
    },
    {
      "cell_type": "markdown",
      "metadata": {
        "id": "0cXTWP96NYru",
        "colab_type": "text"
      },
      "source": [
        "Given a value N, if we want to make change for N cents, and we have infinite supply of each of S = { S1, S2, .. , Sm} valued coins, how many ways can we make the change? The order of coins doesn’t matter.<br/>\n",
        "For example, for N = 4 and S = {1,2,3}, there are four solutions: {1,1,1,1},{1,1,2},{2,2},{1,3}. So output should be 4. For N = 10 and S = {2, 5, 3, 6}, there are five solutions: {2,2,2,2,2}, {2,2,3,3}, {2,2,6}, {2,3,5} and {5,5}. So the output should be 5."
      ]
    },
    {
      "cell_type": "code",
      "metadata": {
        "id": "wQpwuHImLoVw",
        "colab_type": "code",
        "colab": {
          "base_uri": "https://localhost:8080/",
          "height": 34
        },
        "outputId": "b9768d43-8e01-40ed-8cf9-00b6444df463"
      },
      "source": [
        "def solution(arr, w, n):\n",
        "  if w == 0:\n",
        "    return 1\n",
        "  elif n == 0:\n",
        "    return 0\n",
        "  else:\n",
        "    if arr[n-1] <= w:\n",
        "      return solution(arr, w-arr[n-1], n) + solution(arr, w, n-1)\n",
        "    else:\n",
        "      return solution(arr, w, n-1)\n",
        "\n",
        "#Coins problem\n",
        "coins = [1,2,3]\n",
        "amount = 4\n",
        "\n",
        "print(solution(coins, amount, len(coins)))"
      ],
      "execution_count": 47,
      "outputs": [
        {
          "output_type": "stream",
          "text": [
            "4\n"
          ],
          "name": "stdout"
        }
      ]
    },
    {
      "cell_type": "code",
      "metadata": {
        "id": "JsyzuPnYNj0r",
        "colab_type": "code",
        "colab": {
          "base_uri": "https://localhost:8080/",
          "height": 34
        },
        "outputId": "da99051c-b780-4b88-d4ee-92af55b3cddb"
      },
      "source": [
        "def solutionMemoize(arr, w, n):\n",
        "  if w == 0:\n",
        "    return 1\n",
        "  elif n == 0:\n",
        "    return 0\n",
        "  elif dp[n][w] != -1:\n",
        "    return dp[n][w]\n",
        "  else:\n",
        "    if arr[n-1] <= w:\n",
        "      dp[n][w] = solutionMemoize(arr, w-arr[n-1],n) + solution(arr, w, n-1)\n",
        "      return dp[n][w]\n",
        "    else:\n",
        "      dp[n][w] = solutionMemoize(arr,w,n-1)\n",
        "      return dp[n][w]\n",
        "\n",
        "#Memoize dp problem\n",
        "coins = [1,2,3]\n",
        "amount = 5\n",
        "\n",
        "dp= [[-1 for i in range(amount+1)]for j in range(len(coins)+1)]\n",
        "print(solutionMemoize(coins, amount, len(coins)))"
      ],
      "execution_count": 57,
      "outputs": [
        {
          "output_type": "stream",
          "text": [
            "5\n"
          ],
          "name": "stdout"
        }
      ]
    },
    {
      "cell_type": "markdown",
      "metadata": {
        "id": "I9VnhAP9Ymln",
        "colab_type": "text"
      },
      "source": [
        "Rod Cutting Problem\n",
        " Given a rod of length n inches and an array of prices that contains prices of all pieces of size smaller than n. Determine the  maximum value obtainable by cutting up the rod and selling the pieces. <br/>\n",
        "Example:<br/> \n",
        "if length of the rod is 8 and the values of different pieces are given as following, then the maximum obtainable value is 22 (by cutting in two pieces of lengths 2 and 6)\n",
        "\n",
        "\n",
        "length   | 1   2   3   4   5   6   7   8  \n",
        "--------------------------------------------\n",
        "price    | 1   5   8   9  10  17  17  20"
      ]
    },
    {
      "cell_type": "code",
      "metadata": {
        "id": "3O3NAcP0YxQs",
        "colab_type": "code",
        "colab": {
          "base_uri": "https://localhost:8080/",
          "height": 34
        },
        "outputId": "669291af-27aa-4229-c96e-9bbe29bf0a10"
      },
      "source": [
        "#maximize the profit\n",
        "#rod lenght is given\n",
        "\n",
        "def solution(length , price, w, n):\n",
        "  if w == 0 or n == 0:\n",
        "    return 0\n",
        "  else:\n",
        "    if length[n-1] <= w:\n",
        "      return max(price[n-1] + solution(length, price, w - length[n-1], n),solution(length, price, w, n-1))\n",
        "    else:\n",
        "      return solution(length, price , w, n-1)\n",
        "\n",
        "\n",
        "price = [1, 5, 8, 9, 10, 17, 17, 20] \n",
        "length = [1,2,3,4,5,6,7,8]\n",
        "\n",
        "print(solution(length, price, len(length), len(price)))"
      ],
      "execution_count": 43,
      "outputs": [
        {
          "output_type": "stream",
          "text": [
            "22\n"
          ],
          "name": "stdout"
        }
      ]
    },
    {
      "cell_type": "code",
      "metadata": {
        "id": "aC9SN2e7iInC",
        "colab_type": "code",
        "colab": {
          "base_uri": "https://localhost:8080/",
          "height": 34
        },
        "outputId": "06099d54-c596-4032-b303-bb44fa238937"
      },
      "source": [
        "def solutionMemoize(length, price, w, n):\n",
        "  if w == 0 or n == 0:\n",
        "    return 0\n",
        "  elif dp[n][w] != -1:\n",
        "    return dp[n][w]\n",
        "  else:\n",
        "    if length[n-1] <= w:\n",
        "      dp[n][w] = max(price[n-1]+solutionMemoize(length, price, w - length[n-1], n), solutionMemoize(length, price, w, n-1))\n",
        "      return dp[n][w]\n",
        "    else:\n",
        "      dp[n][w] = solutionMemoize(length, price, w , n-1)\n",
        "      return dp[n][w]\n",
        "\n",
        "price = [1, 5, 8, 9, 10, 17, 17, 20] \n",
        "length = [1,2,3,4,5,6,7,8]\n",
        "\n",
        "dp = [[-1 for i in range(len(length)+1)]for j in range(len(price)+1)]\n",
        "print(solutionMemoize(length, price, len(length), len(price)))"
      ],
      "execution_count": 58,
      "outputs": [
        {
          "output_type": "stream",
          "text": [
            "22\n"
          ],
          "name": "stdout"
        }
      ]
    },
    {
      "cell_type": "code",
      "metadata": {
        "id": "wef6SHHrmsiQ",
        "colab_type": "code",
        "colab": {
          "base_uri": "https://localhost:8080/",
          "height": 34
        },
        "outputId": "b84e3eec-89f0-4a74-a186-3af3cdc4a151"
      },
      "source": [
        "def solutionDp(length, price, w, n):\n",
        "  dp = [[-1 for i in range(w+1)]for j in range(n+1)]\n",
        "  for i in range(n+1):\n",
        "    for j in range(w+1):\n",
        "      if i == 0:\n",
        "        dp[i][j] = 0\n",
        "      if j == 0:\n",
        "        dp[i][j] = 0\n",
        "      else:\n",
        "        if length[i-1] <= j:\n",
        "          dp[i][j] = max(price[i-1]+dp[i][j-length[i-1]], dp[i-1][j])\n",
        "        else:\n",
        "          dp[i][j] = dp[i-1][j]\n",
        "          \n",
        "  return dp[i][j]\n",
        "price = [1, 5, 8, 9, 10, 17, 17, 20] \n",
        "length = [1,2,3,4,5,6,7,8]\n",
        "\n",
        "\n",
        "print(solutionDp(length, price, len(length), len(price)))"
      ],
      "execution_count": 63,
      "outputs": [
        {
          "output_type": "stream",
          "text": [
            "22\n"
          ],
          "name": "stdout"
        }
      ]
    },
    {
      "cell_type": "markdown",
      "metadata": {
        "id": "I9TU_DT9vcJY",
        "colab_type": "text"
      },
      "source": [
        "Find minimum number of coins that make a given value"
      ]
    },
    {
      "cell_type": "code",
      "metadata": {
        "id": "pRq9UbG8wTv3",
        "colab_type": "code",
        "colab": {
          "base_uri": "https://localhost:8080/",
          "height": 34
        },
        "outputId": "d618b99a-2dbb-4769-8697-c26242cd6b44"
      },
      "source": [
        "\n",
        "def findMinSolutions(arr, w, n):\n",
        "  if w == 0:\n",
        "    return 1\n",
        "  if n == 0:\n",
        "    return 0\n",
        "  else:\n",
        "    if arr[n-1] <= w:\n",
        "      return findMinSolutions(arr, w-arr[n-1], n) or findMinSolutions(arr, w, n-1)\n",
        "    else:\n",
        "      return findMinSolutions(arr, w, n-1)\n",
        "\n",
        "arr = [9, 6, 5, 1]\n",
        "target = 11\n",
        "i = 0\n",
        "print(findMinSolutions(arr, target, len(arr)))"
      ],
      "execution_count": 66,
      "outputs": [
        {
          "output_type": "stream",
          "text": [
            "1\n"
          ],
          "name": "stdout"
        }
      ]
    },
    {
      "cell_type": "code",
      "metadata": {
        "id": "pMqmW91hxJz5",
        "colab_type": "code",
        "colab": {}
      },
      "source": [
        ""
      ],
      "execution_count": 0,
      "outputs": []
    }
  ]
}