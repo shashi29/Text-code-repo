{
  "nbformat": 4,
  "nbformat_minor": 0,
  "metadata": {
    "colab": {
      "name": "EDA",
      "version": "0.3.2",
      "provenance": []
    },
    "kernelspec": {
      "name": "python3",
      "display_name": "Python 3"
    },
    "accelerator": "GPU"
  },
  "cells": [
    {
      "metadata": {
        "id": "4D-pXCkwO17C",
        "colab_type": "code",
        "colab": {}
      },
      "cell_type": "code",
      "source": [
        "# Code to read csv file into Colaboratory:\n",
        "!pip install -U -q PyDrive\n",
        "from pydrive.auth import GoogleAuth\n",
        "from pydrive.drive import GoogleDrive\n",
        "from google.colab import auth\n",
        "from oauth2client.client import GoogleCredentials\n",
        "# Authenticate and create the PyDrive client.\n",
        "auth.authenticate_user()\n",
        "gauth = GoogleAuth()\n",
        "gauth.credentials = GoogleCredentials.get_application_default()\n",
        "drive = GoogleDrive(gauth)"
      ],
      "execution_count": 0,
      "outputs": []
    },
    {
      "metadata": {
        "id": "1zL6m7P9RsOQ",
        "colab_type": "code",
        "colab": {
          "base_uri": "https://localhost:8080/",
          "height": 411
        },
        "outputId": "1f5ba813-9a01-4246-e1ea-857ba9797266"
      },
      "cell_type": "code",
      "source": [
        "!pip install h2o\n",
        "!pip install lightgbm"
      ],
      "execution_count": 2,
      "outputs": [
        {
          "output_type": "stream",
          "text": [
            "Collecting h2o\n",
            "\u001b[?25l  Downloading https://files.pythonhosted.org/packages/e6/25/1226b7f47e80b311efc931b4e5d132f0b17f960066f5eedc8b77c6691ec4/h2o-3.22.1.5.tar.gz (120.9MB)\n",
            "\u001b[K    100% |████████████████████████████████| 120.9MB 183kB/s \n",
            "\u001b[?25hRequirement already satisfied: requests in /usr/local/lib/python3.6/dist-packages (from h2o) (2.18.4)\n",
            "Requirement already satisfied: tabulate in /usr/local/lib/python3.6/dist-packages (from h2o) (0.8.3)\n",
            "Requirement already satisfied: future in /usr/local/lib/python3.6/dist-packages (from h2o) (0.16.0)\n",
            "Collecting colorama>=0.3.8 (from h2o)\n",
            "  Downloading https://files.pythonhosted.org/packages/4f/a6/728666f39bfff1719fc94c481890b2106837da9318031f71a8424b662e12/colorama-0.4.1-py2.py3-none-any.whl\n",
            "Requirement already satisfied: urllib3<1.23,>=1.21.1 in /usr/local/lib/python3.6/dist-packages (from requests->h2o) (1.22)\n",
            "Requirement already satisfied: idna<2.7,>=2.5 in /usr/local/lib/python3.6/dist-packages (from requests->h2o) (2.6)\n",
            "Requirement already satisfied: certifi>=2017.4.17 in /usr/local/lib/python3.6/dist-packages (from requests->h2o) (2018.11.29)\n",
            "Requirement already satisfied: chardet<3.1.0,>=3.0.2 in /usr/local/lib/python3.6/dist-packages (from requests->h2o) (3.0.4)\n",
            "Building wheels for collected packages: h2o\n",
            "  Building wheel for h2o (setup.py) ... \u001b[?25ldone\n",
            "\u001b[?25h  Stored in directory: /root/.cache/pip/wheels/80/d9/27/eba7cef0f0cacb7a31fa32d7086dec0c9726d770593e374e7c\n",
            "Successfully built h2o\n",
            "Installing collected packages: colorama, h2o\n",
            "Successfully installed colorama-0.4.1 h2o-3.22.1.5\n",
            "Requirement already satisfied: lightgbm in /usr/local/lib/python3.6/dist-packages (2.2.3)\n",
            "Requirement already satisfied: scipy in /usr/local/lib/python3.6/dist-packages (from lightgbm) (1.1.0)\n",
            "Requirement already satisfied: numpy in /usr/local/lib/python3.6/dist-packages (from lightgbm) (1.16.2)\n",
            "Requirement already satisfied: scikit-learn in /usr/local/lib/python3.6/dist-packages (from lightgbm) (0.20.3)\n"
          ],
          "name": "stdout"
        }
      ]
    },
    {
      "metadata": {
        "id": "tKjcx8DoPFxz",
        "colab_type": "code",
        "colab": {
          "base_uri": "https://localhost:8080/",
          "height": 680
        },
        "outputId": "95b352fc-ea39-4b92-d62e-c6e0169f2196"
      },
      "cell_type": "code",
      "source": [
        "\n",
        "import seaborn as sns\n",
        "import os\n",
        "import numpy as np\n",
        "import pandas as pd\n",
        "import time\n",
        "from tqdm import tqdm\n",
        "import h2o\n",
        "\n",
        "import lightgbm as lgb\n",
        "\n",
        "from sklearn.metrics import f1_score\n",
        "from sklearn.model_selection import KFold\n",
        "from sklearn.feature_extraction.text import TfidfVectorizer\n",
        "from sklearn.linear_model import LogisticRegression\n",
        "from sklearn.model_selection import cross_val_score\n",
        "from sklearn.naive_bayes import GaussianNB, MultinomialNB, BernoulliNB\n",
        "\n",
        "import nltk\n",
        "from nltk.corpus import stopwords\n",
        "import string\n",
        "\n",
        "from scipy.sparse import hstack\n",
        "\n",
        "import matplotlib.pyplot as plt\n",
        "import seaborn as sns\n",
        "link = 'https://drive.google.com/open?id=1udJeq9cYA5BTagIh2I_TcBiqYn8FxJaj'\n",
        "fluff, id = link.split('=')\n",
        "downloaded = drive.CreateFile({'id':id}) \n",
        "downloaded.GetContentFile('train.csv')  \n",
        "train = pd.read_csv('train.csv',sep='~')\n",
        "link = 'https://drive.google.com/open?id=1P0NgTOvLwUznerU0grO-dU-6ASCKgeBn'\n",
        "fluff, id = link.split('=')\n",
        "downloaded = drive.CreateFile({'id':id}) \n",
        "downloaded.GetContentFile('test.csv')  \n",
        "test = pd.read_csv('test.csv',sep='~')\n",
        "train.head()"
      ],
      "execution_count": 3,
      "outputs": [
        {
          "output_type": "stream",
          "text": [
            "WARNING:googleapiclient.discovery_cache:file_cache is unavailable when using oauth2client >= 4.0.0\n",
            "Traceback (most recent call last):\n",
            "  File \"/usr/local/lib/python3.6/dist-packages/googleapiclient/discovery_cache/__init__.py\", line 36, in autodetect\n",
            "    from google.appengine.api import memcache\n",
            "ModuleNotFoundError: No module named 'google.appengine'\n",
            "\n",
            "During handling of the above exception, another exception occurred:\n",
            "\n",
            "Traceback (most recent call last):\n",
            "  File \"/usr/local/lib/python3.6/dist-packages/googleapiclient/discovery_cache/file_cache.py\", line 33, in <module>\n",
            "    from oauth2client.contrib.locked_file import LockedFile\n",
            "ModuleNotFoundError: No module named 'oauth2client.contrib.locked_file'\n",
            "\n",
            "During handling of the above exception, another exception occurred:\n",
            "\n",
            "Traceback (most recent call last):\n",
            "  File \"/usr/local/lib/python3.6/dist-packages/googleapiclient/discovery_cache/file_cache.py\", line 37, in <module>\n",
            "    from oauth2client.locked_file import LockedFile\n",
            "ModuleNotFoundError: No module named 'oauth2client.locked_file'\n",
            "\n",
            "During handling of the above exception, another exception occurred:\n",
            "\n",
            "Traceback (most recent call last):\n",
            "  File \"/usr/local/lib/python3.6/dist-packages/googleapiclient/discovery_cache/__init__.py\", line 41, in autodetect\n",
            "    from . import file_cache\n",
            "  File \"/usr/local/lib/python3.6/dist-packages/googleapiclient/discovery_cache/file_cache.py\", line 41, in <module>\n",
            "    'file_cache is unavailable when using oauth2client >= 4.0.0')\n",
            "ImportError: file_cache is unavailable when using oauth2client >= 4.0.0\n"
          ],
          "name": "stderr"
        },
        {
          "output_type": "execute_result",
          "data": {
            "text/html": [
              "<div>\n",
              "<style scoped>\n",
              "    .dataframe tbody tr th:only-of-type {\n",
              "        vertical-align: middle;\n",
              "    }\n",
              "\n",
              "    .dataframe tbody tr th {\n",
              "        vertical-align: top;\n",
              "    }\n",
              "\n",
              "    .dataframe thead th {\n",
              "        text-align: right;\n",
              "    }\n",
              "</style>\n",
              "<table border=\"1\" class=\"dataframe\">\n",
              "  <thead>\n",
              "    <tr style=\"text-align: right;\">\n",
              "      <th></th>\n",
              "      <th>User_ID</th>\n",
              "      <th>Description</th>\n",
              "      <th>Browser_Used</th>\n",
              "      <th>Device_Used</th>\n",
              "      <th>Is_Response</th>\n",
              "    </tr>\n",
              "  </thead>\n",
              "  <tbody>\n",
              "    <tr>\n",
              "      <th>0</th>\n",
              "      <td>11755</td>\n",
              "      <td>After reading mixed reviews I almost didn't bo...</td>\n",
              "      <td>Google Chrome</td>\n",
              "      <td>Desktop</td>\n",
              "      <td>Good</td>\n",
              "    </tr>\n",
              "    <tr>\n",
              "      <th>1</th>\n",
              "      <td>33912</td>\n",
              "      <td>This motor inn is located about - city blocks ...</td>\n",
              "      <td>Firefox</td>\n",
              "      <td>Tablet</td>\n",
              "      <td>Good</td>\n",
              "    </tr>\n",
              "    <tr>\n",
              "      <th>2</th>\n",
              "      <td>10143</td>\n",
              "      <td>It was our first time there and surely not our...</td>\n",
              "      <td>Google Chrome</td>\n",
              "      <td>Mobile</td>\n",
              "      <td>Good</td>\n",
              "    </tr>\n",
              "    <tr>\n",
              "      <th>3</th>\n",
              "      <td>33114</td>\n",
              "      <td>Great hotel in an excellent location, just off...</td>\n",
              "      <td>Mozilla</td>\n",
              "      <td>Desktop</td>\n",
              "      <td>Good</td>\n",
              "    </tr>\n",
              "    <tr>\n",
              "      <th>4</th>\n",
              "      <td>17464</td>\n",
              "      <td>We stayed at the hotel for - weeks to get away...</td>\n",
              "      <td>Google Chrome</td>\n",
              "      <td>Desktop</td>\n",
              "      <td>Good</td>\n",
              "    </tr>\n",
              "  </tbody>\n",
              "</table>\n",
              "</div>"
            ],
            "text/plain": [
              "   User_ID                                        Description   Browser_Used  \\\n",
              "0    11755  After reading mixed reviews I almost didn't bo...  Google Chrome   \n",
              "1    33912  This motor inn is located about - city blocks ...        Firefox   \n",
              "2    10143  It was our first time there and surely not our...  Google Chrome   \n",
              "3    33114  Great hotel in an excellent location, just off...        Mozilla   \n",
              "4    17464  We stayed at the hotel for - weeks to get away...  Google Chrome   \n",
              "\n",
              "  Device_Used Is_Response  \n",
              "0     Desktop        Good  \n",
              "1      Tablet        Good  \n",
              "2      Mobile        Good  \n",
              "3     Desktop        Good  \n",
              "4     Desktop        Good  "
            ]
          },
          "metadata": {
            "tags": []
          },
          "execution_count": 3
        }
      ]
    },
    {
      "metadata": {
        "id": "KOMKPQaSQ4Gh",
        "colab_type": "code",
        "colab": {}
      },
      "cell_type": "code",
      "source": [
        "Browser = ['Firefox','Edge','Google Chrome','InternetExplorer','Mozilla Firefox',\n",
        "           'Mozilla','IE','Chrome','Internet Explorer','Safari','Opera']\n",
        "Device = ['Desktop','Mobile','Tablet']"
      ],
      "execution_count": 0,
      "outputs": []
    },
    {
      "metadata": {
        "id": "Pd2kLT9OPiSy",
        "colab_type": "code",
        "colab": {
          "base_uri": "https://localhost:8080/",
          "height": 466
        },
        "outputId": "8dc71e4a-ef11-4d44-817b-00e89fb6fd8e"
      },
      "cell_type": "code",
      "source": [
        "#Is_Response Analysis\n",
        "#Due to this for evaluation we used F1 score\n",
        "c1 = sns.countplot(train['Is_Response'])\n",
        "train['Is_Response'].value_counts()"
      ],
      "execution_count": 7,
      "outputs": [
        {
          "output_type": "stream",
          "text": [
            "/usr/local/lib/python3.6/dist-packages/seaborn/categorical.py:1428: FutureWarning: remove_na is deprecated and is a private function. Do not use.\n",
            "  stat_data = remove_na(group_data)\n"
          ],
          "name": "stderr"
        },
        {
          "output_type": "execute_result",
          "data": {
            "text/plain": [
              "Good    20567\n",
              "Bad      9605\n",
              "Name: Is_Response, dtype: int64"
            ]
          },
          "metadata": {
            "tags": []
          },
          "execution_count": 7
        },
        {
          "output_type": "display_data",
          "data": {
            "image/png": "[encoded data removed]",
            "text/plain": [
              "<Figure size 576x396 with 1 Axes>"
            ]
          },
          "metadata": {
            "tags": []
          }
        }
      ]
    },
    {
      "metadata": {
        "id": "vuirfSMiQO4o",
        "colab_type": "code",
        "colab": {
          "base_uri": "https://localhost:8080/",
          "height": 483
        },
        "outputId": "24456d2e-4cc7-4e5e-850f-b377a0bd7865"
      },
      "cell_type": "code",
      "source": [
        "#Device Distribution count\n",
        "c1 = sns.countplot(train['Device_Used'],order=['Desktop','Mobile','Tablet'])\n",
        "train['Device_Used'].value_counts()"
      ],
      "execution_count": 8,
      "outputs": [
        {
          "output_type": "stream",
          "text": [
            "/usr/local/lib/python3.6/dist-packages/seaborn/categorical.py:1428: FutureWarning: remove_na is deprecated and is a private function. Do not use.\n",
            "  stat_data = remove_na(group_data)\n"
          ],
          "name": "stderr"
        },
        {
          "output_type": "execute_result",
          "data": {
            "text/plain": [
              "Mobile     11639\n",
              "Desktop    11630\n",
              "Tablet      6903\n",
              "Name: Device_Used, dtype: int64"
            ]
          },
          "metadata": {
            "tags": []
          },
          "execution_count": 8
        },
        {
          "output_type": "display_data",
          "data": {
            "image/png": "[encoded data removed]",
            "text/plain": [
              "<Figure size 576x396 with 1 Axes>"
            ]
          },
          "metadata": {
            "tags": []
          }
        }
      ]
    },
    {
      "metadata": {
        "id": "AVHX1ABhQn4o",
        "colab_type": "code",
        "colab": {
          "base_uri": "https://localhost:8080/",
          "height": 468
        },
        "outputId": "8082f467-3746-4f8d-e679-21ba3bd36c3a"
      },
      "cell_type": "code",
      "source": [
        "c1 = sns.countplot(train['Browser_Used'],order=Browser)\n",
        "train['Is_Response'].value_counts()"
      ],
      "execution_count": 9,
      "outputs": [
        {
          "output_type": "stream",
          "text": [
            "/usr/local/lib/python3.6/dist-packages/seaborn/categorical.py:1428: FutureWarning: remove_na is deprecated and is a private function. Do not use.\n",
            "  stat_data = remove_na(group_data)\n"
          ],
          "name": "stderr"
        },
        {
          "output_type": "execute_result",
          "data": {
            "text/plain": [
              "Good    20567\n",
              "Bad      9605\n",
              "Name: Is_Response, dtype: int64"
            ]
          },
          "metadata": {
            "tags": []
          },
          "execution_count": 9
        },
        {
          "output_type": "display_data",
          "data": {
            "image/png": "[encoded data removed]",
            "text/plain": [
              "<Figure size 576x396 with 1 Axes>"
            ]
          },
          "metadata": {
            "tags": []
          }
        }
      ]
    },
    {
      "metadata": {
        "id": "NOlGq2hjRKiP",
        "colab_type": "code",
        "colab": {}
      },
      "cell_type": "code",
      "source": [
        "#Encode the target variable \n",
        "stars_dict = {'Good':1,'Bad':0}\n",
        "train[\"Is_Response\"] = train['Is_Response'].replace(stars_dict,regex=True)"
      ],
      "execution_count": 0,
      "outputs": []
    },
    {
      "metadata": {
        "id": "dTnwN2fkSnFw",
        "colab_type": "code",
        "colab": {
          "base_uri": "https://localhost:8080/",
          "height": 51
        },
        "outputId": "8e24be4b-d023-4795-f7cf-bfc3c575b09b"
      },
      "cell_type": "code",
      "source": [
        "import nltk\n",
        "nltk.download('stopwords')\n",
        "eng_stopwords = set(stopwords.words(\"english\"))"
      ],
      "execution_count": 11,
      "outputs": [
        {
          "output_type": "stream",
          "text": [
            "[nltk_data] Downloading package stopwords to /root/nltk_data...\n",
            "[nltk_data]   Unzipping corpora/stopwords.zip.\n"
          ],
          "name": "stdout"
        }
      ]
    },
    {
      "metadata": {
        "id": "y1eUdaARThCg",
        "colab_type": "text"
      },
      "cell_type": "markdown",
      "source": [
        "For EDA , it might be a good idea to create some metafeatures.The metafeatures that we'll create are:\n",
        "\n",
        "Number of words in the text\n",
        "Number of unique words in the text\n",
        "Number of characters in the text\n",
        "Number of stopwords\n",
        "Number of punctuations\n",
        "Number of upper case words\n",
        "Number of title case words\n",
        "Average length of the words"
      ]
    },
    {
      "metadata": {
        "id": "Y2O5hGR5Tgbw",
        "colab_type": "code",
        "colab": {}
      },
      "cell_type": "code",
      "source": [
        "## Number of words in the text ##\n",
        "train[\"num_words\"] = train[\"Description\"].apply(lambda x: len(str(x).split()))\n",
        "test[\"num_words\"] = test[\"Description\"].apply(lambda x: len(str(x).split()))\n",
        "\n",
        "## Number of unique words in the text ##\n",
        "train[\"num_unique_words\"] = train[\"Description\"].apply(lambda x: len(set(str(x).split())))\n",
        "test[\"num_unique_words\"] = test[\"Description\"].apply(lambda x: len(set(str(x).split())))\n",
        "\n",
        "## Number of characters in the text ##\n",
        "train[\"num_chars\"] = train[\"Description\"].apply(lambda x: len(str(x)))\n",
        "test[\"num_chars\"] = test[\"Description\"].apply(lambda x: len(str(x)))\n",
        "\n",
        "## Number of stopwords in the text ##\n",
        "train[\"num_stopwords\"] = train[\"Description\"].apply(lambda x: len([w for w in str(x).lower().split() if w in eng_stopwords]))\n",
        "test[\"num_stopwords\"] = test[\"Description\"].apply(lambda x: len([w for w in str(x).lower().split() if w in eng_stopwords]))\n",
        "\n",
        "## Number of punctuations in the text ##\n",
        "train[\"num_punctuations\"] =train['Description'].apply(lambda x: len([c for c in str(x) if c in string.punctuation]) )\n",
        "test[\"num_punctuations\"] =test['Description'].apply(lambda x: len([c for c in str(x) if c in string.punctuation]) )\n",
        "\n",
        "## Number of title case words in the text ##\n",
        "train[\"num_words_upper\"] = train[\"Description\"].apply(lambda x: len([w for w in str(x).split() if w.isupper()]))\n",
        "test[\"num_words_upper\"] = test[\"Description\"].apply(lambda x: len([w for w in str(x).split() if w.isupper()]))\n",
        "\n",
        "## Number of title case words in the text ##\n",
        "train[\"num_words_title\"] = train[\"Description\"].apply(lambda x: len([w for w in str(x).split() if w.istitle()]))\n",
        "test[\"num_words_title\"] = test[\"Description\"].apply(lambda x: len([w for w in str(x).split() if w.istitle()]))\n",
        "\n",
        "## Average length of the words in the text ##\n",
        "train[\"mean_word_len\"] = train[\"Description\"].apply(lambda x: np.mean([len(w) for w in str(x).split()]))\n",
        "test[\"mean_word_len\"] = test[\"Description\"].apply(lambda x: np.mean([len(w) for w in str(x).split()]))"
      ],
      "execution_count": 0,
      "outputs": []
    },
    {
      "metadata": {
        "id": "K5xvvGgRxrHu",
        "colab_type": "code",
        "colab": {
          "base_uri": "https://localhost:8080/",
          "height": 622
        },
        "outputId": "c78ab1c1-e7e4-4f61-d30a-9d78769e028e"
      },
      "cell_type": "code",
      "source": [
        "plt.figure(figsize=(12,8))\n",
        "sns.violinplot(data=train['num_words'])\n",
        "plt.show()\n",
        "train['num_words'].mean()\n",
        "#So most of the Description are having lenght of 157 and almost all are under 500"
      ],
      "execution_count": 14,
      "outputs": [
        {
          "output_type": "stream",
          "text": [
            "/usr/local/lib/python3.6/dist-packages/seaborn/categorical.py:588: FutureWarning: remove_na is deprecated and is a private function. Do not use.\n",
            "  kde_data = remove_na(group_data)\n",
            "/usr/local/lib/python3.6/dist-packages/seaborn/categorical.py:816: FutureWarning: remove_na is deprecated and is a private function. Do not use.\n",
            "  violin_data = remove_na(group_data)\n",
            "/usr/local/lib/python3.6/dist-packages/scipy/stats/stats.py:1713: FutureWarning: Using a non-tuple sequence for multidimensional indexing is deprecated; use `arr[tuple(seq)]` instead of `arr[seq]`. In the future this will be interpreted as an array index, `arr[np.array(seq)]`, which will result either in an error or a different result.\n",
            "  return np.add.reduce(sorted[indexer] * weights, axis=axis) / sumval\n"
          ],
          "name": "stderr"
        },
        {
          "output_type": "display_data",
          "data": {
            "image/png": "[encoded data removed]",
            "text/plain": [
              "<Figure size 864x576 with 1 Axes>"
            ]
          },
          "metadata": {
            "tags": []
          }
        },
        {
          "output_type": "execute_result",
          "data": {
            "text/plain": [
              "157.1324075301604"
            ]
          },
          "metadata": {
            "tags": []
          },
          "execution_count": 14
        }
      ]
    },
    {
      "metadata": {
        "id": "5IZHJN4pyKV8",
        "colab_type": "code",
        "colab": {
          "base_uri": "https://localhost:8080/",
          "height": 605
        },
        "outputId": "6e172d14-7f5d-4f2c-f4c2-eb7039f426f4"
      },
      "cell_type": "code",
      "source": [
        "plt.figure(figsize=(12,8))\n",
        "sns.violinplot(data=train['num_unique_words'])\n",
        "plt.show()"
      ],
      "execution_count": 15,
      "outputs": [
        {
          "output_type": "stream",
          "text": [
            "/usr/local/lib/python3.6/dist-packages/seaborn/categorical.py:588: FutureWarning: remove_na is deprecated and is a private function. Do not use.\n",
            "  kde_data = remove_na(group_data)\n",
            "/usr/local/lib/python3.6/dist-packages/seaborn/categorical.py:816: FutureWarning: remove_na is deprecated and is a private function. Do not use.\n",
            "  violin_data = remove_na(group_data)\n",
            "/usr/local/lib/python3.6/dist-packages/scipy/stats/stats.py:1713: FutureWarning: Using a non-tuple sequence for multidimensional indexing is deprecated; use `arr[tuple(seq)]` instead of `arr[seq]`. In the future this will be interpreted as an array index, `arr[np.array(seq)]`, which will result either in an error or a different result.\n",
            "  return np.add.reduce(sorted[indexer] * weights, axis=axis) / sumval\n"
          ],
          "name": "stderr"
        },
        {
          "output_type": "display_data",
          "data": {
            "image/png": "[encoded data removed]",
            "text/plain": [
              "<Figure size 864x576 with 1 Axes>"
            ]
          },
          "metadata": {
            "tags": []
          }
        }
      ]
    },
    {
      "metadata": {
        "id": "OnfIgVU_ySNg",
        "colab_type": "code",
        "colab": {
          "base_uri": "https://localhost:8080/",
          "height": 605
        },
        "outputId": "e514a323-e9cc-432c-d141-0be196999153"
      },
      "cell_type": "code",
      "source": [
        "plt.figure(figsize=(12,8))\n",
        "sns.violinplot(data=train['num_chars'])\n",
        "plt.show()"
      ],
      "execution_count": 16,
      "outputs": [
        {
          "output_type": "stream",
          "text": [
            "/usr/local/lib/python3.6/dist-packages/seaborn/categorical.py:588: FutureWarning: remove_na is deprecated and is a private function. Do not use.\n",
            "  kde_data = remove_na(group_data)\n",
            "/usr/local/lib/python3.6/dist-packages/seaborn/categorical.py:816: FutureWarning: remove_na is deprecated and is a private function. Do not use.\n",
            "  violin_data = remove_na(group_data)\n",
            "/usr/local/lib/python3.6/dist-packages/scipy/stats/stats.py:1713: FutureWarning: Using a non-tuple sequence for multidimensional indexing is deprecated; use `arr[tuple(seq)]` instead of `arr[seq]`. In the future this will be interpreted as an array index, `arr[np.array(seq)]`, which will result either in an error or a different result.\n",
            "  return np.add.reduce(sorted[indexer] * weights, axis=axis) / sumval\n"
          ],
          "name": "stderr"
        },
        {
          "output_type": "display_data",
          "data": {
            "image/png": "[encoded data removed]",
            "text/plain": [
              "<Figure size 864x576 with 1 Axes>"
            ]
          },
          "metadata": {
            "tags": []
          }
        }
      ]
    },
    {
      "metadata": {
        "id": "GcELYSEKyf3P",
        "colab_type": "code",
        "colab": {
          "base_uri": "https://localhost:8080/",
          "height": 605
        },
        "outputId": "94949874-fb21-4338-ee8e-400119e790b5"
      },
      "cell_type": "code",
      "source": [
        "plt.figure(figsize=(12,8))\n",
        "sns.violinplot(data=train['num_stopwords'])\n",
        "plt.show()"
      ],
      "execution_count": 17,
      "outputs": [
        {
          "output_type": "stream",
          "text": [
            "/usr/local/lib/python3.6/dist-packages/seaborn/categorical.py:588: FutureWarning: remove_na is deprecated and is a private function. Do not use.\n",
            "  kde_data = remove_na(group_data)\n",
            "/usr/local/lib/python3.6/dist-packages/seaborn/categorical.py:816: FutureWarning: remove_na is deprecated and is a private function. Do not use.\n",
            "  violin_data = remove_na(group_data)\n",
            "/usr/local/lib/python3.6/dist-packages/scipy/stats/stats.py:1713: FutureWarning: Using a non-tuple sequence for multidimensional indexing is deprecated; use `arr[tuple(seq)]` instead of `arr[seq]`. In the future this will be interpreted as an array index, `arr[np.array(seq)]`, which will result either in an error or a different result.\n",
            "  return np.add.reduce(sorted[indexer] * weights, axis=axis) / sumval\n"
          ],
          "name": "stderr"
        },
        {
          "output_type": "display_data",
          "data": {
            "image/png": "[encoded data removed]",
            "text/plain": [
              "<Figure size 864x576 with 1 Axes>"
            ]
          },
          "metadata": {
            "tags": []
          }
        }
      ]
    },
    {
      "metadata": {
        "id": "LimZaadqympC",
        "colab_type": "code",
        "colab": {
          "base_uri": "https://localhost:8080/",
          "height": 605
        },
        "outputId": "6300ac34-ac09-46b6-d8fc-d332003dafa8"
      },
      "cell_type": "code",
      "source": [
        "plt.figure(figsize=(12,8))\n",
        "sns.violinplot(data=train['num_punctuations'])\n",
        "plt.show()"
      ],
      "execution_count": 18,
      "outputs": [
        {
          "output_type": "stream",
          "text": [
            "/usr/local/lib/python3.6/dist-packages/seaborn/categorical.py:588: FutureWarning: remove_na is deprecated and is a private function. Do not use.\n",
            "  kde_data = remove_na(group_data)\n",
            "/usr/local/lib/python3.6/dist-packages/seaborn/categorical.py:816: FutureWarning: remove_na is deprecated and is a private function. Do not use.\n",
            "  violin_data = remove_na(group_data)\n",
            "/usr/local/lib/python3.6/dist-packages/scipy/stats/stats.py:1713: FutureWarning: Using a non-tuple sequence for multidimensional indexing is deprecated; use `arr[tuple(seq)]` instead of `arr[seq]`. In the future this will be interpreted as an array index, `arr[np.array(seq)]`, which will result either in an error or a different result.\n",
            "  return np.add.reduce(sorted[indexer] * weights, axis=axis) / sumval\n"
          ],
          "name": "stderr"
        },
        {
          "output_type": "display_data",
          "data": {
            "image/png": "[encoded data removed]",
            "text/plain": [
              "<Figure size 864x576 with 1 Axes>"
            ]
          },
          "metadata": {
            "tags": []
          }
        }
      ]
    },
    {
      "metadata": {
        "id": "f7CgufFWyo_2",
        "colab_type": "code",
        "colab": {
          "base_uri": "https://localhost:8080/",
          "height": 605
        },
        "outputId": "0b367945-d991-42a0-e301-28a3ef54d27a"
      },
      "cell_type": "code",
      "source": [
        "plt.figure(figsize=(12,8))\n",
        "sns.violinplot(data=train['num_words_upper'])\n",
        "plt.show()"
      ],
      "execution_count": 19,
      "outputs": [
        {
          "output_type": "stream",
          "text": [
            "/usr/local/lib/python3.6/dist-packages/seaborn/categorical.py:588: FutureWarning: remove_na is deprecated and is a private function. Do not use.\n",
            "  kde_data = remove_na(group_data)\n",
            "/usr/local/lib/python3.6/dist-packages/seaborn/categorical.py:816: FutureWarning: remove_na is deprecated and is a private function. Do not use.\n",
            "  violin_data = remove_na(group_data)\n",
            "/usr/local/lib/python3.6/dist-packages/scipy/stats/stats.py:1713: FutureWarning: Using a non-tuple sequence for multidimensional indexing is deprecated; use `arr[tuple(seq)]` instead of `arr[seq]`. In the future this will be interpreted as an array index, `arr[np.array(seq)]`, which will result either in an error or a different result.\n",
            "  return np.add.reduce(sorted[indexer] * weights, axis=axis) / sumval\n"
          ],
          "name": "stderr"
        },
        {
          "output_type": "display_data",
          "data": {
            "image/png": "[encoded data removed]",
            "text/plain": [
              "<Figure size 864x576 with 1 Axes>"
            ]
          },
          "metadata": {
            "tags": []
          }
        }
      ]
    },
    {
      "metadata": {
        "id": "IWwtERVHy0LQ",
        "colab_type": "code",
        "colab": {
          "base_uri": "https://localhost:8080/",
          "height": 605
        },
        "outputId": "696914fa-62e0-4519-b78b-9a349398736e"
      },
      "cell_type": "code",
      "source": [
        "plt.figure(figsize=(12,8))\n",
        "sns.violinplot(data=train['num_words_title'])\n",
        "plt.show()"
      ],
      "execution_count": 20,
      "outputs": [
        {
          "output_type": "stream",
          "text": [
            "/usr/local/lib/python3.6/dist-packages/seaborn/categorical.py:588: FutureWarning: remove_na is deprecated and is a private function. Do not use.\n",
            "  kde_data = remove_na(group_data)\n",
            "/usr/local/lib/python3.6/dist-packages/seaborn/categorical.py:816: FutureWarning: remove_na is deprecated and is a private function. Do not use.\n",
            "  violin_data = remove_na(group_data)\n",
            "/usr/local/lib/python3.6/dist-packages/scipy/stats/stats.py:1713: FutureWarning: Using a non-tuple sequence for multidimensional indexing is deprecated; use `arr[tuple(seq)]` instead of `arr[seq]`. In the future this will be interpreted as an array index, `arr[np.array(seq)]`, which will result either in an error or a different result.\n",
            "  return np.add.reduce(sorted[indexer] * weights, axis=axis) / sumval\n"
          ],
          "name": "stderr"
        },
        {
          "output_type": "display_data",
          "data": {
            "image/png": "[encoded data removed]",
            "text/plain": [
              "<Figure size 864x576 with 1 Axes>"
            ]
          },
          "metadata": {
            "tags": []
          }
        }
      ]
    },
    {
      "metadata": {
        "id": "oF8y4vGqy7X1",
        "colab_type": "code",
        "colab": {
          "base_uri": "https://localhost:8080/",
          "height": 605
        },
        "outputId": "71f1271b-bf1f-4d4d-e9cb-d3fddd484b92"
      },
      "cell_type": "code",
      "source": [
        "plt.figure(figsize=(12,8))\n",
        "sns.violinplot(data=train['mean_word_len'])\n",
        "plt.show()\n",
        "#Lenght of most word lies between 4 to 5"
      ],
      "execution_count": 21,
      "outputs": [
        {
          "output_type": "stream",
          "text": [
            "/usr/local/lib/python3.6/dist-packages/seaborn/categorical.py:588: FutureWarning: remove_na is deprecated and is a private function. Do not use.\n",
            "  kde_data = remove_na(group_data)\n",
            "/usr/local/lib/python3.6/dist-packages/seaborn/categorical.py:816: FutureWarning: remove_na is deprecated and is a private function. Do not use.\n",
            "  violin_data = remove_na(group_data)\n",
            "/usr/local/lib/python3.6/dist-packages/scipy/stats/stats.py:1713: FutureWarning: Using a non-tuple sequence for multidimensional indexing is deprecated; use `arr[tuple(seq)]` instead of `arr[seq]`. In the future this will be interpreted as an array index, `arr[np.array(seq)]`, which will result either in an error or a different result.\n",
            "  return np.add.reduce(sorted[indexer] * weights, axis=axis) / sumval\n"
          ],
          "name": "stderr"
        },
        {
          "output_type": "display_data",
          "data": {
            "image/png": "[encoded data removed]",
            "text/plain": [
              "<Figure size 864x576 with 1 Axes>"
            ]
          },
          "metadata": {
            "tags": []
          }
        }
      ]
    },
    {
      "metadata": {
        "id": "hYEc7Ulyzc9O",
        "colab_type": "code",
        "colab": {
          "base_uri": "https://localhost:8080/",
          "height": 466
        },
        "outputId": "8905be49-ace7-4482-c351-f76c86107062"
      },
      "cell_type": "code",
      "source": [
        "d1 = sns.distplot(train['num_words'])\n",
        "#Distribution of word "
      ],
      "execution_count": 22,
      "outputs": [
        {
          "output_type": "stream",
          "text": [
            "/usr/local/lib/python3.6/dist-packages/scipy/stats/stats.py:1713: FutureWarning: Using a non-tuple sequence for multidimensional indexing is deprecated; use `arr[tuple(seq)]` instead of `arr[seq]`. In the future this will be interpreted as an array index, `arr[np.array(seq)]`, which will result either in an error or a different result.\n",
            "  return np.add.reduce(sorted[indexer] * weights, axis=axis) / sumval\n",
            "/usr/local/lib/python3.6/dist-packages/matplotlib/axes/_axes.py:6521: MatplotlibDeprecationWarning: \n",
            "The 'normed' kwarg was deprecated in Matplotlib 2.1 and will be removed in 3.1. Use 'density' instead.\n",
            "  alternative=\"'density'\", removal=\"3.1\")\n"
          ],
          "name": "stderr"
        },
        {
          "output_type": "display_data",
          "data": {
            "image/png": "[encoded data removed]",
            "text/plain": [
              "<Figure size 576x396 with 1 Axes>"
            ]
          },
          "metadata": {
            "tags": []
          }
        }
      ]
    },
    {
      "metadata": {
        "id": "X5hCwzzf0C_K",
        "colab_type": "code",
        "colab": {
          "base_uri": "https://localhost:8080/",
          "height": 374
        },
        "outputId": "86b56829-4cb1-4a2c-e0b9-8659f54e03ae"
      },
      "cell_type": "code",
      "source": [
        "#Find the most common word across\n",
        "freq = pd.Series(' '.join(train['Description']).split()).value_counts()[:20]\n",
        "print(freq)\n",
        "\n",
        "# Most common words are : the , and , a , to , was"
      ],
      "execution_count": 24,
      "outputs": [
        {
          "output_type": "stream",
          "text": [
            "the      248806\n",
            "and      162205\n",
            "a        132566\n",
            "to       120620\n",
            "was      103169\n",
            "I         76959\n",
            "in        71656\n",
            "of        64365\n",
            "The       61001\n",
            "is        58109\n",
            "for       55194\n",
            "we        40132\n",
            "hotel     38576\n",
            "at        36896\n",
            "were      36094\n",
            "room      35803\n",
            "with      33836\n",
            "it        33553\n",
            "but       32770\n",
            "that      32739\n",
            "dtype: int64\n"
          ],
          "name": "stdout"
        }
      ]
    },
    {
      "metadata": {
        "id": "F-knIesf0krR",
        "colab_type": "code",
        "colab": {
          "base_uri": "https://localhost:8080/",
          "height": 1071
        },
        "outputId": "8c5c5527-c888-42a7-8c72-a683920f4bfe"
      },
      "cell_type": "code",
      "source": [
        "#List of word occur only once in the entire context\n",
        "freq = pd.Series(' '.join(train['Description']).split()).value_counts()[-18000:]\n",
        "print(freq)"
      ],
      "execution_count": 25,
      "outputs": [
        {
          "output_type": "stream",
          "text": [
            "instructions!                              1\n",
            "ordered),                                  1\n",
            "walking),                                  1\n",
            "(Lyndhurst)                                1\n",
            "coffemaker                                 1\n",
            "were.....very                              1\n",
            "(M-Th.only).                               1\n",
            "HUP.                                       1\n",
            "LeSpa                                      1\n",
            "Heritage!                                  1\n",
            "before\"\"\"\"\"\"\"\"\"\"\"\"\"\"\"\"\"\"\"\"\"\"\"\"\"\"\"\"\"\"\"\".    1\n",
            "around--but                                1\n",
            "hours.....presumably                       1\n",
            "Charlie.                                   1\n",
            "Shelbourne                                 1\n",
            "Comfort-Inn                                1\n",
            "well.But                                   1\n",
            "alterations                                1\n",
            "phased                                     1\n",
            "Ckean                                      1\n",
            "AMC,                                       1\n",
            "dispayed                                   1\n",
            "(shipping                                  1\n",
            "age\"\"\"\"\"\"\"\"\"\"\"\"\"\"\"\"\"\"\"\"\"\"\"\"\"\"\"\"\"\"\"\"        1\n",
            "week?)                                     1\n",
            "super-short                                1\n",
            "sheets!!                                   1\n",
            "(yes!)                                     1\n",
            "somehwat                                   1\n",
            "coming!                                    1\n",
            "                                          ..\n",
            "OPI.                                       1\n",
            "over?                                      1\n",
            "square...what                              1\n",
            "ny).                                       1\n",
            "Zaza.                                      1\n",
            "picturesque(great                          1\n",
            "biter                                      1\n",
            "Three....nothing                           1\n",
            "Memphis!!                                  1\n",
            "\"\"\"\"\"\"\"\"\"\"\"\"\"\"\"\"\"\"\"\"\"\"\"\"\"\"\"\"\"\"\"\"Out        1\n",
            "resort-y.                                  1\n",
            "anywhere.The                               1\n",
            "notes----I                                 1\n",
            "first(this                                 1\n",
            "full...waited                              1\n",
            "open!).                                    1\n",
            "water-park                                 1\n",
            "Mahnattan                                  1\n",
            "boisterous,                                1\n",
            "pasture                                    1\n",
            "Phenomenal!!!!!                            1\n",
            "figuratively                               1\n",
            "gain!                                      1\n",
            "drafting                                   1\n",
            "before);                                   1\n",
            "terrible--stale                            1\n",
            "island's                                   1\n",
            "Safeco.                                    1\n",
            "coffee,pastries                            1\n",
            "(nice!!!)                                  1\n",
            "Length: 18000, dtype: int64\n"
          ],
          "name": "stdout"
        }
      ]
    },
    {
      "metadata": {
        "id": "9LDDqlFc10ZX",
        "colab_type": "code",
        "colab": {}
      },
      "cell_type": "code",
      "source": [
        "train_target = train['Is_Response']\n",
        "del train['Is_Response']"
      ],
      "execution_count": 0,
      "outputs": []
    },
    {
      "metadata": {
        "id": "3eh53k5t06ZP",
        "colab_type": "code",
        "colab": {}
      },
      "cell_type": "code",
      "source": [
        "#Now model the same with tfidf and logistic regression\n",
        "train_text = train['Description']\n",
        "test_text = test['Description']\n",
        "all_text = pd.concat([train_text, test_text])\n",
        "\n",
        "word_vectorizer = TfidfVectorizer(\n",
        "    sublinear_tf=True,\n",
        "    strip_accents='unicode',\n",
        "    analyzer='word',\n",
        "    token_pattern=r'\\w{1,}',\n",
        "    stop_words='english',\n",
        "    ngram_range=(1, 1),\n",
        "    max_features=5000)\n",
        "word_vectorizer.fit(all_text)\n",
        "train_word_features = word_vectorizer.transform(train_text)\n",
        "test_word_features = word_vectorizer.transform(test_text)"
      ],
      "execution_count": 0,
      "outputs": []
    },
    {
      "metadata": {
        "id": "r9ifrH9E1Wov",
        "colab_type": "code",
        "colab": {
          "base_uri": "https://localhost:8080/",
          "height": 34
        },
        "outputId": "c5188b69-24f1-4381-9d77-87c263a4803a"
      },
      "cell_type": "code",
      "source": [
        "kf = KFold(n_splits=5, shuffle=True, random_state=43)\n",
        "test_pred_tf = 0\n",
        "oof_pred_tf = np.zeros([train.shape[0],])\n",
        "\n",
        "for i, (train_index, val_index) in tqdm(enumerate(kf.split(train))):\n",
        "    x_train, x_val = train_word_features[train_index,:], train_word_features[val_index,:]\n",
        "    y_train, y_val = train_target[train_index], train_target[val_index]\n",
        "    classifier = LogisticRegression(class_weight = \"balanced\", C=0.5, solver='sag')\n",
        "    classifier.fit(x_train, y_train)\n",
        "    val_preds = classifier.predict_proba(x_val)[:,1]\n",
        "    preds = classifier.predict_proba(test_word_features)[:,1]\n",
        "    #test_pred_tf += 0.2*preds\n",
        "    oof_pred_tf[val_index] = val_preds"
      ],
      "execution_count": 52,
      "outputs": [
        {
          "output_type": "stream",
          "text": [
            "5it [00:02,  1.84it/s]\n"
          ],
          "name": "stderr"
        }
      ]
    },
    {
      "metadata": {
        "id": "zusnX-lqBLzM",
        "colab_type": "code",
        "colab": {
          "base_uri": "https://localhost:8080/",
          "height": 34
        },
        "outputId": "36846b29-5a6e-4762-fe13-e3a5109db7d0"
      },
      "cell_type": "code",
      "source": [
        "pred_train = (oof_pred_tf > 0.3).astype(np.int)\n",
        "f1_score(train_target, pred_train)\n",
        "print(preds)"
      ],
      "execution_count": 55,
      "outputs": [
        {
          "output_type": "stream",
          "text": [
            "[0.17377676 0.5951362  0.92246787 ... 0.86254866 0.4574228  0.44454378]\n"
          ],
          "name": "stdout"
        }
      ]
    },
    {
      "metadata": {
        "id": "Ofw_TV6yBfWw",
        "colab_type": "code",
        "colab": {
          "base_uri": "https://localhost:8080/",
          "height": 714
        },
        "outputId": "63aba65a-eeb0-40fc-bd7c-d20edf43d091"
      },
      "cell_type": "code",
      "source": [
        "\n",
        "for thresh in np.arange(0.1, 0.501, 0.01):\n",
        "    thresh = np.round(thresh, 2)\n",
        "    print(\"F1 score at threshold {0} is {1}\".format(thresh, f1_score(train_target, (oof_pred_tf>thresh).astype(int))))"
      ],
      "execution_count": 57,
      "outputs": [
        {
          "output_type": "stream",
          "text": [
            "F1 score at threshold 0.1 is 0.8602358480650789\n",
            "F1 score at threshold 0.11 is 0.8648076841704396\n",
            "F1 score at threshold 0.12 is 0.8690990320178704\n",
            "F1 score at threshold 0.13 is 0.8733919818489266\n",
            "F1 score at threshold 0.14 is 0.8771303150284041\n",
            "F1 score at threshold 0.15 is 0.8804655892343306\n",
            "F1 score at threshold 0.16 is 0.884063016798677\n",
            "F1 score at threshold 0.17 is 0.8871052401364709\n",
            "F1 score at threshold 0.18 is 0.8897188049209138\n",
            "F1 score at threshold 0.19 is 0.8925616187471038\n",
            "F1 score at threshold 0.2 is 0.895244429664117\n",
            "F1 score at threshold 0.21 is 0.8971292398832988\n",
            "F1 score at threshold 0.22 is 0.8992261931386144\n",
            "F1 score at threshold 0.23 is 0.9014464109244452\n",
            "F1 score at threshold 0.24 is 0.9031079435247418\n",
            "F1 score at threshold 0.25 is 0.9051577683647813\n",
            "F1 score at threshold 0.26 is 0.9063871393164918\n",
            "F1 score at threshold 0.27 is 0.9076923076923076\n",
            "F1 score at threshold 0.28 is 0.9090659151831741\n",
            "F1 score at threshold 0.29 is 0.9093836246550138\n",
            "F1 score at threshold 0.3 is 0.9098169563511299\n",
            "F1 score at threshold 0.31 is 0.9102997729694666\n",
            "F1 score at threshold 0.32 is 0.9112310412208058\n",
            "F1 score at threshold 0.33 is 0.9121020298521408\n",
            "F1 score at threshold 0.34 is 0.9122584880885386\n",
            "F1 score at threshold 0.35 is 0.9124896998234255\n",
            "F1 score at threshold 0.36 is 0.9126337419400554\n",
            "F1 score at threshold 0.37 is 0.9126641695509933\n",
            "F1 score at threshold 0.38 is 0.9130114001475593\n",
            "F1 score at threshold 0.39 is 0.9126338944146902\n",
            "F1 score at threshold 0.4 is 0.9121375072018436\n",
            "F1 score at threshold 0.41 is 0.9117115379980236\n",
            "F1 score at threshold 0.42 is 0.9114401858304297\n",
            "F1 score at threshold 0.43 is 0.9108704099475422\n",
            "F1 score at threshold 0.44 is 0.9101194830529139\n",
            "F1 score at threshold 0.45 is 0.908912878509706\n",
            "F1 score at threshold 0.46 is 0.9081479660808652\n",
            "F1 score at threshold 0.47 is 0.9066041229477843\n",
            "F1 score at threshold 0.48 is 0.9047772516548083\n",
            "F1 score at threshold 0.49 is 0.9029817312957339\n",
            "F1 score at threshold 0.5 is 0.901859814018598\n"
          ],
          "name": "stdout"
        }
      ]
    },
    {
      "metadata": {
        "id": "wkU5DlCzDKPq",
        "colab_type": "code",
        "colab": {
          "base_uri": "https://localhost:8080/",
          "height": 204
        },
        "outputId": "07cbab96-37ad-439f-8ce7-344130021fe7"
      },
      "cell_type": "code",
      "source": [
        "check_1 = (preds>0.39).astype(int)\n",
        "out_df = pd.DataFrame({\"User_ID\":test[\"User_ID\"].values})\n",
        "out_df['Is_Response'] = check_1\n",
        "stars_dict = {1:'Good',0:'Bad'}\n",
        "out_df[\"Is_Response\"] = out_df['Is_Response'].replace(stars_dict,regex=True)\n",
        "out_df.to_csv(\"submission_log.csv\", index=False)\n",
        "out_df.head()"
      ],
      "execution_count": 58,
      "outputs": [
        {
          "output_type": "execute_result",
          "data": {
            "text/html": [
              "<div>\n",
              "<style scoped>\n",
              "    .dataframe tbody tr th:only-of-type {\n",
              "        vertical-align: middle;\n",
              "    }\n",
              "\n",
              "    .dataframe tbody tr th {\n",
              "        vertical-align: top;\n",
              "    }\n",
              "\n",
              "    .dataframe thead th {\n",
              "        text-align: right;\n",
              "    }\n",
              "</style>\n",
              "<table border=\"1\" class=\"dataframe\">\n",
              "  <thead>\n",
              "    <tr style=\"text-align: right;\">\n",
              "      <th></th>\n",
              "      <th>User_ID</th>\n",
              "      <th>Is_Response</th>\n",
              "    </tr>\n",
              "  </thead>\n",
              "  <tbody>\n",
              "    <tr>\n",
              "      <th>0</th>\n",
              "      <td>9602</td>\n",
              "      <td>Bad</td>\n",
              "    </tr>\n",
              "    <tr>\n",
              "      <th>1</th>\n",
              "      <td>8749</td>\n",
              "      <td>Good</td>\n",
              "    </tr>\n",
              "    <tr>\n",
              "      <th>2</th>\n",
              "      <td>15500</td>\n",
              "      <td>Good</td>\n",
              "    </tr>\n",
              "    <tr>\n",
              "      <th>3</th>\n",
              "      <td>5495</td>\n",
              "      <td>Good</td>\n",
              "    </tr>\n",
              "    <tr>\n",
              "      <th>4</th>\n",
              "      <td>18570</td>\n",
              "      <td>Good</td>\n",
              "    </tr>\n",
              "  </tbody>\n",
              "</table>\n",
              "</div>"
            ],
            "text/plain": [
              "   User_ID Is_Response\n",
              "0     9602         Bad\n",
              "1     8749        Good\n",
              "2    15500        Good\n",
              "3     5495        Good\n",
              "4    18570        Good"
            ]
          },
          "metadata": {
            "tags": []
          },
          "execution_count": 58
        }
      ]
    },
    {
      "metadata": {
        "id": "pYaLtomsIn92",
        "colab_type": "code",
        "colab": {
          "base_uri": "https://localhost:8080/",
          "height": 34
        },
        "outputId": "001ca8c8-fdbf-4b5e-8c8b-506d8834c3b5"
      },
      "cell_type": "code",
      "source": [
        "print(preds)"
      ],
      "execution_count": 47,
      "outputs": [
        {
          "output_type": "stream",
          "text": [
            "[0.17380625 0.59518084 0.92247927 ... 0.86255315 0.45742351 0.44458158]\n"
          ],
          "name": "stdout"
        }
      ]
    }
  ]
}