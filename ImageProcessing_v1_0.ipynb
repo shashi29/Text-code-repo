{
  "nbformat": 4,
  "nbformat_minor": 0,
  "metadata": {
    "colab": {
      "name": "ImageProcessing_v1.0",
      "provenance": [],
      "collapsed_sections": [],
      "toc_visible": true,
      "machine_shape": "hm",
      "authorship_tag": "ABX9TyPVXLCuTuM58Qm/3Z+Fhopf",
      "include_colab_link": true
    },
    "kernelspec": {
      "name": "python3",
      "display_name": "Python 3"
    },
    "accelerator": "GPU"
  },
  "cells": [
    {
      "cell_type": "markdown",
      "metadata": {
        "id": "view-in-github",
        "colab_type": "text"
      },
      "source": [
        "<a href=\"https://colab.research.google.com/github/shashi29/Text-code-repo/blob/master/ImageProcessing_v1_0.ipynb\" target=\"_parent\"><img src=\"https://colab.research.google.com/assets/colab-badge.svg\" alt=\"Open In Colab\"/></a>"
      ]
    },
    {
      "cell_type": "code",
      "metadata": {
        "id": "swLTspGG5hRM",
        "colab_type": "code",
        "colab": {}
      },
      "source": [
        "import cv2\n",
        "import numpy as np\n",
        "import pandas as pd\n",
        "import xml.etree.ElementTree as ET\n",
        "import sys\n",
        "import glob\n",
        "\n",
        "import matplotlib.pyplot as plt\n",
        "import csv\n",
        "try:\n",
        "    from PIL import Image\n",
        "except ImportError:\n",
        "    import Image\n",
        "\n",
        "from google.colab.patches import cv2_imshow"
      ],
      "execution_count": null,
      "outputs": []
    },
    {
      "cell_type": "markdown",
      "metadata": {
        "id": "EjGzYOjL2ptX",
        "colab_type": "text"
      },
      "source": [
        "## Basic Image processing :\n",
        "Extract all the rectangles"
      ]
    },
    {
      "cell_type": "code",
      "metadata": {
        "id": "fbWN7YYd6PFN",
        "colab_type": "code",
        "colab": {}
      },
      "source": [
        "def sort_contours(cnts, method=\"left-to-right\"):\n",
        "  # initialize the reverse flag and sort index\n",
        "  reverse = False\n",
        "  i = 0\n",
        "  # handle if we need to sort in reverse\n",
        "  if method == \"right-to-left\" or method == \"bottom-to-top\":\n",
        "      reverse = True\n",
        "  # handle if we are sorting against the y-coordinate rather than\n",
        "  # the x-coordinate of the bounding box\n",
        "  if method == \"top-to-bottom\" or method == \"bottom-to-top\":\n",
        "      i = 1\n",
        "  # construct the list of bounding boxes and sort them from top to\n",
        "  # bottom\n",
        "  boundingBoxes = [cv2.boundingRect(c) for c in cnts]\n",
        "  (cnts, boundingBoxes) = zip(*sorted(zip(cnts, boundingBoxes),\n",
        "  key=lambda b:b[1][i], reverse=reverse))\n",
        "  # return the list of sorted contours and bounding boxes\n",
        "  return (cnts, boundingBoxes)\n",
        "\n",
        "def find_vertical_horizontal(img, img_bin):\n",
        "\n",
        "  kernel_len = np.array(img).shape[1]//100\n",
        "  ver_kernel = cv2.getStructuringElement(cv2.MORPH_RECT, (1, kernel_len))\n",
        "  hor_kernel = cv2.getStructuringElement(cv2.MORPH_RECT, (kernel_len, 1))\n",
        "  kernel = cv2.getStructuringElement(cv2.MORPH_RECT, (2, 2))\n",
        "  image_1 = cv2.erode(img_bin, ver_kernel, iterations=3)\n",
        "  vertical_lines = cv2.dilate(image_1, ver_kernel, iterations=6)\n",
        "  \n",
        "  image_2 = cv2.erode(img_bin, hor_kernel, iterations=3)\n",
        "  horizontal_lines = cv2.dilate(image_2, hor_kernel, iterations=25)\n",
        "  horizontal_lines = cv2.erode(horizontal_lines,hor_kernel,iterations = 20)\n",
        "  \n",
        "  img_vh = cv2.addWeighted(vertical_lines, 0.5, horizontal_lines, 0.5, 0.0)\n",
        "  img_vh = cv2.erode(~img_vh, kernel, iterations=2)\n",
        "  thresh, img_vh = cv2.threshold(img_vh,128,255, cv2.THRESH_BINARY | cv2.THRESH_OTSU)\n",
        "  return img_vh\n",
        "\n",
        "def process(file):\n",
        "  #Step 1\n",
        "  imgOrig = cv2.imread(file)\n",
        "  img = cv2.imread(file,0)\n",
        "  thresh,img_bin = cv2.threshold(img,128,255,cv2.THRESH_BINARY |cv2.THRESH_OTSU)\n",
        "  #inverting the image \n",
        "  img_bin = 255-img_bin\n",
        "\n",
        "  #Step 2\n",
        "  table_img = find_vertical_horizontal(img, img_bin)\n",
        "  #cv2_imshow(table_img)\n",
        "\n",
        "  #Step 3\n",
        "  contours, hierarchy = cv2.findContours(table_img, cv2.RETR_TREE, cv2.CHAIN_APPROX_SIMPLE)\n",
        "    # Sort all the contours by top to bottom.\n",
        "  contours, boundingBoxes = sort_contours(contours, method=\"top-to-bottom\")\n",
        "\n",
        "  #Creating a list of heights for all detected boxes\n",
        "  heights = [boundingBoxes[i][3] for i in range(len(boundingBoxes))]\n",
        "  #Get mean of heights\n",
        "  mean = np.mean(heights)\n",
        "\n",
        "  box = []\n",
        "  crop_img = []\n",
        "  # Get position (x,y), width and height for every contour and show the contour on image\n",
        "  for c in contours:\n",
        "      x, y, w, h = cv2.boundingRect(c)\n",
        "      if (h>10):\n",
        "          image = cv2.rectangle(img,(x,y),(x+w,y+h),(0,255,0),2)\n",
        "          box.append([x,y,w,h])\n",
        "          crop_im = imgOrig[y:y+h,x:x+w]\n",
        "          #cv2.namedWindow(\"crop image\",cv2.WINDOW_NORMAL)\n",
        "          #cv2_imshow(crop_im)\n",
        "          crop_img.append(crop_im)\n",
        "          #cv2.waitKey(0)    \n",
        "  #cv2_imshow(image)\n",
        "  return crop_img, box\n"
      ],
      "execution_count": null,
      "outputs": []
    },
    {
      "cell_type": "code",
      "metadata": {
        "id": "0pJ3eDk_6Smf",
        "colab_type": "code",
        "colab": {}
      },
      "source": [
        "img_path = \"/content/Ashok-10002972_02.pdfpage_1.JPEG\"\n",
        "#for img_path in glob.glob(\"*.JPEG\"):\n",
        "crop_imgs, box = process(img_path)"
      ],
      "execution_count": null,
      "outputs": []
    },
    {
      "cell_type": "markdown",
      "metadata": {
        "id": "y6b0Ee3Z2zSf",
        "colab_type": "text"
      },
      "source": [
        "##Text detctor and reconization network"
      ]
    },
    {
      "cell_type": "code",
      "metadata": {
        "id": "xmx1qqhpNPKY",
        "colab_type": "code",
        "colab": {
          "base_uri": "https://localhost:8080/",
          "height": 119
        },
        "outputId": "9bf8fcb8-77d5-43e9-be05-6d78b8d1bbdc"
      },
      "source": [
        "!git clone https://github.com/dipu-bd/craft-moran-ocr.git\n",
        "!mv craft-moran-ocr/* ."
      ],
      "execution_count": null,
      "outputs": [
        {
          "output_type": "stream",
          "text": [
            "Cloning into 'craft-moran-ocr'...\n",
            "remote: Enumerating objects: 77, done.\u001b[K\n",
            "remote: Counting objects:   1% (1/77)\u001b[K\rremote: Counting objects:   2% (2/77)\u001b[K\rremote: Counting objects:   3% (3/77)\u001b[K\rremote: Counting objects:   5% (4/77)\u001b[K\rremote: Counting objects:   6% (5/77)\u001b[K\rremote: Counting objects:   7% (6/77)\u001b[K\rremote: Counting objects:   9% (7/77)\u001b[K\rremote: Counting objects:  10% (8/77)\u001b[K\rremote: Counting objects:  11% (9/77)\u001b[K\rremote: Counting objects:  12% (10/77)\u001b[K\rremote: Counting objects:  14% (11/77)\u001b[K\rremote: Counting objects:  15% (12/77)\u001b[K\rremote: Counting objects:  16% (13/77)\u001b[K\rremote: Counting objects:  18% (14/77)\u001b[K\rremote: Counting objects:  19% (15/77)\u001b[K\rremote: Counting objects:  20% (16/77)\u001b[K\rremote: Counting objects:  22% (17/77)\u001b[K\rremote: Counting objects:  23% (18/77)\u001b[K\rremote: Counting objects:  24% (19/77)\u001b[K\rremote: Counting objects:  25% (20/77)\u001b[K\rremote: Counting objects:  27% (21/77)\u001b[K\rremote: Counting objects:  28% (22/77)\u001b[K\rremote: Counting objects:  29% (23/77)\u001b[K\rremote: Counting objects:  31% (24/77)\u001b[K\rremote: Counting objects:  32% (25/77)\u001b[K\rremote: Counting objects:  33% (26/77)\u001b[K\rremote: Counting objects:  35% (27/77)\u001b[K\rremote: Counting objects:  36% (28/77)\u001b[K\rremote: Counting objects:  37% (29/77)\u001b[K\rremote: Counting objects:  38% (30/77)\u001b[K\rremote: Counting objects:  40% (31/77)\u001b[K\rremote: Counting objects:  41% (32/77)\u001b[K\rremote: Counting objects:  42% (33/77)\u001b[K\rremote: Counting objects:  44% (34/77)\u001b[K\rremote: Counting objects:  45% (35/77)\u001b[K\rremote: Counting objects:  46% (36/77)\u001b[K\rremote: Counting objects:  48% (37/77)\u001b[K\rremote: Counting objects:  49% (38/77)\u001b[K\rremote: Counting objects:  50% (39/77)\u001b[K\rremote: Counting objects:  51% (40/77)\u001b[K\rremote: Counting objects:  53% (41/77)\u001b[K\rremote: Counting objects:  54% (42/77)\u001b[K\rremote: Counting objects:  55% (43/77)\u001b[K\rremote: Counting objects:  57% (44/77)\u001b[K\rremote: Counting objects:  58% (45/77)\u001b[K\rremote: Counting objects:  59% (46/77)\u001b[K\rremote: Counting objects:  61% (47/77)\u001b[K\rremote: Counting objects:  62% (48/77)\u001b[K\rremote: Counting objects:  63% (49/77)\u001b[K\rremote: Counting objects:  64% (50/77)\u001b[K\rremote: Counting objects:  66% (51/77)\u001b[K\rremote: Counting objects:  67% (52/77)\u001b[K\rremote: Counting objects:  68% (53/77)\u001b[K\rremote: Counting objects:  70% (54/77)\u001b[K\rremote: Counting objects:  71% (55/77)\u001b[K\rremote: Counting objects:  72% (56/77)\u001b[K\rremote: Counting objects:  74% (57/77)\u001b[K\rremote: Counting objects:  75% (58/77)\u001b[K\rremote: Counting objects:  76% (59/77)\u001b[K\rremote: Counting objects:  77% (60/77)\u001b[K\rremote: Counting objects:  79% (61/77)\u001b[K\rremote: Counting objects:  80% (62/77)\u001b[K\rremote: Counting objects:  81% (63/77)\u001b[K\rremote: Counting objects:  83% (64/77)\u001b[K\rremote: Counting objects:  84% (65/77)\u001b[K\rremote: Counting objects:  85% (66/77)\u001b[K\rremote: Counting objects:  87% (67/77)\u001b[K\rremote: Counting objects:  88% (68/77)\u001b[K\rremote: Counting objects:  89% (69/77)\u001b[K\rremote: Counting objects:  90% (70/77)\u001b[K\rremote: Counting objects:  92% (71/77)\u001b[K\rremote: Counting objects:  93% (72/77)\u001b[K\rremote: Counting objects:  94% (73/77)\u001b[K\rremote: Counting objects:  96% (74/77)\u001b[K\rremote: Counting objects:  97% (75/77)\u001b[K\rremote: Counting objects:  98% (76/77)\u001b[K\rremote: Counting objects: 100% (77/77)\u001b[K\rremote: Counting objects: 100% (77/77), done.\u001b[K\n",
            "remote: Compressing objects:   1% (1/59)\u001b[K\rremote: Compressing objects:   3% (2/59)\u001b[K\rremote: Compressing objects:   5% (3/59)\u001b[K\rremote: Compressing objects:   6% (4/59)\u001b[K\rremote: Compressing objects:   8% (5/59)\u001b[K\rremote: Compressing objects:  10% (6/59)\u001b[K\rremote: Compressing objects:  11% (7/59)\u001b[K\rremote: Compressing objects:  13% (8/59)\u001b[K\rremote: Compressing objects:  15% (9/59)\u001b[K\rremote: Compressing objects:  16% (10/59)\u001b[K\rremote: Compressing objects:  18% (11/59)\u001b[K\rremote: Compressing objects:  20% (12/59)\u001b[K\rremote: Compressing objects:  22% (13/59)\u001b[K\rremote: Compressing objects:  23% (14/59)\u001b[K\rremote: Compressing objects:  25% (15/59)\u001b[K\rremote: Compressing objects:  27% (16/59)\u001b[K\rremote: Compressing objects:  28% (17/59)\u001b[K\rremote: Compressing objects:  30% (18/59)\u001b[K\rremote: Compressing objects:  32% (19/59)\u001b[K\rremote: Compressing objects:  33% (20/59)\u001b[K\rremote: Compressing objects:  35% (21/59)\u001b[K\rremote: Compressing objects:  37% (22/59)\u001b[K\rremote: Compressing objects:  38% (23/59)\u001b[K\rremote: Compressing objects:  40% (24/59)\u001b[K\rremote: Compressing objects:  42% (25/59)\u001b[K\rremote: Compressing objects:  44% (26/59)\u001b[K\rremote: Compressing objects:  45% (27/59)\u001b[K\rremote: Compressing objects:  47% (28/59)\u001b[K\rremote: Compressing objects:  49% (29/59)\u001b[K\rremote: Compressing objects:  50% (30/59)\u001b[K\rremote: Compressing objects:  52% (31/59)\u001b[K\rremote: Compressing objects:  54% (32/59)\u001b[K\rremote: Compressing objects:  55% (33/59)\u001b[K\rremote: Compressing objects:  57% (34/59)\u001b[K\rremote: Compressing objects:  59% (35/59)\u001b[K\rremote: Compressing objects:  61% (36/59)\u001b[K\rremote: Compressing objects:  62% (37/59)\u001b[K\rremote: Compressing objects:  64% (38/59)\u001b[K\rremote: Compressing objects:  66% (39/59)\u001b[K\rremote: Compressing objects:  67% (40/59)\u001b[K\rremote: Compressing objects:  69% (41/59)\u001b[K\rremote: Compressing objects:  71% (42/59)\u001b[K\rremote: Compressing objects:  72% (43/59)\u001b[K\rremote: Compressing objects:  74% (44/59)\u001b[K\rremote: Compressing objects:  76% (45/59)\u001b[K\rremote: Compressing objects:  77% (46/59)\u001b[K\rremote: Compressing objects:  79% (47/59)\u001b[K\rremote: Compressing objects:  81% (48/59)\u001b[K\rremote: Compressing objects:  83% (49/59)\u001b[K\rremote: Compressing objects:  84% (50/59)\u001b[K\rremote: Compressing objects:  86% (51/59)\u001b[K\rremote: Compressing objects:  88% (52/59)\u001b[K\rremote: Compressing objects:  89% (53/59)\u001b[K\rremote: Compressing objects:  91% (54/59)\u001b[K\rremote: Compressing objects:  93% (55/59)\u001b[K\rremote: Compressing objects:  94% (56/59)\u001b[K\rremote: Compressing objects:  96% (57/59)\u001b[K\rremote: Compressing objects:  98% (58/59)\u001b[K\rremote: Compressing objects: 100% (59/59)\u001b[K\rremote: Compressing objects: 100% (59/59), done.\u001b[K\n",
            "Unpacking objects:   1% (1/77)   \rUnpacking objects:   2% (2/77)   \rUnpacking objects:   3% (3/77)   \rUnpacking objects:   5% (4/77)   \rUnpacking objects:   6% (5/77)   \rUnpacking objects:   7% (6/77)   \rUnpacking objects:   9% (7/77)   \rUnpacking objects:  10% (8/77)   \rUnpacking objects:  11% (9/77)   \rUnpacking objects:  12% (10/77)   \rUnpacking objects:  14% (11/77)   \rUnpacking objects:  15% (12/77)   \rUnpacking objects:  16% (13/77)   \rUnpacking objects:  18% (14/77)   \rUnpacking objects:  19% (15/77)   \rUnpacking objects:  20% (16/77)   \rUnpacking objects:  22% (17/77)   \rUnpacking objects:  23% (18/77)   \rUnpacking objects:  24% (19/77)   \rUnpacking objects:  25% (20/77)   \rUnpacking objects:  27% (21/77)   \rUnpacking objects:  28% (22/77)   \rUnpacking objects:  29% (23/77)   \rUnpacking objects:  31% (24/77)   \rremote: Total 77 (delta 22), reused 63 (delta 12), pack-reused 0\u001b[K\n",
            "Unpacking objects:  32% (25/77)   \rUnpacking objects:  33% (26/77)   \rUnpacking objects:  35% (27/77)   \rUnpacking objects:  36% (28/77)   \rUnpacking objects:  37% (29/77)   \rUnpacking objects:  38% (30/77)   \rUnpacking objects:  40% (31/77)   \rUnpacking objects:  41% (32/77)   \rUnpacking objects:  42% (33/77)   \rUnpacking objects:  44% (34/77)   \rUnpacking objects:  45% (35/77)   \rUnpacking objects:  46% (36/77)   \rUnpacking objects:  48% (37/77)   \rUnpacking objects:  49% (38/77)   \rUnpacking objects:  50% (39/77)   \rUnpacking objects:  51% (40/77)   \rUnpacking objects:  53% (41/77)   \rUnpacking objects:  54% (42/77)   \rUnpacking objects:  55% (43/77)   \rUnpacking objects:  57% (44/77)   \rUnpacking objects:  58% (45/77)   \rUnpacking objects:  59% (46/77)   \rUnpacking objects:  61% (47/77)   \rUnpacking objects:  62% (48/77)   \rUnpacking objects:  63% (49/77)   \rUnpacking objects:  64% (50/77)   \rUnpacking objects:  66% (51/77)   \rUnpacking objects:  67% (52/77)   \rUnpacking objects:  68% (53/77)   \rUnpacking objects:  70% (54/77)   \rUnpacking objects:  71% (55/77)   \rUnpacking objects:  72% (56/77)   \rUnpacking objects:  74% (57/77)   \rUnpacking objects:  75% (58/77)   \rUnpacking objects:  76% (59/77)   \rUnpacking objects:  77% (60/77)   \rUnpacking objects:  79% (61/77)   \rUnpacking objects:  80% (62/77)   \rUnpacking objects:  81% (63/77)   \rUnpacking objects:  83% (64/77)   \rUnpacking objects:  84% (65/77)   \rUnpacking objects:  85% (66/77)   \rUnpacking objects:  87% (67/77)   \rUnpacking objects:  88% (68/77)   \rUnpacking objects:  89% (69/77)   \rUnpacking objects:  90% (70/77)   \rUnpacking objects:  92% (71/77)   \rUnpacking objects:  93% (72/77)   \rUnpacking objects:  94% (73/77)   \rUnpacking objects:  96% (74/77)   \rUnpacking objects:  97% (75/77)   \rUnpacking objects:  98% (76/77)   \rUnpacking objects: 100% (77/77)   \rUnpacking objects: 100% (77/77), done.\n"
          ],
          "name": "stdout"
        }
      ]
    },
    {
      "cell_type": "code",
      "metadata": {
        "id": "lqjFmkPINzge",
        "colab_type": "code",
        "colab": {
          "base_uri": "https://localhost:8080/",
          "height": 527
        },
        "outputId": "96bc42c1-dc5e-47d4-8bb6-e0935ff34230"
      },
      "source": [
        "!bash init.sh"
      ],
      "execution_count": null,
      "outputs": [
        {
          "output_type": "stream",
          "text": [
            "mkdir: created directory 'data'\n",
            "\n",
            "--------- DOWNLOADING TRAINED DATA FOR CRAFT ------------\n",
            "  % Total    % Received % Xferd  Average Speed   Time    Time     Time  Current\n",
            "                                 Dload  Upload   Total   Spent    Left  Speed\n",
            "100   388    0   388    0     0    121      0 --:--:--  0:00:03 --:--:--   121\n",
            "100 79.3M    0 79.3M    0     0  15.9M      0 --:--:--  0:00:04 --:--:-- 67.2M\n",
            "craft_mlt_25k.pth | 2f8227d2def4037cdb3b34389dcf9ec1 | verified\n",
            "\n",
            "---------- DOWNLOADING REFINER DATA FOR CRAFT -----------\n",
            "  % Total    % Received % Xferd  Average Speed   Time    Time     Time  Current\n",
            "                                 Dload  Upload   Total   Spent    Left  Speed\n",
            "100   388    0   388    0     0    563      0 --:--:-- --:--:-- --:--:--   563\n",
            "100 1810k  100 1810k    0     0  1763k      0  0:00:01  0:00:01 --:--:-- 1763k\n",
            "craft_refiner_CTW1500.pth | 3d48f83540567d2a43d2f6ca4b4d9f13 | verified\n",
            "\n",
            "---------- DOWNLOADING TRAINED DATA FOR MORAN -----------\n",
            "  % Total    % Received % Xferd  Average Speed   Time    Time     Time  Current\n",
            "                                 Dload  Upload   Total   Spent    Left  Speed\n",
            "100   388    0   388    0     0     97      0 --:--:--  0:00:03 --:--:--    97\n",
            "100 77.7M    0 77.7M    0     0  15.2M      0 --:--:--  0:00:05 --:--:--  116M\n",
            "moran_v2_demo.pth | f1417448c934db65572f9fc261e18f09 | verified\n",
            "\n",
            "\n",
            "---------- INSTALL PIP REQUIREMENTS -----------\n",
            "\u001b[31mERROR: Invalid requirement: 'numpy=1.18.1' (from line 9 of requirements.txt)\n",
            "Hint: = is not a valid operator. Did you mean == ?\u001b[0m\n",
            "\n",
            "READY!\n",
            "\n"
          ],
          "name": "stdout"
        }
      ]
    },
    {
      "cell_type": "code",
      "metadata": {
        "id": "V-l6PHgUNbO4",
        "colab_type": "code",
        "colab": {
          "base_uri": "https://localhost:8080/",
          "height": 88
        },
        "outputId": "bcca8d88-3188-4a44-80b4-d5b817329dd9"
      },
      "source": [
        "from src.recognizer import Recognizer\n",
        "from src.detector import Detector\n",
        "\n",
        "#Load the model for Text detection and recognization\n",
        "detector = Detector()\n",
        "detector.load()\n",
        "recognizer = Recognizer()\n",
        "recognizer.load()"
      ],
      "execution_count": null,
      "outputs": [
        {
          "output_type": "stream",
          "text": [
            "/usr/local/lib/python3.6/dist-packages/torch/nn/modules/rnn.py:50: UserWarning: dropout option adds dropout after all but last recurrent layer, so non-zero dropout expects num_layers greater than 1, but got dropout=0.3 and num_layers=1\n",
            "  \"num_layers={}\".format(dropout, num_layers))\n"
          ],
          "name": "stderr"
        },
        {
          "output_type": "stream",
          "text": [
            "Loading pretrained model from /content/data/moran_v2_demo.pth\n"
          ],
          "name": "stdout"
        }
      ]
    },
    {
      "cell_type": "code",
      "metadata": {
        "id": "CV14tP-XSUPS",
        "colab_type": "code",
        "colab": {
          "base_uri": "https://localhost:8080/",
          "height": 921
        },
        "outputId": "499b52bd-fc1d-4b2f-9c6e-6d8d6c75fb90"
      },
      "source": [
        "!pip install colour\n",
        "!sudo apt install tesseract-ocr\n",
        "!pip install pytesseract"
      ],
      "execution_count": null,
      "outputs": [
        {
          "output_type": "stream",
          "text": [
            "Collecting colour\n",
            "  Downloading https://files.pythonhosted.org/packages/74/46/e81907704ab203206769dee1385dc77e1407576ff8f50a0681d0a6b541be/colour-0.1.5-py2.py3-none-any.whl\n",
            "Installing collected packages: colour\n",
            "Successfully installed colour-0.1.5\n",
            "Reading package lists... Done\n",
            "Building dependency tree       \n",
            "Reading state information... Done\n",
            "The following package was automatically installed and is no longer required:\n",
            "  libnvidia-common-440\n",
            "Use 'sudo apt autoremove' to remove it.\n",
            "The following additional packages will be installed:\n",
            "  tesseract-ocr-eng tesseract-ocr-osd\n",
            "The following NEW packages will be installed:\n",
            "  tesseract-ocr tesseract-ocr-eng tesseract-ocr-osd\n",
            "0 upgraded, 3 newly installed, 0 to remove and 33 not upgraded.\n",
            "Need to get 4,795 kB of archives.\n",
            "After this operation, 15.8 MB of additional disk space will be used.\n",
            "Get:1 http://archive.ubuntu.com/ubuntu bionic/universe amd64 tesseract-ocr-eng all 4.00~git24-0e00fe6-1.2 [1,588 kB]\n",
            "Get:2 http://archive.ubuntu.com/ubuntu bionic/universe amd64 tesseract-ocr-osd all 4.00~git24-0e00fe6-1.2 [2,989 kB]\n",
            "Get:3 http://archive.ubuntu.com/ubuntu bionic/universe amd64 tesseract-ocr amd64 4.00~git2288-10f4998a-2 [218 kB]\n",
            "Fetched 4,795 kB in 2s (2,234 kB/s)\n",
            "debconf: unable to initialize frontend: Dialog\n",
            "debconf: (No usable dialog-like program is installed, so the dialog based frontend cannot be used. at /usr/share/perl5/Debconf/FrontEnd/Dialog.pm line 76, <> line 3.)\n",
            "debconf: falling back to frontend: Readline\n",
            "debconf: unable to initialize frontend: Readline\n",
            "debconf: (This frontend requires a controlling tty.)\n",
            "debconf: falling back to frontend: Teletype\n",
            "dpkg-preconfigure: unable to re-open stdin: \n",
            "Selecting previously unselected package tesseract-ocr-eng.\n",
            "(Reading database ... 144379 files and directories currently installed.)\n",
            "Preparing to unpack .../tesseract-ocr-eng_4.00~git24-0e00fe6-1.2_all.deb ...\n",
            "Unpacking tesseract-ocr-eng (4.00~git24-0e00fe6-1.2) ...\n",
            "Selecting previously unselected package tesseract-ocr-osd.\n",
            "Preparing to unpack .../tesseract-ocr-osd_4.00~git24-0e00fe6-1.2_all.deb ...\n",
            "Unpacking tesseract-ocr-osd (4.00~git24-0e00fe6-1.2) ...\n",
            "Selecting previously unselected package tesseract-ocr.\n",
            "Preparing to unpack .../tesseract-ocr_4.00~git2288-10f4998a-2_amd64.deb ...\n",
            "Unpacking tesseract-ocr (4.00~git2288-10f4998a-2) ...\n",
            "Setting up tesseract-ocr-osd (4.00~git24-0e00fe6-1.2) ...\n",
            "Setting up tesseract-ocr-eng (4.00~git24-0e00fe6-1.2) ...\n",
            "Setting up tesseract-ocr (4.00~git2288-10f4998a-2) ...\n",
            "Processing triggers for man-db (2.8.3-2ubuntu0.1) ...\n",
            "Collecting pytesseract\n",
            "  Downloading https://files.pythonhosted.org/packages/1d/d8/521db389ff0aae32035bfda6ed39cb2c2e28521c47015f6431f07460c50a/pytesseract-0.3.4.tar.gz\n",
            "Requirement already satisfied: Pillow in /usr/local/lib/python3.6/dist-packages (from pytesseract) (7.0.0)\n",
            "Building wheels for collected packages: pytesseract\n",
            "  Building wheel for pytesseract (setup.py) ... \u001b[?25l\u001b[?25hdone\n",
            "  Created wheel for pytesseract: filename=pytesseract-0.3.4-py2.py3-none-any.whl size=13431 sha256=2733da570ed46c755f02e9f5a460bd22b0e89becbf299f404befb2c66fe13a77\n",
            "  Stored in directory: /root/.cache/pip/wheels/63/2a/a0/7596d2e0a73cf0aeffd6f6170862c4e73f3763b7827e48691a\n",
            "Successfully built pytesseract\n",
            "Installing collected packages: pytesseract\n",
            "Successfully installed pytesseract-0.3.4\n"
          ],
          "name": "stdout"
        }
      ]
    },
    {
      "cell_type": "code",
      "metadata": {
        "id": "A-cJJ8WAyzaN",
        "colab_type": "code",
        "colab": {}
      },
      "source": [
        "import pytesseract\n",
        "import warnings\n",
        "warnings.filterwarnings('ignore')"
      ],
      "execution_count": null,
      "outputs": []
    },
    {
      "cell_type": "code",
      "metadata": {
        "id": "etfzL7O3NjCJ",
        "colab_type": "code",
        "colab": {}
      },
      "source": [
        "img_path = \"/content/V-GGN-000740.pdfpage_1.JPEG\"\n",
        "import glob\n",
        "#for img_path in glob.glob(\"*.JPEG\"):\n",
        "crop_imgs, box = process(img_path)\n",
        "\n",
        "flag = 0\n",
        "\n",
        "info = list()\n",
        "for img, bb in zip(crop_imgs, box):\n",
        "    ocr_flag = 0\n",
        "    h, w,_ = img.shape\n",
        "    if w > 3500 and h > 450:\n",
        "        shop_info.append(img)\n",
        "        #continue\n",
        "    cv2_imshow(img)\n",
        "    crop_imgs,_,_,_ = detector.process(img)\n",
        "    result = ''\n",
        "    for im in crop_imgs:\n",
        "        try:\n",
        "          #cv2_imshow(im)\n",
        "          gray = cv2.cvtColor(im, cv2.COLOR_BGR2GRAY)\n",
        "          text, _, _ = recognizer.process(gray)\n",
        "          result += text\n",
        "          result += ' '\n",
        "        except Exception as ex:\n",
        "          print(ex)\n",
        "    #if result == 'slino ' or result == 'slno ' or result == 'slno 0 ':\n",
        "    flag = 1\n",
        "    print(result)\n",
        "    #if ocr_flag == 1:\n",
        "      #run pytessearct on image and update the result\n",
        "    #  result = pytesseract.image_to_string(img)\n",
        "\n",
        "    if flag == 1:\n",
        "      extractedInformation = pytesseract.image_to_string(img)\n",
        "      #if result != '' :#and extractedInformation != '':\n",
        "      #if h*w in range(24000,800000):#and len(crop_imgs) > 0:\n",
        "      crop_imgs,_,_,_ = detector.process(img)\n",
        "      if len(crop_imgs):\n",
        "        info.append([result,bb,extractedInformation])\n",
        "        print(result,bb,h*w)\n",
        "\n",
        "print(info)\n",
        "print(\"---------------------------------------------------------------------------\")\n",
        "print(\"\")"
      ],
      "execution_count": null,
      "outputs": []
    },
    {
      "cell_type": "code",
      "metadata": {
        "id": "d6zzXse2bG01",
        "colab_type": "code",
        "colab": {
          "base_uri": "https://localhost:8080/",
          "height": 1000
        },
        "outputId": "95c99c24-23d4-49f3-d266-70386ef5c1e4"
      },
      "source": [
        "info"
      ],
      "execution_count": null,
      "outputs": [
        {
          "output_type": "execute_result",
          "data": {
            "text/plain": [
              "[['gst registration no osaaaci5950l 12g shipment from itc limited sbu packaging a printing products factory plot noi 1 sector mesidcul haridwar249403 uttarakhand india telephone 911334304701 ',\n",
              "  [2943, 0, 2809, 599],\n",
              "  'GST Registration No\\n\\nShipment from\\n\\n \\n\\n: OSAAACI5950L1Z2G\\n> TC LIMITED\\n\\nSBU :Packaging & Printing Products Factory,\\n\\nPlot No:1,Sector - 11,JIE,SIDCUL Haridwar-249403.\\n\\nUttarakhand, India\\n\\nTelephone :91(1334)304701'],\n",
              " ['itc limited sbut packaging x printing products factory plot no 7 sector illibsideul haridwar249403 uttarakhand india telephone 911334304701 enduring lister allot pan aaaci5950l ',\n",
              "  [116, 0, 2823, 605],\n",
              "  'MENS\\n\\nenduring Value\\n\\n1TC LIMITED\\n\\n \\n\\nSBU :Packaging & Printing Products Factory,\\n\\nPlot No:1,Sector - 114, JJIE,SSIDCUL Haridwar-249403.\\n\\nUttarakhand,!India\\nTelephone :91(1334)304701\\nPAN : AAACI5950L'],\n",
              " ['tax invoice under rule of thei tax invoice credit and debit notes rules 20171 original for recepient ',\n",
              "  [120, 603, 5632, 354],\n",
              "  'TAX INVOICE\\n(UNDER RULE 46 OF THE TAX INVOICE, CREDIT AND DEBIT NOTES RULES, 2017)\\n\\nORIGINAL FOR RECEPIENT'],\n",
              " ['gst invoice no hosa2181013003210 invoice date 31012018 sap doc no 9027745 document currency inr ',\n",
              "  [4347, 957, 1405, 704],\n",
              "  'GST Invoice No. z H05A218101003210\\nInvoice Date : 31.01.2018\\n\\nSAP Doc No. : 90277475\\n\\nDocument Currency : INR'],\n",
              " ['bill to place of supply name tata global beverages ltd sampla plantpackaging center address cio sfs global ltd samplaberi road ismallia 11 bishwa tehsilsampla district rohtak india124517 state 8 state code sender haryana x 06 gstin osaaccoockize pani aabcto6002k ',\n",
              "  [2285, 957, 2058, 706],\n",
              "  'Bill to (Place of Supply)\\n\\nName:\\n\\nAddress:\\n\\nState & State code:\\nGSTIN:\\n\\nTata Global Beverages Ltd.\\n\\nSAMPLA PLANT-PACKAGING CENTER,\\n\\nClo SFS Globat Ltd,Sampla-Beri Road, Ismailia,\\n11 Bishwa, Tehsil-Sampla,District Rohtak,India-124517\\n\\nHaryana & 06\\nO6AABCTO0602K1ZP PAN: AABCTO602K'],\n",
              " ['ship to name tata global beverages ltd sampla plantipackaging center address cla sfs global ltd samplaiberi road ismallia 11 bishwa tehsilsampla district rohtak india124517 state 8 state code haryana 2 06 gstin osaaccoock21zp pan aabcto602k ',\n",
              "  [124, 959, 2157, 707],\n",
              "  'Ship to\\n\\nName : Tata Global Beverages Ltd.\\nSAMPLA PLANT-PACKAGING CENTER,\\nAddress : Clo SFS Global Ltd,Sampla-Beri Road, Ismailia,\\n\\n11 Bishwa, Tehsil-Sampla,District Rohtak,india-124517\\n\\nState & State code: Haryana & 06\\n\\nGSTIN: O6AABCT0602K1ZP PAN : AABCT0602K'],\n",
              " ['total amount ', [5368, 1666, 384, 258], 'Total Amount'],\n",
              " ['tcs ', [5131, 1666, 229, 258], 'TCS'],\n",
              " ['total gst amount ', [4739, 1666, 388, 258], 'Total\\nGST\\nAmount'],\n",
              " ['igst amount ', [4410, 1666, 325, 258], 'IGST\\nAmount'],\n",
              " ['igst rate co ', [4150, 1666, 254, 258], 'IGST\\nRate (%)'],\n",
              " ['taxable value ', [3793, 1666, 352, 258], 'Taxable\\n\\nValue'],\n",
              " ['pack q ins ', [3498, 1666, 289, 260], 'Pack & Ins'],\n",
              " ['freight ', [3179, 1668, 310, 258], 'Freight'],\n",
              " ['net value ', [2898, 1668, 274, 260], 'Net Value'],\n",
              " ['rate ', [2625, 1668, 268, 260], 'Rate\\n{(Per/UOM)'],\n",
              " ['qty ', [2285, 1668, 333, 261], 'QTY'],\n",
              " ['uom ', [2127, 1670, 154, 260], ''],\n",
              " ['no i of packages ', [1868, 1670, 252, 260], '. No. of\\nPackages'],\n",
              " ['material no i cust order no ',\n",
              "  [1374, 1670, 490, 260],\n",
              "  'Cust . Material No\\n-{ Cust. Order No.'],\n",
              " ['part noddssription ', [427, 1672, 943, 260], 'Part No./Description'],\n",
              " ['hsn code description ', [129, 1672, 291, 260], 'HSN Code\\n/\\nDescriptio!'],\n",
              " ['170029286 ', [5368, 1930, 384, 256], '1700292.86'],\n",
              " ['o 00 ', [5131, 1930, 229, 259], '0.00'],\n",
              " ['25937 00 ', [4741, 1930, 386, 259], '259367.00'],\n",
              " ['2593700 ', [4410, 1930, 325, 259], '259367 .00'],\n",
              " ['18 ', [4152, 1930, 252, 259], '18.00'],\n",
              " ['1440925 i 36 ', [3793, 1930, 352, 259], '1440925.86'],\n",
              " ['0 00 000 ', [3497, 1932, 290, 257], '0.00\\n0.00'],\n",
              " ['o 00 ', [3179, 1932, 312, 259], '0.00'],\n",
              " ['1440925 8 6 ', [2899, 1932, 273, 259], '1440925.8\\n6'],\n",
              " ['195240 ', [2624, 1932, 271, 259], '195.240'],\n",
              " ['7380 i 280 ', [2287, 1932, 333, 261], '7380.280'],\n",
              " ['kg ', [2129, 1934, 152, 259], 'KG'],\n",
              " ['319 ', [1870, 1934, 252, 259], '319'],\n",
              " ['450037068 ', [1377, 1935, 489, 260], '4500137068'],\n",
              " ['120071890003 tp green 250g pouch alarm jaagore ',\n",
              "  [429, 1935, 943, 260],\n",
              "  '12007189-0003\\nTP GREEN 250g Pouch ALARM —\\nJAAGORE an'],\n",
              " ['39219096 flexible packaging ',\n",
              "  [131, 1936, 291, 259],\n",
              "  '39219096\\nFLEXIBLE\\nPACKAGING'],\n",
              " ['170029286 ', [5368, 2810, 384, 193], '1700292.86'],\n",
              " ['o 00 ', [5131, 2810, 231, 193], '0.00'],\n",
              " ['2596700 ', [4741, 2810, 386, 193], '259367.00'],\n",
              " ['2596700 ', [4412, 2810, 325, 193], '259367.00'],\n",
              " ['1440925 86 ', [3795, 2812, 352, 193], '1440825.86'],\n",
              " ['o 00 ', [3500, 2812, 289, 193], '0.00'],\n",
              " ['o 00 ', [3181, 2814, 314, 191], '0.00'],\n",
              " ['1440925 to 6 ', [2904, 2814, 271, 191], 'ome\\n\\n6'],\n",
              " ['total ', [135, 2816, 1735, 194], 'Total'],\n",
              " ['whether tax is payable on reverse charge basis na ',\n",
              "  [4131, 3008, 1621, 195],\n",
              "  'Whether Tax is Payable on Reverse Charge Basis: NA'],\n",
              " ['total invoice amount in words rupees seventeen lakhs two hundred and ninety two and eighty six paisa only total gst amount in words rupees two lakhs fifty nine thousand three hundred and sixty seven only ',\n",
              "  [135, 3010, 3571, 195],\n",
              "  'Total Invoice Amount in words : Rupees Seventeen Lakhs Two Hundred and Ninety Two and Eighty Six Paisa only\\nTotal GST Amount in words — : Rupees Two Lakhs Fifty Nine Thousand Three Hundred and Sixty Seven only'],\n",
              " ['itc limited xii merady authorized signatory ',\n",
              "  [4341, 3206, 1411, 447],\n",
              "  'ITC LIMITED\\ni\\n\\n. Me\\nXewerpa!\\n\\nAuthorized Signatory'],\n",
              " ['payment terms ', [1706, 3208, 1998, 95], 'Payment Terms:'],\n",
              " ['transporter name calcutta express transport service mode of transportation and fuil truck vehicle no and hr55m9129 lr number sender 392057 lr date sender 31012018 ',\n",
              "  [135, 3212, 1567, 448],\n",
              "  'Mode of Transportation : Full Truck\\n\\nVehicle No : HR55M9129\\n\\nTransporter Name: Calcutta Express Transport Service\\nLR number : 392957 LR Date : 31.01.2018 |'],\n",
              " ['i e is ', [3710, 3304, 308, 351], 'OP LOOT\\n\\nvg\\n\\nSUOIIN|IAG pusy'],\n",
              " ['remarks ', [1708, 3305, 1994, 355], 'Remarks :'],\n",
              " ['divisional hqj 1195 marys road abhirama puram chennail 60001 ph 0044 4208 506 1507 1509 fax 044 reverse for genereal conditions of sale fmcgi hotels paper boards 81 packaging agri business infor regd road kolkata 70007 visit us at ww itci com corporate deni 2 ogy off virginia house 3771 nehru india portal d5wb1910pl c001985 email rackexcellenceiccin page of ',\n",
              "  [0, 3658, 5846, 476],\n",
              "  'Divisional H.Q: 119,St. Mary’s Road,Abhiramapuram,Chennai - 600018. Ph :(044) 42081506 / 1507 / 1509 Fax : (044):\\nFMCG. HOTELS. PAPER BOARDS & PACKAGING. AGRI-BUSINESS. INFOR\\nRegd. Off : Virginia House 37,J.L Nehru Road,Kolkata 700071 ,Jndia. Visit us at www.itcportal.com. Corporate Iden\\n\\n<@\\n\\n \\n\\nMN\\n\\n  \\n\\n1e Reverse For Genereal Conditions of sale)\\nOGY\\nJ5WB1910PLC001985. E-mail : packexcellence@itc.in\\nPage 1 of 1'],\n",
              " ['2 ', [4020, 3660, 98, 283], '— fyoa'],\n",
              " ['can 19 ', [3706, 3660, 306, 281], '-NDD-A\\n\\nMi\\n\\n»\\nI']]"
            ]
          },
          "metadata": {
            "tags": []
          },
          "execution_count": 26
        }
      ]
    },
    {
      "cell_type": "markdown",
      "metadata": {
        "id": "ENDJ_YhhKisj",
        "colab_type": "text"
      },
      "source": [
        ""
      ]
    },
    {
      "cell_type": "code",
      "metadata": {
        "id": "8FTyqaEr5KjO",
        "colab_type": "code",
        "colab": {}
      },
      "source": [
        "#Code for constructing the table\n",
        "#Post processing for the Table \n",
        "SlNo = list()\n",
        "item = list()\n",
        "qty = list()\n",
        "hsn = list()\n",
        "rate = list()\n",
        "amount = list()\n",
        "threshold = 30\n",
        "use = 0     #Model 1 output or Model 2 OCR output\n",
        "\n",
        "for indx,im in enumerate(info):\n",
        "  bb = im[1]\n",
        "  #SlNo.append(im[0])\n",
        "  if indx > 5:\n",
        "    if (2*int(bb[0])+int(bb[2]))//2 in range((2*int(info[0][1][0])+int(info[0][1][2]))//2-threshold,(2*int(info[0][1][0])+int(info[0][1][2]))//2+threshold):\n",
        "      SlNo.append(im[use])\n",
        "    if (2*int(bb[0])+int(bb[2]))//2 in range((2*int(info[1][1][0])+int(info[1][1][2]))//2-threshold,(2*int(info[1][1][0])+int(info[1][1][2]))//2+threshold):\n",
        "      item.append(im[use])\n",
        "    if (2*int(bb[0])+int(bb[2]))//2 in range((2*int(info[2][1][0])+int(info[2][1][2]))//2-threshold,(2*int(info[2][1][0])+int(info[2][1][2]))//2+threshold):\n",
        "      hsn.append(im[use])\n",
        "    if (2*int(bb[0])+int(bb[2]))//2 in range((2*int(info[3][1][0])+int(info[3][1][2]))//2-threshold//2,(2*int(info[3][1][0])+int(info[3][1][2]))+threshold//2):\n",
        "      qty.append(im[use])\n",
        "    if (2*int(bb[0])+int(bb[2]))//2 in range((2*int(info[4][1][0])+int(info[4][1][2]))//2-threshold,(2*int(info[4][1][0])+int(info[4][1][2]))//2+threshold):\n",
        "      rate.append(im[use])\n",
        "    if (2*int(bb[0])+int(bb[2]))//2 in range((2*int(info[5][1][0])+int(info[5][1][2]))//2-threshold,(2*int(info[5][1][0])+int(info[5][1][2]))//2+threshold):\n",
        "      amount.append(im[use])\n"
      ],
      "execution_count": null,
      "outputs": []
    },
    {
      "cell_type": "code",
      "metadata": {
        "id": "WLyrPPIjRYuE",
        "colab_type": "code",
        "colab": {
          "base_uri": "https://localhost:8080/",
          "height": 139
        },
        "outputId": "9c5e71f0-bf50-4c69-d54a-4770cdccc9a8"
      },
      "source": [
        "print(SlNo,len(SlNo))\n",
        "print(item, len(item)) \n",
        "print(hsn,len(hsn))\n",
        "print(qty, len(qty))\n",
        "print(rate, len(rate))\n",
        "print(amount,len(amount))"
      ],
      "execution_count": null,
      "outputs": [
        {
          "output_type": "stream",
          "text": [
            "['2 ', '3 ', '4 ', '51 ', '10 '] 5\n",
            "['baby corn ', 'brocolli wo steam ', 'capsicum red ', 'capsicum yellow ', 'lettuce iceburg ', 'lettuce green ', 'lettuce lolorosa ', 'mashroom fresh ', 'red radish ', 'beans pencil '] 10\n",
            "['10059000 ', '07096090 ', '07096090 ', '07051900 ', '07051900 ', '07051900 ', '07095100 ', '07069020 ', '07082000 '] 9\n",
            "['050 ', '7000 ', '3500 ', '300 ', '12000 ', '360 00 ', '010 ', '11000 ', '11 00 ', '010 ', '11000 ', '11 00 ', '050 ', '8000 ', '4000 ', '040 ', '9000 ', '361 00 ', '040 ', '100 00 ', '4000 ', '2 a 00 ', '11000 ', '22000 ', '020 ', '401 00 ', '800 ', '200 ', '3700 ', '7400 ', 're '] 31\n",
            "['7000 ', '12000 ', '11000 ', '11000 ', '8000 ', '9000 ', '100 00 ', '11000 ', '401 00 ', '3700 '] 10\n",
            "['3500 ', '360 00 ', '11 00 ', '11 00 ', '4000 ', '361 00 ', '4000 ', '22000 ', '800 ', '7400 '] 10\n"
          ],
          "name": "stdout"
        }
      ]
    },
    {
      "cell_type": "code",
      "metadata": {
        "id": "0jrzMVSjM_uh",
        "colab_type": "code",
        "colab": {
          "base_uri": "https://localhost:8080/",
          "height": 374
        },
        "outputId": "ec3bd373-7ff7-4256-b30a-c0b572972266"
      },
      "source": [
        "dict = {'Item description': item, 'HSN Code': hsn,'Rate':rate,'Amount':amount}  \n",
        "    \n",
        "df = pd.DataFrame(dict) \n",
        "#Further post process \n",
        "#df.Rate = df.Rate.str.replace(' ', '')\n",
        "#df.Amount = df.Amount.str.replace(' ', '')\n",
        "\n",
        "df"
      ],
      "execution_count": null,
      "outputs": [
        {
          "output_type": "error",
          "ename": "ValueError",
          "evalue": "ignored",
          "traceback": [
            "\u001b[0;31m---------------------------------------------------------------------------\u001b[0m",
            "\u001b[0;31mValueError\u001b[0m                                Traceback (most recent call last)",
            "\u001b[0;32m<ipython-input-18-41d1d931061e>\u001b[0m in \u001b[0;36m<module>\u001b[0;34m()\u001b[0m\n\u001b[1;32m      1\u001b[0m \u001b[0mdict\u001b[0m \u001b[0;34m=\u001b[0m \u001b[0;34m{\u001b[0m\u001b[0;34m'Item description'\u001b[0m\u001b[0;34m:\u001b[0m \u001b[0mitem\u001b[0m\u001b[0;34m,\u001b[0m \u001b[0;34m'HSN Code'\u001b[0m\u001b[0;34m:\u001b[0m \u001b[0mhsn\u001b[0m\u001b[0;34m,\u001b[0m\u001b[0;34m'Rate'\u001b[0m\u001b[0;34m:\u001b[0m\u001b[0mrate\u001b[0m\u001b[0;34m,\u001b[0m\u001b[0;34m'Amount'\u001b[0m\u001b[0;34m:\u001b[0m\u001b[0mamount\u001b[0m\u001b[0;34m}\u001b[0m\u001b[0;34m\u001b[0m\u001b[0;34m\u001b[0m\u001b[0m\n\u001b[1;32m      2\u001b[0m \u001b[0;34m\u001b[0m\u001b[0m\n\u001b[0;32m----> 3\u001b[0;31m \u001b[0mdf\u001b[0m \u001b[0;34m=\u001b[0m \u001b[0mpd\u001b[0m\u001b[0;34m.\u001b[0m\u001b[0mDataFrame\u001b[0m\u001b[0;34m(\u001b[0m\u001b[0mdict\u001b[0m\u001b[0;34m)\u001b[0m\u001b[0;34m\u001b[0m\u001b[0;34m\u001b[0m\u001b[0m\n\u001b[0m\u001b[1;32m      4\u001b[0m \u001b[0;31m#Further post process\u001b[0m\u001b[0;34m\u001b[0m\u001b[0;34m\u001b[0m\u001b[0;34m\u001b[0m\u001b[0m\n\u001b[1;32m      5\u001b[0m \u001b[0;31m#df.Rate = df.Rate.str.replace(' ', '')\u001b[0m\u001b[0;34m\u001b[0m\u001b[0;34m\u001b[0m\u001b[0;34m\u001b[0m\u001b[0m\n",
            "\u001b[0;32m/usr/local/lib/python3.6/dist-packages/pandas/core/frame.py\u001b[0m in \u001b[0;36m__init__\u001b[0;34m(self, data, index, columns, dtype, copy)\u001b[0m\n\u001b[1;32m    433\u001b[0m             )\n\u001b[1;32m    434\u001b[0m         \u001b[0;32melif\u001b[0m \u001b[0misinstance\u001b[0m\u001b[0;34m(\u001b[0m\u001b[0mdata\u001b[0m\u001b[0;34m,\u001b[0m \u001b[0mdict\u001b[0m\u001b[0;34m)\u001b[0m\u001b[0;34m:\u001b[0m\u001b[0;34m\u001b[0m\u001b[0;34m\u001b[0m\u001b[0m\n\u001b[0;32m--> 435\u001b[0;31m             \u001b[0mmgr\u001b[0m \u001b[0;34m=\u001b[0m \u001b[0minit_dict\u001b[0m\u001b[0;34m(\u001b[0m\u001b[0mdata\u001b[0m\u001b[0;34m,\u001b[0m \u001b[0mindex\u001b[0m\u001b[0;34m,\u001b[0m \u001b[0mcolumns\u001b[0m\u001b[0;34m,\u001b[0m \u001b[0mdtype\u001b[0m\u001b[0;34m=\u001b[0m\u001b[0mdtype\u001b[0m\u001b[0;34m)\u001b[0m\u001b[0;34m\u001b[0m\u001b[0;34m\u001b[0m\u001b[0m\n\u001b[0m\u001b[1;32m    436\u001b[0m         \u001b[0;32melif\u001b[0m \u001b[0misinstance\u001b[0m\u001b[0;34m(\u001b[0m\u001b[0mdata\u001b[0m\u001b[0;34m,\u001b[0m \u001b[0mma\u001b[0m\u001b[0;34m.\u001b[0m\u001b[0mMaskedArray\u001b[0m\u001b[0;34m)\u001b[0m\u001b[0;34m:\u001b[0m\u001b[0;34m\u001b[0m\u001b[0;34m\u001b[0m\u001b[0m\n\u001b[1;32m    437\u001b[0m             \u001b[0;32mimport\u001b[0m \u001b[0mnumpy\u001b[0m\u001b[0;34m.\u001b[0m\u001b[0mma\u001b[0m\u001b[0;34m.\u001b[0m\u001b[0mmrecords\u001b[0m \u001b[0;32mas\u001b[0m \u001b[0mmrecords\u001b[0m\u001b[0;34m\u001b[0m\u001b[0;34m\u001b[0m\u001b[0m\n",
            "\u001b[0;32m/usr/local/lib/python3.6/dist-packages/pandas/core/internals/construction.py\u001b[0m in \u001b[0;36minit_dict\u001b[0;34m(data, index, columns, dtype)\u001b[0m\n\u001b[1;32m    252\u001b[0m             \u001b[0marr\u001b[0m \u001b[0;32mif\u001b[0m \u001b[0;32mnot\u001b[0m \u001b[0mis_datetime64tz_dtype\u001b[0m\u001b[0;34m(\u001b[0m\u001b[0marr\u001b[0m\u001b[0;34m)\u001b[0m \u001b[0;32melse\u001b[0m \u001b[0marr\u001b[0m\u001b[0;34m.\u001b[0m\u001b[0mcopy\u001b[0m\u001b[0;34m(\u001b[0m\u001b[0;34m)\u001b[0m \u001b[0;32mfor\u001b[0m \u001b[0marr\u001b[0m \u001b[0;32min\u001b[0m \u001b[0marrays\u001b[0m\u001b[0;34m\u001b[0m\u001b[0;34m\u001b[0m\u001b[0m\n\u001b[1;32m    253\u001b[0m         ]\n\u001b[0;32m--> 254\u001b[0;31m     \u001b[0;32mreturn\u001b[0m \u001b[0marrays_to_mgr\u001b[0m\u001b[0;34m(\u001b[0m\u001b[0marrays\u001b[0m\u001b[0;34m,\u001b[0m \u001b[0mdata_names\u001b[0m\u001b[0;34m,\u001b[0m \u001b[0mindex\u001b[0m\u001b[0;34m,\u001b[0m \u001b[0mcolumns\u001b[0m\u001b[0;34m,\u001b[0m \u001b[0mdtype\u001b[0m\u001b[0;34m=\u001b[0m\u001b[0mdtype\u001b[0m\u001b[0;34m)\u001b[0m\u001b[0;34m\u001b[0m\u001b[0;34m\u001b[0m\u001b[0m\n\u001b[0m\u001b[1;32m    255\u001b[0m \u001b[0;34m\u001b[0m\u001b[0m\n\u001b[1;32m    256\u001b[0m \u001b[0;34m\u001b[0m\u001b[0m\n",
            "\u001b[0;32m/usr/local/lib/python3.6/dist-packages/pandas/core/internals/construction.py\u001b[0m in \u001b[0;36marrays_to_mgr\u001b[0;34m(arrays, arr_names, index, columns, dtype)\u001b[0m\n\u001b[1;32m     62\u001b[0m     \u001b[0;31m# figure out the index, if necessary\u001b[0m\u001b[0;34m\u001b[0m\u001b[0;34m\u001b[0m\u001b[0;34m\u001b[0m\u001b[0m\n\u001b[1;32m     63\u001b[0m     \u001b[0;32mif\u001b[0m \u001b[0mindex\u001b[0m \u001b[0;32mis\u001b[0m \u001b[0;32mNone\u001b[0m\u001b[0;34m:\u001b[0m\u001b[0;34m\u001b[0m\u001b[0;34m\u001b[0m\u001b[0m\n\u001b[0;32m---> 64\u001b[0;31m         \u001b[0mindex\u001b[0m \u001b[0;34m=\u001b[0m \u001b[0mextract_index\u001b[0m\u001b[0;34m(\u001b[0m\u001b[0marrays\u001b[0m\u001b[0;34m)\u001b[0m\u001b[0;34m\u001b[0m\u001b[0;34m\u001b[0m\u001b[0m\n\u001b[0m\u001b[1;32m     65\u001b[0m     \u001b[0;32melse\u001b[0m\u001b[0;34m:\u001b[0m\u001b[0;34m\u001b[0m\u001b[0;34m\u001b[0m\u001b[0m\n\u001b[1;32m     66\u001b[0m         \u001b[0mindex\u001b[0m \u001b[0;34m=\u001b[0m \u001b[0mensure_index\u001b[0m\u001b[0;34m(\u001b[0m\u001b[0mindex\u001b[0m\u001b[0;34m)\u001b[0m\u001b[0;34m\u001b[0m\u001b[0;34m\u001b[0m\u001b[0m\n",
            "\u001b[0;32m/usr/local/lib/python3.6/dist-packages/pandas/core/internals/construction.py\u001b[0m in \u001b[0;36mextract_index\u001b[0;34m(data)\u001b[0m\n\u001b[1;32m    363\u001b[0m             \u001b[0mlengths\u001b[0m \u001b[0;34m=\u001b[0m \u001b[0mlist\u001b[0m\u001b[0;34m(\u001b[0m\u001b[0mset\u001b[0m\u001b[0;34m(\u001b[0m\u001b[0mraw_lengths\u001b[0m\u001b[0;34m)\u001b[0m\u001b[0;34m)\u001b[0m\u001b[0;34m\u001b[0m\u001b[0;34m\u001b[0m\u001b[0m\n\u001b[1;32m    364\u001b[0m             \u001b[0;32mif\u001b[0m \u001b[0mlen\u001b[0m\u001b[0;34m(\u001b[0m\u001b[0mlengths\u001b[0m\u001b[0;34m)\u001b[0m \u001b[0;34m>\u001b[0m \u001b[0;36m1\u001b[0m\u001b[0;34m:\u001b[0m\u001b[0;34m\u001b[0m\u001b[0;34m\u001b[0m\u001b[0m\n\u001b[0;32m--> 365\u001b[0;31m                 \u001b[0;32mraise\u001b[0m \u001b[0mValueError\u001b[0m\u001b[0;34m(\u001b[0m\u001b[0;34m\"arrays must all be same length\"\u001b[0m\u001b[0;34m)\u001b[0m\u001b[0;34m\u001b[0m\u001b[0;34m\u001b[0m\u001b[0m\n\u001b[0m\u001b[1;32m    366\u001b[0m \u001b[0;34m\u001b[0m\u001b[0m\n\u001b[1;32m    367\u001b[0m             \u001b[0;32mif\u001b[0m \u001b[0mhave_dicts\u001b[0m\u001b[0;34m:\u001b[0m\u001b[0;34m\u001b[0m\u001b[0;34m\u001b[0m\u001b[0m\n",
            "\u001b[0;31mValueError\u001b[0m: arrays must all be same length"
          ]
        }
      ]
    },
    {
      "cell_type": "code",
      "metadata": {
        "id": "E-pCWSvzO_D5",
        "colab_type": "code",
        "colab": {}
      },
      "source": [
        "img = cv2.imread(\"/content/Ashok-10002972.pdfpage_1.JPEG\")\n",
        "crop_imgs,_,_,_ = detector.process(img)\n",
        "result = ''\n",
        "result_ocr = ''\n",
        "for im in crop_imgs:\n",
        "    try:\n",
        "      #cv2_imshow(im)\n",
        "      gray = cv2.cvtColor(im, cv2.COLOR_BGR2GRAY)\n",
        "      text, _, _ = recognizer.process(gray)\n",
        "      if text.isnumeric():\n",
        "        ocr_flag = 1\n",
        "      result += text\n",
        "      result += ' '\n",
        "      ocr_text = pytesseract.image_to_string(im)\n",
        "      result_ocr += ocr_text\n",
        "      result_ocr += ' '\n",
        "    except Exception as ex:\n",
        "      print(ex)"
      ],
      "execution_count": null,
      "outputs": []
    },
    {
      "cell_type": "code",
      "metadata": {
        "id": "TKE9SKKBPaxf",
        "colab_type": "code",
        "colab": {}
      },
      "source": [
        "result"
      ],
      "execution_count": null,
      "outputs": []
    },
    {
      "cell_type": "code",
      "metadata": {
        "id": "uq5aw9XGQJUk",
        "colab_type": "code",
        "colab": {}
      },
      "source": [
        "result_ocr"
      ],
      "execution_count": null,
      "outputs": []
    },
    {
      "cell_type": "markdown",
      "metadata": {
        "id": "ugoP6Fpj36Bd",
        "colab_type": "text"
      },
      "source": [
        "**SLIP 2 Working**"
      ]
    },
    {
      "cell_type": "code",
      "metadata": {
        "id": "C9MygjnKMKOB",
        "colab_type": "code",
        "colab": {}
      },
      "source": [
        ""
      ],
      "execution_count": null,
      "outputs": []
    },
    {
      "cell_type": "code",
      "metadata": {
        "id": "9r8rN6oghClK",
        "colab_type": "code",
        "colab": {}
      },
      "source": [
        "#Formating text for the final csv\n",
        "img = cv2.imread(\"/content/Ashok-10002972.pdfpage_1.JPEG\")\n",
        "crop_imgs,boxes,other_info,_ = detector.process(img)\n",
        "\n",
        "rects = list()\n",
        "for box in boxes:\n",
        "    poly = np.array(box).astype(np.int32)\n",
        "    y0, x0 = np.min(poly, axis=0)\n",
        "    y1, x1 = np.max(poly, axis=0)\n",
        "    rects.append([x0, y0, x1, y1])\n",
        "\n",
        "full_text = ''\n",
        "slope_list = list()\n",
        "result = list()\n",
        "for indx,rect in enumerate(rects):\n",
        "  x0,y0,x1,y1 = rect\n",
        "  crop_img = img[x0:x1, y0:y1]\n",
        "  #crop_img = img[y0:y1, x0:x1, :]\n",
        "  gray = cv2.cvtColor(crop_img, cv2.COLOR_BGR2GRAY)\n",
        "  text, _, _ = recognizer.process(gray)\n",
        "  ocr_text = pytesseract.image_to_string(crop_img)\n",
        "  result.append([text,[y0,x0,y1,x1],ocr_text])\n",
        "  full_text += text\n",
        "  full_text += ' '\n",
        "\n",
        "full_text    "
      ],
      "execution_count": null,
      "outputs": []
    },
    {
      "cell_type": "code",
      "metadata": {
        "id": "lnk0EwbCgJoA",
        "colab_type": "code",
        "colab": {}
      },
      "source": [
        "print(result)"
      ],
      "execution_count": null,
      "outputs": []
    },
    {
      "cell_type": "code",
      "metadata": {
        "id": "zRc9JrEpI_Jv",
        "colab_type": "code",
        "colab": {}
      },
      "source": [
        "stack_info = list()\n",
        "mask = np.full((img.shape[0], img.shape[1]), 0, dtype=np.uint8)  # mask is only \n",
        "for text in result:\n",
        "  bb = text[1]\n",
        "  cv2.rectangle(mask, (bb[0],bb[1]),(bb[2],bb[3]), (255,255,255),30)\n",
        "  \n",
        "cv2_imshow(mask)"
      ],
      "execution_count": null,
      "outputs": []
    },
    {
      "cell_type": "code",
      "metadata": {
        "id": "yhNPCm_cStGy",
        "colab_type": "code",
        "colab": {}
      },
      "source": [
        ""
      ],
      "execution_count": null,
      "outputs": []
    },
    {
      "cell_type": "code",
      "metadata": {
        "id": "JEgFQzwJUsCA",
        "colab_type": "code",
        "colab": {}
      },
      "source": [
        ""
      ],
      "execution_count": null,
      "outputs": []
    }
  ]
}