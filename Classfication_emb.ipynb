{
 "cells": [
  {
   "cell_type": "code",
   "execution_count": 1,
   "metadata": {},
   "outputs": [
    {
     "name": "stderr",
     "output_type": "stream",
     "text": [
      "C:\\Anaconda3\\lib\\site-packages\\h5py\\__init__.py:36: FutureWarning: Conversion of the second argument of issubdtype from `float` to `np.floating` is deprecated. In future, it will be treated as `np.float64 == np.dtype(float).type`.\n",
      "  from ._conv import register_converters as _register_converters\n",
      "Using TensorFlow backend.\n"
     ]
    }
   ],
   "source": [
    "# NLTK\n",
    "import nltk\n",
    "from nltk.corpus import stopwords\n",
    "from nltk.stem import SnowballStemmer\n",
    "\n",
    "# Other\n",
    "import re\n",
    "import string\n",
    "import numpy as np\n",
    "import pandas as pd\n",
    "import unicodedata\n",
    "import spacy\n",
    "\n",
    "from sklearn.manifold import TSNE\n",
    "from contractions import CONTRACTION_MAP\n",
    "\n",
    "#nlp = spacy.load('en_core', parse = True, tag=True, entity=True)\n",
    "#nlp_vec = spacy.load('en_vecs', parse = True, tag=True, entity=True)\n",
    "import nltk\n",
    "from nltk.tokenize.toktok import ToktokTokenizer\n",
    "tokenizer = ToktokTokenizer()\n",
    "stopword_list = nltk.corpus.stopwords.words('english')\n",
    "stopword_list.remove('no')\n",
    "stopword_list.remove('not')\n",
    "\n",
    "# Keras\n",
    "from keras.preprocessing.text import Tokenizer\n",
    "from keras.preprocessing.sequence import pad_sequences\n",
    "from keras.models import Sequential\n",
    "from keras.layers import Dense, Flatten, LSTM, Conv1D, MaxPooling1D, Dropout, Activation\n",
    "from keras.layers.embeddings import Embedding"
   ]
  },
  {
   "cell_type": "code",
   "execution_count": 2,
   "metadata": {},
   "outputs": [],
   "source": [
    "#read the train and test file\n",
    "train = pd.read_csv(\"train.csv\",sep='~')\n",
    "test = pd.read_csv(\"test.csv\",sep='~')"
   ]
  },
  {
   "cell_type": "code",
   "execution_count": 3,
   "metadata": {},
   "outputs": [],
   "source": [
    "#Encode the target variable\n",
    "train = train[train['Is_Response'].notnull()]\n",
    "stars_dict = {'Good':1,'Bad':0}\n",
    "train[\"Is_Response\"] = train['Is_Response'].replace(stars_dict,regex=True)\n",
    "labels = train[\"Is_Response\"]"
   ]
  },
  {
   "cell_type": "code",
   "execution_count": 4,
   "metadata": {},
   "outputs": [],
   "source": [
    "#Remove ascented word\n",
    "def remove_accented_chars(text):\n",
    "    text = unicodedata.normalize('NFKD', text).encode('ascii', 'ignore').decode('utf-8', 'ignore')\n",
    "    return text"
   ]
  },
  {
   "cell_type": "code",
   "execution_count": 5,
   "metadata": {},
   "outputs": [],
   "source": [
    "#Expand the contradictions\n",
    "def expand_contractions(text, contraction_mapping=CONTRACTION_MAP):\n",
    "    \n",
    "    contractions_pattern = re.compile('({})'.format('|'.join(contraction_mapping.keys())), \n",
    "                                      flags=re.IGNORECASE|re.DOTALL)\n",
    "    def expand_match(contraction):\n",
    "        match = contraction.group(0)\n",
    "        first_char = match[0]\n",
    "        expanded_contraction = contraction_mapping.get(match)\\\n",
    "                                if contraction_mapping.get(match)\\\n",
    "                                else contraction_mapping.get(match.lower())                       \n",
    "        expanded_contraction = first_char+expanded_contraction[1:]\n",
    "        return expanded_contraction\n",
    "        \n",
    "    expanded_text = contractions_pattern.sub(expand_match, text)\n",
    "    expanded_text = re.sub(\"'\", \"\", expanded_text)\n",
    "    return expanded_text"
   ]
  },
  {
   "cell_type": "code",
   "execution_count": 6,
   "metadata": {},
   "outputs": [],
   "source": [
    "#Remove special character\n",
    "def remove_special_characters(text, remove_digits=False):\n",
    "    pattern = r'[^a-zA-z0-9\\s]' if not remove_digits else r'[^a-zA-z\\s]'\n",
    "    text = re.sub(pattern, '', text)\n",
    "    return text"
   ]
  },
  {
   "cell_type": "code",
   "execution_count": 7,
   "metadata": {},
   "outputs": [],
   "source": [
    "train = train[train['Description'].notnull()]\n"
   ]
  },
  {
   "cell_type": "code",
   "execution_count": 8,
   "metadata": {},
   "outputs": [],
   "source": [
    "def simple_stemmer(text):\n",
    "    ps = nltk.porter.PorterStemmer()\n",
    "    text = ' '.join([ps.stem(word) for word in text.split()])\n",
    "    return text"
   ]
  },
  {
   "cell_type": "code",
   "execution_count": 9,
   "metadata": {},
   "outputs": [],
   "source": [
    "def remove_stopwords(text, is_lower_case=False):\n",
    "    tokens = tokenizer.tokenize(text)\n",
    "    tokens = [token.strip() for token in tokens]\n",
    "    if is_lower_case:\n",
    "        filtered_tokens = [token for token in tokens if token not in stopword_list]\n",
    "    else:\n",
    "        filtered_tokens = [token for token in tokens if token.lower() not in stopword_list]\n",
    "    filtered_text = ' '.join(filtered_tokens)    \n",
    "    return filtered_text"
   ]
  },
  {
   "cell_type": "markdown",
   "metadata": {},
   "source": [
    "Build a Text Normalizer"
   ]
  },
  {
   "cell_type": "code",
   "execution_count": 10,
   "metadata": {},
   "outputs": [],
   "source": [
    "def normalize_corpus(corpus, contraction_expansion=True,\n",
    "                     accented_char_removal=True, text_lower_case=True, \n",
    "                     special_char_removal=True, \n",
    "                     stopword_removal=True, remove_digits=True):\n",
    "    \n",
    "    normalized_corpus = []\n",
    "    # normalize each document in the corpus\n",
    "    for doc in corpus:\n",
    "\n",
    "        # remove accented characters\n",
    "        if accented_char_removal:\n",
    "            doc = remove_accented_chars(doc)\n",
    "        # expand contractions    \n",
    "        if contraction_expansion:\n",
    "            doc = expand_contractions(doc)\n",
    "        # lowercase the text    \n",
    "        if text_lower_case:\n",
    "            doc = doc.lower()\n",
    "        # remove extra newlines\n",
    "        doc = re.sub(r'[\\r|\\n|\\r\\n]+', ' ',doc)\n",
    "        # remove special characters and\\or digits    \n",
    "        if special_char_removal:\n",
    "            # insert spaces between special characters to isolate them    \n",
    "            special_char_pattern = re.compile(r'([{.(-)!}])')\n",
    "            doc = special_char_pattern.sub(\" \\\\1 \", doc)\n",
    "            doc = remove_special_characters(doc, remove_digits=remove_digits)  \n",
    "        # remove extra whitespace\n",
    "            doc = re.sub(' +', ' ', doc)\n",
    "        # remove stopwords\n",
    "        if stopword_removal:\n",
    "            doc = remove_stopwords(doc, is_lower_case=text_lower_case)\n",
    "            \n",
    "        normalized_corpus.append(doc)\n",
    "        \n",
    "    return normalized_corpus"
   ]
  },
  {
   "cell_type": "code",
   "execution_count": 11,
   "metadata": {},
   "outputs": [],
   "source": [
    "train['Description'] = normalize_corpus(train['Description'])\n",
    "test['Description'] = normalize_corpus(test['Description'])"
   ]
  },
  {
   "cell_type": "code",
   "execution_count": 27,
   "metadata": {},
   "outputs": [
    {
     "name": "stderr",
     "output_type": "stream",
     "text": [
      "C:\\Anaconda3\\lib\\site-packages\\pandas\\core\\frame.py:6201: FutureWarning: Sorting because non-concatenation axis is not aligned. A future version\n",
      "of pandas will change to not sort by default.\n",
      "\n",
      "To accept the future behavior, pass 'sort=True'.\n",
      "\n",
      "To retain the current behavior and silence the warning, pass sort=False\n",
      "\n",
      "  sort=sort)\n"
     ]
    }
   ],
   "source": [
    "#Tokenization process\n",
    "vocabulary_size = 50000\n",
    "maxlen = 160\n",
    "tokenizer = Tokenizer(num_words= vocabulary_size)\n",
    "temp = pd.DataFrame()\n",
    "temp['Description'] = train['Description']\n",
    "temp = temp.append(test)\n",
    "tokenizer.fit_on_texts(temp['Description'])\n",
    "\n",
    "sequences = tokenizer.texts_to_sequences(train['Description'])\n",
    "data = pad_sequences(sequences, maxlen=maxlen)\n",
    "sequences = tokenizer.texts_to_sequences(test['Description'])\n",
    "test_tokenize = pad_sequences(sequences, maxlen=maxlen)"
   ]
  },
  {
   "cell_type": "code",
   "execution_count": 28,
   "metadata": {},
   "outputs": [
    {
     "name": "stdout",
     "output_type": "stream",
     "text": [
      "(38931, 4)\n"
     ]
    }
   ],
   "source": [
    "print(temp.shape)"
   ]
  },
  {
   "cell_type": "markdown",
   "metadata": {},
   "source": [
    "Build neural network with LSTM\n",
    "Network Architechture\n",
    "The network starts with an embedding layer. The layer lets the system expand each token to a more massive vector, allowing the network to represent a word in a meaningful way. The layer takes 50000 as the first argument, which is the size of our vocabulary, and 100 as the second input parameter, which is the dimension of the embeddings. The third parameter is the input_length of 50, which is the length of each comment sequence."
   ]
  },
  {
   "cell_type": "code",
   "execution_count": 29,
   "metadata": {},
   "outputs": [],
   "source": [
    "def create_conv_model():\n",
    "    model_conv = Sequential()\n",
    "    model_conv.add(Embedding(vocabulary_size, 100, input_length=maxlen))\n",
    "    model_conv.add(Dropout(0.2))\n",
    "    model_conv.add(Conv1D(64, 5, activation='relu'))\n",
    "    model_conv.add(MaxPooling1D(pool_size=4))\n",
    "    model_conv.add(LSTM(100))\n",
    "    model_conv.add(Dense(1, activation='sigmoid'))\n",
    "    model_conv.compile(loss='binary_crossentropy', optimizer='adam', metrics=['accuracy'])\n",
    "    return model_conv"
   ]
  },
  {
   "cell_type": "code",
   "execution_count": 30,
   "metadata": {},
   "outputs": [
    {
     "name": "stdout",
     "output_type": "stream",
     "text": [
      "Train on 24136 samples, validate on 6035 samples\n",
      "Epoch 1/3\n"
     ]
    },
    {
     "name": "stdout",
     "output_type": "stream",
     "text": [
      " 6496/24136 [=======>......................] - ETA: 20:22 - loss: 0.6953 - acc: 0.37 - ETA: 11:18 - loss: 0.6913 - acc: 0.50 - ETA: 8:15 - loss: 0.6858 - acc: 0.5625 - ETA: 6:45 - loss: 0.6776 - acc: 0.609 - ETA: 5:51 - loss: 0.6668 - acc: 0.650 - ETA: 5:15 - loss: 0.6662 - acc: 0.645 - ETA: 4:49 - loss: 0.6577 - acc: 0.660 - ETA: 4:29 - loss: 0.6561 - acc: 0.660 - ETA: 4:14 - loss: 0.6487 - acc: 0.666 - ETA: 4:02 - loss: 0.6484 - acc: 0.665 - ETA: 3:51 - loss: 0.6507 - acc: 0.661 - ETA: 3:43 - loss: 0.6422 - acc: 0.669 - ETA: 3:36 - loss: 0.6407 - acc: 0.668 - ETA: 3:30 - loss: 0.6411 - acc: 0.667 - ETA: 3:25 - loss: 0.6439 - acc: 0.664 - ETA: 3:20 - loss: 0.6363 - acc: 0.671 - ETA: 3:15 - loss: 0.6354 - acc: 0.671 - ETA: 3:12 - loss: 0.6360 - acc: 0.668 - ETA: 3:08 - loss: 0.6371 - acc: 0.666 - ETA: 3:05 - loss: 0.6362 - acc: 0.664 - ETA: 3:02 - loss: 0.6322 - acc: 0.669 - ETA: 3:00 - loss: 0.6344 - acc: 0.667 - ETA: 2:57 - loss: 0.6345 - acc: 0.665 - ETA: 2:55 - loss: 0.6331 - acc: 0.666 - ETA: 2:53 - loss: 0.6332 - acc: 0.665 - ETA: 2:51 - loss: 0.6331 - acc: 0.664 - ETA: 2:49 - loss: 0.6322 - acc: 0.665 - ETA: 2:48 - loss: 0.6299 - acc: 0.667 - ETA: 2:46 - loss: 0.6321 - acc: 0.663 - ETA: 2:45 - loss: 0.6290 - acc: 0.666 - ETA: 2:43 - loss: 0.6289 - acc: 0.667 - ETA: 2:42 - loss: 0.6242 - acc: 0.672 - ETA: 2:41 - loss: 0.6216 - acc: 0.674 - ETA: 2:40 - loss: 0.6221 - acc: 0.673 - ETA: 2:38 - loss: 0.6229 - acc: 0.672 - ETA: 2:37 - loss: 0.6243 - acc: 0.668 - ETA: 2:36 - loss: 0.6226 - acc: 0.669 - ETA: 2:35 - loss: 0.6226 - acc: 0.671 - ETA: 2:34 - loss: 0.6205 - acc: 0.673 - ETA: 2:33 - loss: 0.6178 - acc: 0.675 - ETA: 2:33 - loss: 0.6170 - acc: 0.677 - ETA: 2:32 - loss: 0.6158 - acc: 0.677 - ETA: 2:31 - loss: 0.6158 - acc: 0.677 - ETA: 2:30 - loss: 0.6120 - acc: 0.681 - ETA: 2:30 - loss: 0.6130 - acc: 0.678 - ETA: 2:29 - loss: 0.6113 - acc: 0.680 - ETA: 2:28 - loss: 0.6102 - acc: 0.680 - ETA: 2:28 - loss: 0.6095 - acc: 0.679 - ETA: 2:27 - loss: 0.6077 - acc: 0.680 - ETA: 2:27 - loss: 0.6067 - acc: 0.680 - ETA: 2:26 - loss: 0.6061 - acc: 0.680 - ETA: 2:25 - loss: 0.6062 - acc: 0.679 - ETA: 2:25 - loss: 0.6049 - acc: 0.680 - ETA: 2:24 - loss: 0.6041 - acc: 0.680 - ETA: 2:24 - loss: 0.6044 - acc: 0.679 - ETA: 2:23 - loss: 0.6059 - acc: 0.676 - ETA: 2:23 - loss: 0.6045 - acc: 0.677 - ETA: 2:22 - loss: 0.6033 - acc: 0.679 - ETA: 2:22 - loss: 0.6029 - acc: 0.679 - ETA: 2:21 - loss: 0.6010 - acc: 0.680 - ETA: 2:21 - loss: 0.5986 - acc: 0.681 - ETA: 2:20 - loss: 0.5963 - acc: 0.684 - ETA: 2:20 - loss: 0.5954 - acc: 0.683 - ETA: 2:19 - loss: 0.5941 - acc: 0.684 - ETA: 2:19 - loss: 0.5918 - acc: 0.686 - ETA: 2:19 - loss: 0.5908 - acc: 0.685 - ETA: 2:18 - loss: 0.5924 - acc: 0.684 - ETA: 2:18 - loss: 0.5907 - acc: 0.686 - ETA: 2:18 - loss: 0.5886 - acc: 0.687 - ETA: 2:17 - loss: 0.5867 - acc: 0.689 - ETA: 2:17 - loss: 0.5852 - acc: 0.689 - ETA: 2:16 - loss: 0.5845 - acc: 0.688 - ETA: 2:16 - loss: 0.5823 - acc: 0.690 - ETA: 2:16 - loss: 0.5798 - acc: 0.691 - ETA: 2:15 - loss: 0.5775 - acc: 0.693 - ETA: 2:15 - loss: 0.5761 - acc: 0.694 - ETA: 2:15 - loss: 0.5759 - acc: 0.695 - ETA: 2:14 - loss: 0.5737 - acc: 0.698 - ETA: 2:14 - loss: 0.5708 - acc: 0.701 - ETA: 2:14 - loss: 0.5705 - acc: 0.702 - ETA: 2:13 - loss: 0.5668 - acc: 0.704 - ETA: 2:13 - loss: 0.5636 - acc: 0.705 - ETA: 2:13 - loss: 0.5612 - acc: 0.707 - ETA: 2:12 - loss: 0.5580 - acc: 0.709 - ETA: 2:12 - loss: 0.5561 - acc: 0.711 - ETA: 2:12 - loss: 0.5552 - acc: 0.712 - ETA: 2:12 - loss: 0.5519 - acc: 0.714 - ETA: 2:11 - loss: 0.5510 - acc: 0.715 - ETA: 2:11 - loss: 0.5497 - acc: 0.716 - ETA: 2:10 - loss: 0.5480 - acc: 0.717 - ETA: 2:10 - loss: 0.5485 - acc: 0.717 - ETA: 2:10 - loss: 0.5452 - acc: 0.720 - ETA: 2:09 - loss: 0.5420 - acc: 0.722 - ETA: 2:09 - loss: 0.5406 - acc: 0.722 - ETA: 2:09 - loss: 0.5388 - acc: 0.723 - ETA: 2:08 - loss: 0.5392 - acc: 0.723 - ETA: 2:08 - loss: 0.5364 - acc: 0.724 - ETA: 2:08 - loss: 0.5349 - acc: 0.726 - ETA: 2:07 - loss: 0.5329 - acc: 0.728 - ETA: 2:07 - loss: 0.5319 - acc: 0.728 - ETA: 2:07 - loss: 0.5308 - acc: 0.729 - ETA: 2:06 - loss: 0.5287 - acc: 0.730 - ETA: 2:06 - loss: 0.5270 - acc: 0.732 - ETA: 2:05 - loss: 0.5246 - acc: 0.733 - ETA: 2:05 - loss: 0.5223 - acc: 0.735 - ETA: 2:05 - loss: 0.5204 - acc: 0.736 - ETA: 2:04 - loss: 0.5177 - acc: 0.738 - ETA: 2:04 - loss: 0.5150 - acc: 0.740 - ETA: 2:04 - loss: 0.5148 - acc: 0.741 - ETA: 2:04 - loss: 0.5149 - acc: 0.741 - ETA: 2:03 - loss: 0.5142 - acc: 0.741 - ETA: 2:03 - loss: 0.5165 - acc: 0.741 - ETA: 2:03 - loss: 0.5172 - acc: 0.740 - ETA: 2:02 - loss: 0.5163 - acc: 0.741 - ETA: 2:02 - loss: 0.5175 - acc: 0.742 - ETA: 2:02 - loss: 0.5163 - acc: 0.742 - ETA: 2:01 - loss: 0.5161 - acc: 0.742 - ETA: 2:01 - loss: 0.5140 - acc: 0.744 - ETA: 2:01 - loss: 0.5124 - acc: 0.744 - ETA: 2:00 - loss: 0.5115 - acc: 0.745 - ETA: 2:00 - loss: 0.5114 - acc: 0.746 - ETA: 2:00 - loss: 0.5099 - acc: 0.747 - ETA: 2:00 - loss: 0.5078 - acc: 0.748 - ETA: 1:59 - loss: 0.5067 - acc: 0.749 - ETA: 1:59 - loss: 0.5048 - acc: 0.750 - ETA: 1:59 - loss: 0.5053 - acc: 0.751 - ETA: 1:58 - loss: 0.5042 - acc: 0.751 - ETA: 1:58 - loss: 0.5029 - acc: 0.752 - ETA: 1:58 - loss: 0.5012 - acc: 0.753 - ETA: 1:58 - loss: 0.5005 - acc: 0.754 - ETA: 1:57 - loss: 0.4985 - acc: 0.756 - ETA: 1:57 - loss: 0.4978 - acc: 0.756 - ETA: 1:57 - loss: 0.4980 - acc: 0.756 - ETA: 1:57 - loss: 0.4963 - acc: 0.757 - ETA: 1:56 - loss: 0.4940 - acc: 0.759 - ETA: 1:56 - loss: 0.4937 - acc: 0.759 - ETA: 1:56 - loss: 0.4939 - acc: 0.759 - ETA: 1:56 - loss: 0.4923 - acc: 0.760 - ETA: 1:55 - loss: 0.4908 - acc: 0.761 - ETA: 1:55 - loss: 0.4901 - acc: 0.761 - ETA: 1:55 - loss: 0.4885 - acc: 0.762 - ETA: 1:55 - loss: 0.4871 - acc: 0.763 - ETA: 1:54 - loss: 0.4860 - acc: 0.764 - ETA: 1:54 - loss: 0.4848 - acc: 0.765 - ETA: 1:54 - loss: 0.4848 - acc: 0.765 - ETA: 1:54 - loss: 0.4841 - acc: 0.766 - ETA: 1:53 - loss: 0.4838 - acc: 0.766 - ETA: 1:53 - loss: 0.4830 - acc: 0.767 - ETA: 1:53 - loss: 0.4834 - acc: 0.767 - ETA: 1:53 - loss: 0.4815 - acc: 0.768 - ETA: 1:53 - loss: 0.4819 - acc: 0.768 - ETA: 1:52 - loss: 0.4810 - acc: 0.769 - ETA: 1:52 - loss: 0.4795 - acc: 0.770 - ETA: 1:52 - loss: 0.4777 - acc: 0.770 - ETA: 1:52 - loss: 0.4769 - acc: 0.771 - ETA: 1:51 - loss: 0.4757 - acc: 0.772 - ETA: 1:51 - loss: 0.4761 - acc: 0.771 - ETA: 1:51 - loss: 0.4749 - acc: 0.772 - ETA: 1:51 - loss: 0.4740 - acc: 0.772 - ETA: 1:50 - loss: 0.4736 - acc: 0.773 - ETA: 1:50 - loss: 0.4717 - acc: 0.774 - ETA: 1:50 - loss: 0.4710 - acc: 0.774 - ETA: 1:50 - loss: 0.4701 - acc: 0.774 - ETA: 1:49 - loss: 0.4690 - acc: 0.775 - ETA: 1:49 - loss: 0.4687 - acc: 0.775 - ETA: 1:49 - loss: 0.4699 - acc: 0.774 - ETA: 1:49 - loss: 0.4694 - acc: 0.774 - ETA: 1:48 - loss: 0.4693 - acc: 0.774 - ETA: 1:48 - loss: 0.4685 - acc: 0.775 - ETA: 1:48 - loss: 0.4680 - acc: 0.775 - ETA: 1:48 - loss: 0.4669 - acc: 0.776 - ETA: 1:47 - loss: 0.4662 - acc: 0.776 - ETA: 1:47 - loss: 0.4656 - acc: 0.776 - ETA: 1:47 - loss: 0.4655 - acc: 0.777 - ETA: 1:47 - loss: 0.4640 - acc: 0.778 - ETA: 1:47 - loss: 0.4641 - acc: 0.778 - ETA: 1:46 - loss: 0.4654 - acc: 0.777 - ETA: 1:46 - loss: 0.4648 - acc: 0.778 - ETA: 1:46 - loss: 0.4644 - acc: 0.778 - ETA: 1:46 - loss: 0.4633 - acc: 0.779 - ETA: 1:45 - loss: 0.4625 - acc: 0.780 - ETA: 1:45 - loss: 0.4635 - acc: 0.779 - ETA: 1:45 - loss: 0.4630 - acc: 0.780 - ETA: 1:45 - loss: 0.4619 - acc: 0.780 - ETA: 1:44 - loss: 0.4626 - acc: 0.780 - ETA: 1:44 - loss: 0.4612 - acc: 0.781 - ETA: 1:44 - loss: 0.4599 - acc: 0.781 - ETA: 1:44 - loss: 0.4602 - acc: 0.782 - ETA: 1:44 - loss: 0.4596 - acc: 0.782 - ETA: 1:43 - loss: 0.4590 - acc: 0.782 - ETA: 1:43 - loss: 0.4578 - acc: 0.782 - ETA: 1:43 - loss: 0.4568 - acc: 0.783 - ETA: 1:43 - loss: 0.4562 - acc: 0.783 - ETA: 1:42 - loss: 0.4563 - acc: 0.783 - ETA: 1:42 - loss: 0.4553 - acc: 0.784 - ETA: 1:42 - loss: 0.4549 - acc: 0.784 - ETA: 1:42 - loss: 0.4548 - acc: 0.784 - ETA: 1:42 - loss: 0.4540 - acc: 0.785 - ETA: 1:41 - loss: 0.4533 - acc: 0.785 - ETA: 1:41 - loss: 0.4523 - acc: 0.786 - ETA: 1:41 - loss: 0.4515 - acc: 0.786 - ETA: 1:41 - loss: 0.4511 - acc: 0.787 - ETA: 1:41 - loss: 0.4515 - acc: 0.7868\b\b\b\b\b\b\b\b\b\b\b\b\b\b\b\b\b\b\b\b\b\b\b\b\b\b\b\b\b\b\b\b\b\b\b\b\b\b\b\b\b\b\b\b\b\b\b\b\b\b\b\b\b\b\b\b\b\b\b\b\b\b\b\b\b\b\b\b\b\b\b\b\b\b\b\b\b\b\b\b\b\b\b\b\b"
     ]
    },
    {
     "name": "stdout",
     "output_type": "stream",
     "text": [
      "13024/24136 [===============>..............] - ETA: 1:40 - loss: 0.4504 - acc: 0.787 - ETA: 1:40 - loss: 0.4515 - acc: 0.786 - ETA: 1:40 - loss: 0.4520 - acc: 0.786 - ETA: 1:40 - loss: 0.4513 - acc: 0.786 - ETA: 1:40 - loss: 0.4507 - acc: 0.787 - ETA: 1:39 - loss: 0.4501 - acc: 0.787 - ETA: 1:39 - loss: 0.4492 - acc: 0.788 - ETA: 1:39 - loss: 0.4484 - acc: 0.788 - ETA: 1:39 - loss: 0.4482 - acc: 0.788 - ETA: 1:38 - loss: 0.4476 - acc: 0.788 - ETA: 1:38 - loss: 0.4470 - acc: 0.789 - ETA: 1:38 - loss: 0.4461 - acc: 0.790 - ETA: 1:38 - loss: 0.4451 - acc: 0.790 - ETA: 1:38 - loss: 0.4442 - acc: 0.790 - ETA: 1:37 - loss: 0.4437 - acc: 0.791 - ETA: 1:37 - loss: 0.4440 - acc: 0.791 - ETA: 1:37 - loss: 0.4436 - acc: 0.791 - ETA: 1:37 - loss: 0.4428 - acc: 0.791 - ETA: 1:36 - loss: 0.4417 - acc: 0.792 - ETA: 1:36 - loss: 0.4409 - acc: 0.793 - ETA: 1:36 - loss: 0.4402 - acc: 0.793 - ETA: 1:36 - loss: 0.4399 - acc: 0.793 - ETA: 1:36 - loss: 0.4393 - acc: 0.794 - ETA: 1:35 - loss: 0.4389 - acc: 0.794 - ETA: 1:35 - loss: 0.4382 - acc: 0.794 - ETA: 1:35 - loss: 0.4383 - acc: 0.794 - ETA: 1:35 - loss: 0.4371 - acc: 0.795 - ETA: 1:35 - loss: 0.4366 - acc: 0.795 - ETA: 1:34 - loss: 0.4357 - acc: 0.796 - ETA: 1:34 - loss: 0.4355 - acc: 0.796 - ETA: 1:34 - loss: 0.4352 - acc: 0.796 - ETA: 1:34 - loss: 0.4348 - acc: 0.796 - ETA: 1:34 - loss: 0.4349 - acc: 0.796 - ETA: 1:33 - loss: 0.4347 - acc: 0.796 - ETA: 1:33 - loss: 0.4339 - acc: 0.797 - ETA: 1:33 - loss: 0.4337 - acc: 0.796 - ETA: 1:33 - loss: 0.4335 - acc: 0.797 - ETA: 1:33 - loss: 0.4344 - acc: 0.796 - ETA: 1:32 - loss: 0.4338 - acc: 0.797 - ETA: 1:32 - loss: 0.4338 - acc: 0.797 - ETA: 1:32 - loss: 0.4335 - acc: 0.797 - ETA: 1:32 - loss: 0.4326 - acc: 0.797 - ETA: 1:31 - loss: 0.4327 - acc: 0.797 - ETA: 1:31 - loss: 0.4322 - acc: 0.798 - ETA: 1:31 - loss: 0.4316 - acc: 0.798 - ETA: 1:31 - loss: 0.4311 - acc: 0.798 - ETA: 1:31 - loss: 0.4304 - acc: 0.799 - ETA: 1:30 - loss: 0.4299 - acc: 0.799 - ETA: 1:30 - loss: 0.4290 - acc: 0.800 - ETA: 1:30 - loss: 0.4289 - acc: 0.800 - ETA: 1:30 - loss: 0.4282 - acc: 0.800 - ETA: 1:30 - loss: 0.4284 - acc: 0.800 - ETA: 1:29 - loss: 0.4280 - acc: 0.800 - ETA: 1:29 - loss: 0.4271 - acc: 0.801 - ETA: 1:29 - loss: 0.4268 - acc: 0.801 - ETA: 1:29 - loss: 0.4260 - acc: 0.801 - ETA: 1:29 - loss: 0.4260 - acc: 0.801 - ETA: 1:28 - loss: 0.4252 - acc: 0.802 - ETA: 1:28 - loss: 0.4249 - acc: 0.802 - ETA: 1:28 - loss: 0.4241 - acc: 0.803 - ETA: 1:28 - loss: 0.4237 - acc: 0.803 - ETA: 1:28 - loss: 0.4225 - acc: 0.804 - ETA: 1:27 - loss: 0.4220 - acc: 0.804 - ETA: 1:27 - loss: 0.4215 - acc: 0.804 - ETA: 1:27 - loss: 0.4215 - acc: 0.804 - ETA: 1:27 - loss: 0.4220 - acc: 0.804 - ETA: 1:27 - loss: 0.4216 - acc: 0.804 - ETA: 1:26 - loss: 0.4209 - acc: 0.804 - ETA: 1:26 - loss: 0.4198 - acc: 0.805 - ETA: 1:26 - loss: 0.4192 - acc: 0.806 - ETA: 1:26 - loss: 0.4195 - acc: 0.806 - ETA: 1:26 - loss: 0.4192 - acc: 0.806 - ETA: 1:25 - loss: 0.4189 - acc: 0.806 - ETA: 1:25 - loss: 0.4182 - acc: 0.806 - ETA: 1:25 - loss: 0.4178 - acc: 0.807 - ETA: 1:25 - loss: 0.4173 - acc: 0.807 - ETA: 1:25 - loss: 0.4166 - acc: 0.807 - ETA: 1:24 - loss: 0.4161 - acc: 0.808 - ETA: 1:24 - loss: 0.4160 - acc: 0.808 - ETA: 1:24 - loss: 0.4162 - acc: 0.808 - ETA: 1:24 - loss: 0.4152 - acc: 0.808 - ETA: 1:24 - loss: 0.4155 - acc: 0.808 - ETA: 1:23 - loss: 0.4150 - acc: 0.809 - ETA: 1:23 - loss: 0.4148 - acc: 0.809 - ETA: 1:23 - loss: 0.4147 - acc: 0.809 - ETA: 1:23 - loss: 0.4151 - acc: 0.809 - ETA: 1:23 - loss: 0.4150 - acc: 0.809 - ETA: 1:22 - loss: 0.4145 - acc: 0.809 - ETA: 1:22 - loss: 0.4143 - acc: 0.810 - ETA: 1:22 - loss: 0.4137 - acc: 0.810 - ETA: 1:22 - loss: 0.4133 - acc: 0.810 - ETA: 1:22 - loss: 0.4129 - acc: 0.810 - ETA: 1:22 - loss: 0.4121 - acc: 0.811 - ETA: 1:21 - loss: 0.4119 - acc: 0.811 - ETA: 1:21 - loss: 0.4118 - acc: 0.811 - ETA: 1:21 - loss: 0.4114 - acc: 0.811 - ETA: 1:21 - loss: 0.4112 - acc: 0.812 - ETA: 1:21 - loss: 0.4107 - acc: 0.812 - ETA: 1:20 - loss: 0.4110 - acc: 0.812 - ETA: 1:20 - loss: 0.4111 - acc: 0.812 - ETA: 1:20 - loss: 0.4111 - acc: 0.812 - ETA: 1:20 - loss: 0.4106 - acc: 0.812 - ETA: 1:20 - loss: 0.4104 - acc: 0.812 - ETA: 1:19 - loss: 0.4097 - acc: 0.812 - ETA: 1:19 - loss: 0.4104 - acc: 0.812 - ETA: 1:19 - loss: 0.4104 - acc: 0.812 - ETA: 1:19 - loss: 0.4101 - acc: 0.812 - ETA: 1:19 - loss: 0.4094 - acc: 0.813 - ETA: 1:18 - loss: 0.4086 - acc: 0.813 - ETA: 1:18 - loss: 0.4084 - acc: 0.813 - ETA: 1:18 - loss: 0.4084 - acc: 0.813 - ETA: 1:18 - loss: 0.4085 - acc: 0.813 - ETA: 1:18 - loss: 0.4082 - acc: 0.813 - ETA: 1:18 - loss: 0.4076 - acc: 0.814 - ETA: 1:17 - loss: 0.4076 - acc: 0.814 - ETA: 1:17 - loss: 0.4074 - acc: 0.814 - ETA: 1:17 - loss: 0.4072 - acc: 0.814 - ETA: 1:17 - loss: 0.4069 - acc: 0.814 - ETA: 1:17 - loss: 0.4065 - acc: 0.814 - ETA: 1:16 - loss: 0.4059 - acc: 0.815 - ETA: 1:16 - loss: 0.4060 - acc: 0.815 - ETA: 1:16 - loss: 0.4056 - acc: 0.815 - ETA: 1:16 - loss: 0.4052 - acc: 0.815 - ETA: 1:16 - loss: 0.4047 - acc: 0.815 - ETA: 1:15 - loss: 0.4045 - acc: 0.815 - ETA: 1:15 - loss: 0.4045 - acc: 0.815 - ETA: 1:15 - loss: 0.4041 - acc: 0.815 - ETA: 1:15 - loss: 0.4038 - acc: 0.816 - ETA: 1:15 - loss: 0.4035 - acc: 0.816 - ETA: 1:14 - loss: 0.4031 - acc: 0.816 - ETA: 1:14 - loss: 0.4036 - acc: 0.816 - ETA: 1:14 - loss: 0.4031 - acc: 0.816 - ETA: 1:14 - loss: 0.4028 - acc: 0.816 - ETA: 1:14 - loss: 0.4026 - acc: 0.816 - ETA: 1:14 - loss: 0.4029 - acc: 0.816 - ETA: 1:13 - loss: 0.4025 - acc: 0.816 - ETA: 1:13 - loss: 0.4021 - acc: 0.817 - ETA: 1:13 - loss: 0.4021 - acc: 0.817 - ETA: 1:13 - loss: 0.4013 - acc: 0.817 - ETA: 1:13 - loss: 0.4012 - acc: 0.817 - ETA: 1:12 - loss: 0.4006 - acc: 0.818 - ETA: 1:12 - loss: 0.4005 - acc: 0.818 - ETA: 1:12 - loss: 0.4003 - acc: 0.818 - ETA: 1:12 - loss: 0.4001 - acc: 0.818 - ETA: 1:12 - loss: 0.3998 - acc: 0.818 - ETA: 1:12 - loss: 0.3998 - acc: 0.818 - ETA: 1:11 - loss: 0.3995 - acc: 0.818 - ETA: 1:11 - loss: 0.3993 - acc: 0.818 - ETA: 1:11 - loss: 0.3989 - acc: 0.818 - ETA: 1:11 - loss: 0.3992 - acc: 0.818 - ETA: 1:11 - loss: 0.3987 - acc: 0.818 - ETA: 1:10 - loss: 0.3985 - acc: 0.818 - ETA: 1:10 - loss: 0.3982 - acc: 0.819 - ETA: 1:10 - loss: 0.3980 - acc: 0.819 - ETA: 1:10 - loss: 0.3976 - acc: 0.819 - ETA: 1:10 - loss: 0.3970 - acc: 0.819 - ETA: 1:09 - loss: 0.3968 - acc: 0.819 - ETA: 1:09 - loss: 0.3969 - acc: 0.819 - ETA: 1:09 - loss: 0.3968 - acc: 0.819 - ETA: 1:09 - loss: 0.3966 - acc: 0.819 - ETA: 1:09 - loss: 0.3964 - acc: 0.820 - ETA: 1:09 - loss: 0.3961 - acc: 0.820 - ETA: 1:08 - loss: 0.3959 - acc: 0.820 - ETA: 1:08 - loss: 0.3953 - acc: 0.820 - ETA: 1:08 - loss: 0.3949 - acc: 0.820 - ETA: 1:08 - loss: 0.3943 - acc: 0.821 - ETA: 1:08 - loss: 0.3940 - acc: 0.821 - ETA: 1:07 - loss: 0.3939 - acc: 0.821 - ETA: 1:07 - loss: 0.3935 - acc: 0.821 - ETA: 1:07 - loss: 0.3930 - acc: 0.821 - ETA: 1:07 - loss: 0.3930 - acc: 0.821 - ETA: 1:07 - loss: 0.3928 - acc: 0.822 - ETA: 1:07 - loss: 0.3925 - acc: 0.822 - ETA: 1:06 - loss: 0.3920 - acc: 0.822 - ETA: 1:06 - loss: 0.3914 - acc: 0.822 - ETA: 1:06 - loss: 0.3912 - acc: 0.822 - ETA: 1:06 - loss: 0.3911 - acc: 0.822 - ETA: 1:06 - loss: 0.3908 - acc: 0.823 - ETA: 1:05 - loss: 0.3905 - acc: 0.823 - ETA: 1:05 - loss: 0.3899 - acc: 0.823 - ETA: 1:05 - loss: 0.3893 - acc: 0.824 - ETA: 1:05 - loss: 0.3888 - acc: 0.824 - ETA: 1:05 - loss: 0.3884 - acc: 0.824 - ETA: 1:04 - loss: 0.3879 - acc: 0.824 - ETA: 1:04 - loss: 0.3874 - acc: 0.824 - ETA: 1:04 - loss: 0.3873 - acc: 0.824 - ETA: 1:04 - loss: 0.3875 - acc: 0.824 - ETA: 1:04 - loss: 0.3870 - acc: 0.824 - ETA: 1:04 - loss: 0.3872 - acc: 0.824 - ETA: 1:03 - loss: 0.3871 - acc: 0.824 - ETA: 1:03 - loss: 0.3869 - acc: 0.825 - ETA: 1:03 - loss: 0.3863 - acc: 0.825 - ETA: 1:03 - loss: 0.3860 - acc: 0.825 - ETA: 1:03 - loss: 0.3855 - acc: 0.825 - ETA: 1:02 - loss: 0.3855 - acc: 0.825 - ETA: 1:02 - loss: 0.3853 - acc: 0.825 - ETA: 1:02 - loss: 0.3847 - acc: 0.825 - ETA: 1:02 - loss: 0.3845 - acc: 0.825 - ETA: 1:02 - loss: 0.3846 - acc: 0.825 - ETA: 1:02 - loss: 0.3843 - acc: 0.825 - ETA: 1:01 - loss: 0.3839 - acc: 0.825 - ETA: 1:01 - loss: 0.3838 - acc: 0.825 - ETA: 1:01 - loss: 0.3835 - acc: 0.826 - ETA: 1:01 - loss: 0.3835 - acc: 0.8259"
     ]
    },
    {
     "name": "stdout",
     "output_type": "stream",
     "text": [
      "19872/24136 [=======================>......] - ETA: 1:01 - loss: 0.3832 - acc: 0.826 - ETA: 1:00 - loss: 0.3829 - acc: 0.826 - ETA: 1:00 - loss: 0.3827 - acc: 0.826 - ETA: 1:00 - loss: 0.3825 - acc: 0.826 - ETA: 1:00 - loss: 0.3828 - acc: 0.826 - ETA: 1:00 - loss: 0.3828 - acc: 0.827 - ETA: 1:00 - loss: 0.3827 - acc: 0.827 - ETA: 59s - loss: 0.3831 - acc: 0.827 - ETA: 59s - loss: 0.3829 - acc: 0.82 - ETA: 59s - loss: 0.3825 - acc: 0.82 - ETA: 59s - loss: 0.3822 - acc: 0.82 - ETA: 59s - loss: 0.3821 - acc: 0.82 - ETA: 59s - loss: 0.3821 - acc: 0.82 - ETA: 58s - loss: 0.3822 - acc: 0.82 - ETA: 58s - loss: 0.3818 - acc: 0.82 - ETA: 58s - loss: 0.3821 - acc: 0.82 - ETA: 58s - loss: 0.3818 - acc: 0.82 - ETA: 58s - loss: 0.3815 - acc: 0.82 - ETA: 57s - loss: 0.3812 - acc: 0.82 - ETA: 57s - loss: 0.3812 - acc: 0.82 - ETA: 57s - loss: 0.3810 - acc: 0.82 - ETA: 57s - loss: 0.3811 - acc: 0.82 - ETA: 57s - loss: 0.3808 - acc: 0.82 - ETA: 57s - loss: 0.3807 - acc: 0.82 - ETA: 56s - loss: 0.3804 - acc: 0.82 - ETA: 56s - loss: 0.3802 - acc: 0.82 - ETA: 56s - loss: 0.3801 - acc: 0.82 - ETA: 56s - loss: 0.3798 - acc: 0.82 - ETA: 56s - loss: 0.3796 - acc: 0.82 - ETA: 55s - loss: 0.3796 - acc: 0.82 - ETA: 55s - loss: 0.3794 - acc: 0.82 - ETA: 55s - loss: 0.3791 - acc: 0.82 - ETA: 55s - loss: 0.3787 - acc: 0.82 - ETA: 55s - loss: 0.3789 - acc: 0.82 - ETA: 55s - loss: 0.3799 - acc: 0.82 - ETA: 54s - loss: 0.3801 - acc: 0.82 - ETA: 54s - loss: 0.3795 - acc: 0.82 - ETA: 54s - loss: 0.3795 - acc: 0.82 - ETA: 54s - loss: 0.3794 - acc: 0.82 - ETA: 54s - loss: 0.3796 - acc: 0.82 - ETA: 53s - loss: 0.3793 - acc: 0.82 - ETA: 53s - loss: 0.3791 - acc: 0.82 - ETA: 53s - loss: 0.3789 - acc: 0.82 - ETA: 53s - loss: 0.3789 - acc: 0.82 - ETA: 53s - loss: 0.3786 - acc: 0.83 - ETA: 53s - loss: 0.3785 - acc: 0.83 - ETA: 52s - loss: 0.3784 - acc: 0.83 - ETA: 52s - loss: 0.3780 - acc: 0.83 - ETA: 52s - loss: 0.3776 - acc: 0.83 - ETA: 52s - loss: 0.3773 - acc: 0.83 - ETA: 52s - loss: 0.3773 - acc: 0.83 - ETA: 51s - loss: 0.3768 - acc: 0.83 - ETA: 51s - loss: 0.3767 - acc: 0.83 - ETA: 51s - loss: 0.3765 - acc: 0.83 - ETA: 51s - loss: 0.3766 - acc: 0.83 - ETA: 51s - loss: 0.3766 - acc: 0.83 - ETA: 51s - loss: 0.3762 - acc: 0.83 - ETA: 50s - loss: 0.3760 - acc: 0.83 - ETA: 50s - loss: 0.3760 - acc: 0.83 - ETA: 50s - loss: 0.3757 - acc: 0.83 - ETA: 50s - loss: 0.3756 - acc: 0.83 - ETA: 50s - loss: 0.3754 - acc: 0.83 - ETA: 49s - loss: 0.3754 - acc: 0.83 - ETA: 49s - loss: 0.3754 - acc: 0.83 - ETA: 49s - loss: 0.3753 - acc: 0.83 - ETA: 49s - loss: 0.3751 - acc: 0.83 - ETA: 49s - loss: 0.3750 - acc: 0.83 - ETA: 49s - loss: 0.3752 - acc: 0.83 - ETA: 48s - loss: 0.3750 - acc: 0.83 - ETA: 48s - loss: 0.3744 - acc: 0.83 - ETA: 48s - loss: 0.3743 - acc: 0.83 - ETA: 48s - loss: 0.3739 - acc: 0.83 - ETA: 48s - loss: 0.3736 - acc: 0.83 - ETA: 47s - loss: 0.3732 - acc: 0.83 - ETA: 47s - loss: 0.3728 - acc: 0.83 - ETA: 47s - loss: 0.3731 - acc: 0.83 - ETA: 47s - loss: 0.3728 - acc: 0.83 - ETA: 47s - loss: 0.3728 - acc: 0.83 - ETA: 47s - loss: 0.3726 - acc: 0.83 - ETA: 46s - loss: 0.3726 - acc: 0.83 - ETA: 46s - loss: 0.3724 - acc: 0.83 - ETA: 46s - loss: 0.3721 - acc: 0.83 - ETA: 46s - loss: 0.3719 - acc: 0.83 - ETA: 46s - loss: 0.3714 - acc: 0.83 - ETA: 46s - loss: 0.3711 - acc: 0.83 - ETA: 45s - loss: 0.3709 - acc: 0.83 - ETA: 45s - loss: 0.3707 - acc: 0.83 - ETA: 45s - loss: 0.3705 - acc: 0.83 - ETA: 45s - loss: 0.3704 - acc: 0.83 - ETA: 45s - loss: 0.3705 - acc: 0.83 - ETA: 44s - loss: 0.3701 - acc: 0.83 - ETA: 44s - loss: 0.3700 - acc: 0.83 - ETA: 44s - loss: 0.3699 - acc: 0.83 - ETA: 44s - loss: 0.3695 - acc: 0.83 - ETA: 44s - loss: 0.3695 - acc: 0.83 - ETA: 44s - loss: 0.3694 - acc: 0.83 - ETA: 43s - loss: 0.3692 - acc: 0.83 - ETA: 43s - loss: 0.3692 - acc: 0.83 - ETA: 43s - loss: 0.3694 - acc: 0.83 - ETA: 43s - loss: 0.3690 - acc: 0.83 - ETA: 43s - loss: 0.3689 - acc: 0.83 - ETA: 42s - loss: 0.3685 - acc: 0.83 - ETA: 42s - loss: 0.3685 - acc: 0.83 - ETA: 42s - loss: 0.3683 - acc: 0.83 - ETA: 42s - loss: 0.3684 - acc: 0.83 - ETA: 42s - loss: 0.3683 - acc: 0.83 - ETA: 42s - loss: 0.3678 - acc: 0.83 - ETA: 41s - loss: 0.3678 - acc: 0.83 - ETA: 41s - loss: 0.3674 - acc: 0.83 - ETA: 41s - loss: 0.3676 - acc: 0.83 - ETA: 41s - loss: 0.3675 - acc: 0.83 - ETA: 41s - loss: 0.3672 - acc: 0.83 - ETA: 41s - loss: 0.3671 - acc: 0.83 - ETA: 40s - loss: 0.3668 - acc: 0.83 - ETA: 40s - loss: 0.3670 - acc: 0.83 - ETA: 40s - loss: 0.3667 - acc: 0.83 - ETA: 40s - loss: 0.3665 - acc: 0.83 - ETA: 40s - loss: 0.3662 - acc: 0.83 - ETA: 39s - loss: 0.3664 - acc: 0.83 - ETA: 39s - loss: 0.3664 - acc: 0.83 - ETA: 39s - loss: 0.3662 - acc: 0.83 - ETA: 39s - loss: 0.3661 - acc: 0.83 - ETA: 39s - loss: 0.3662 - acc: 0.83 - ETA: 39s - loss: 0.3659 - acc: 0.83 - ETA: 38s - loss: 0.3656 - acc: 0.83 - ETA: 38s - loss: 0.3655 - acc: 0.83 - ETA: 38s - loss: 0.3654 - acc: 0.83 - ETA: 38s - loss: 0.3653 - acc: 0.83 - ETA: 38s - loss: 0.3648 - acc: 0.83 - ETA: 38s - loss: 0.3649 - acc: 0.83 - ETA: 37s - loss: 0.3648 - acc: 0.83 - ETA: 37s - loss: 0.3646 - acc: 0.83 - ETA: 37s - loss: 0.3645 - acc: 0.83 - ETA: 37s - loss: 0.3644 - acc: 0.83 - ETA: 37s - loss: 0.3645 - acc: 0.83 - ETA: 36s - loss: 0.3645 - acc: 0.83 - ETA: 36s - loss: 0.3643 - acc: 0.83 - ETA: 36s - loss: 0.3638 - acc: 0.83 - ETA: 36s - loss: 0.3637 - acc: 0.83 - ETA: 36s - loss: 0.3635 - acc: 0.83 - ETA: 36s - loss: 0.3631 - acc: 0.83 - ETA: 35s - loss: 0.3627 - acc: 0.83 - ETA: 35s - loss: 0.3626 - acc: 0.83 - ETA: 35s - loss: 0.3624 - acc: 0.83 - ETA: 35s - loss: 0.3620 - acc: 0.83 - ETA: 35s - loss: 0.3617 - acc: 0.83 - ETA: 35s - loss: 0.3619 - acc: 0.83 - ETA: 34s - loss: 0.3621 - acc: 0.83 - ETA: 34s - loss: 0.3625 - acc: 0.83 - ETA: 34s - loss: 0.3626 - acc: 0.83 - ETA: 34s - loss: 0.3624 - acc: 0.83 - ETA: 34s - loss: 0.3623 - acc: 0.83 - ETA: 33s - loss: 0.3622 - acc: 0.83 - ETA: 33s - loss: 0.3621 - acc: 0.83 - ETA: 33s - loss: 0.3619 - acc: 0.83 - ETA: 33s - loss: 0.3616 - acc: 0.84 - ETA: 33s - loss: 0.3616 - acc: 0.83 - ETA: 33s - loss: 0.3616 - acc: 0.83 - ETA: 32s - loss: 0.3615 - acc: 0.84 - ETA: 32s - loss: 0.3614 - acc: 0.84 - ETA: 32s - loss: 0.3613 - acc: 0.84 - ETA: 32s - loss: 0.3612 - acc: 0.84 - ETA: 32s - loss: 0.3615 - acc: 0.84 - ETA: 32s - loss: 0.3613 - acc: 0.84 - ETA: 31s - loss: 0.3611 - acc: 0.84 - ETA: 31s - loss: 0.3609 - acc: 0.84 - ETA: 31s - loss: 0.3607 - acc: 0.84 - ETA: 31s - loss: 0.3606 - acc: 0.84 - ETA: 31s - loss: 0.3604 - acc: 0.84 - ETA: 30s - loss: 0.3605 - acc: 0.84 - ETA: 30s - loss: 0.3602 - acc: 0.84 - ETA: 30s - loss: 0.3600 - acc: 0.84 - ETA: 30s - loss: 0.3598 - acc: 0.84 - ETA: 30s - loss: 0.3597 - acc: 0.84 - ETA: 30s - loss: 0.3597 - acc: 0.84 - ETA: 29s - loss: 0.3598 - acc: 0.84 - ETA: 29s - loss: 0.3600 - acc: 0.84 - ETA: 29s - loss: 0.3599 - acc: 0.84 - ETA: 29s - loss: 0.3599 - acc: 0.84 - ETA: 29s - loss: 0.3598 - acc: 0.84 - ETA: 29s - loss: 0.3599 - acc: 0.84 - ETA: 28s - loss: 0.3598 - acc: 0.84 - ETA: 28s - loss: 0.3596 - acc: 0.84 - ETA: 28s - loss: 0.3595 - acc: 0.84 - ETA: 28s - loss: 0.3593 - acc: 0.84 - ETA: 28s - loss: 0.3589 - acc: 0.84 - ETA: 27s - loss: 0.3589 - acc: 0.84 - ETA: 27s - loss: 0.3586 - acc: 0.84 - ETA: 27s - loss: 0.3585 - acc: 0.84 - ETA: 27s - loss: 0.3584 - acc: 0.84 - ETA: 27s - loss: 0.3586 - acc: 0.84 - ETA: 27s - loss: 0.3589 - acc: 0.84 - ETA: 26s - loss: 0.3586 - acc: 0.84 - ETA: 26s - loss: 0.3582 - acc: 0.84 - ETA: 26s - loss: 0.3580 - acc: 0.84 - ETA: 26s - loss: 0.3579 - acc: 0.84 - ETA: 26s - loss: 0.3582 - acc: 0.84 - ETA: 26s - loss: 0.3581 - acc: 0.84 - ETA: 25s - loss: 0.3580 - acc: 0.84 - ETA: 25s - loss: 0.3579 - acc: 0.84 - ETA: 25s - loss: 0.3576 - acc: 0.84 - ETA: 25s - loss: 0.3576 - acc: 0.84 - ETA: 25s - loss: 0.3575 - acc: 0.84 - ETA: 24s - loss: 0.3573 - acc: 0.84 - ETA: 24s - loss: 0.3570 - acc: 0.84 - ETA: 24s - loss: 0.3568 - acc: 0.84 - ETA: 24s - loss: 0.3569 - acc: 0.84 - ETA: 24s - loss: 0.3566 - acc: 0.84 - ETA: 24s - loss: 0.3564 - acc: 0.84 - ETA: 23s - loss: 0.3565 - acc: 0.84 - ETA: 23s - loss: 0.3565 - acc: 0.84 - ETA: 23s - loss: 0.3562 - acc: 0.84 - ETA: 23s - loss: 0.3562 - acc: 0.84 - ETA: 23s - loss: 0.3558 - acc: 0.8432"
     ]
    },
    {
     "name": "stdout",
     "output_type": "stream",
     "text": [
      "24136/24136 [==============================] - ETA: 23s - loss: 0.3562 - acc: 0.84 - ETA: 22s - loss: 0.3562 - acc: 0.84 - ETA: 22s - loss: 0.3563 - acc: 0.84 - ETA: 22s - loss: 0.3561 - acc: 0.84 - ETA: 22s - loss: 0.3562 - acc: 0.84 - ETA: 22s - loss: 0.3560 - acc: 0.84 - ETA: 22s - loss: 0.3557 - acc: 0.84 - ETA: 21s - loss: 0.3556 - acc: 0.84 - ETA: 21s - loss: 0.3552 - acc: 0.84 - ETA: 21s - loss: 0.3551 - acc: 0.84 - ETA: 21s - loss: 0.3551 - acc: 0.84 - ETA: 21s - loss: 0.3551 - acc: 0.84 - ETA: 20s - loss: 0.3551 - acc: 0.84 - ETA: 20s - loss: 0.3550 - acc: 0.84 - ETA: 20s - loss: 0.3550 - acc: 0.84 - ETA: 20s - loss: 0.3548 - acc: 0.84 - ETA: 20s - loss: 0.3548 - acc: 0.84 - ETA: 20s - loss: 0.3548 - acc: 0.84 - ETA: 19s - loss: 0.3547 - acc: 0.84 - ETA: 19s - loss: 0.3545 - acc: 0.84 - ETA: 19s - loss: 0.3542 - acc: 0.84 - ETA: 19s - loss: 0.3540 - acc: 0.84 - ETA: 19s - loss: 0.3539 - acc: 0.84 - ETA: 19s - loss: 0.3537 - acc: 0.84 - ETA: 18s - loss: 0.3538 - acc: 0.84 - ETA: 18s - loss: 0.3537 - acc: 0.84 - ETA: 18s - loss: 0.3538 - acc: 0.84 - ETA: 18s - loss: 0.3537 - acc: 0.84 - ETA: 18s - loss: 0.3536 - acc: 0.84 - ETA: 17s - loss: 0.3534 - acc: 0.84 - ETA: 17s - loss: 0.3531 - acc: 0.84 - ETA: 17s - loss: 0.3530 - acc: 0.84 - ETA: 17s - loss: 0.3527 - acc: 0.84 - ETA: 17s - loss: 0.3526 - acc: 0.84 - ETA: 17s - loss: 0.3526 - acc: 0.84 - ETA: 16s - loss: 0.3524 - acc: 0.84 - ETA: 16s - loss: 0.3523 - acc: 0.84 - ETA: 16s - loss: 0.3525 - acc: 0.84 - ETA: 16s - loss: 0.3524 - acc: 0.84 - ETA: 16s - loss: 0.3522 - acc: 0.84 - ETA: 16s - loss: 0.3521 - acc: 0.84 - ETA: 15s - loss: 0.3521 - acc: 0.84 - ETA: 15s - loss: 0.3524 - acc: 0.84 - ETA: 15s - loss: 0.3524 - acc: 0.84 - ETA: 15s - loss: 0.3523 - acc: 0.84 - ETA: 15s - loss: 0.3526 - acc: 0.84 - ETA: 15s - loss: 0.3526 - acc: 0.84 - ETA: 14s - loss: 0.3526 - acc: 0.84 - ETA: 14s - loss: 0.3525 - acc: 0.84 - ETA: 14s - loss: 0.3522 - acc: 0.84 - ETA: 14s - loss: 0.3521 - acc: 0.84 - ETA: 14s - loss: 0.3521 - acc: 0.84 - ETA: 13s - loss: 0.3519 - acc: 0.84 - ETA: 13s - loss: 0.3519 - acc: 0.84 - ETA: 13s - loss: 0.3518 - acc: 0.84 - ETA: 13s - loss: 0.3517 - acc: 0.84 - ETA: 13s - loss: 0.3514 - acc: 0.84 - ETA: 13s - loss: 0.3513 - acc: 0.84 - ETA: 12s - loss: 0.3511 - acc: 0.84 - ETA: 12s - loss: 0.3511 - acc: 0.84 - ETA: 12s - loss: 0.3511 - acc: 0.84 - ETA: 12s - loss: 0.3511 - acc: 0.84 - ETA: 12s - loss: 0.3509 - acc: 0.84 - ETA: 12s - loss: 0.3508 - acc: 0.84 - ETA: 11s - loss: 0.3506 - acc: 0.84 - ETA: 11s - loss: 0.3505 - acc: 0.84 - ETA: 11s - loss: 0.3505 - acc: 0.84 - ETA: 11s - loss: 0.3503 - acc: 0.84 - ETA: 11s - loss: 0.3503 - acc: 0.84 - ETA: 11s - loss: 0.3501 - acc: 0.84 - ETA: 10s - loss: 0.3501 - acc: 0.84 - ETA: 10s - loss: 0.3500 - acc: 0.84 - ETA: 10s - loss: 0.3499 - acc: 0.84 - ETA: 10s - loss: 0.3499 - acc: 0.84 - ETA: 10s - loss: 0.3499 - acc: 0.84 - ETA: 9s - loss: 0.3498 - acc: 0.8465 - ETA: 9s - loss: 0.3497 - acc: 0.846 - ETA: 9s - loss: 0.3496 - acc: 0.846 - ETA: 9s - loss: 0.3494 - acc: 0.846 - ETA: 9s - loss: 0.3491 - acc: 0.846 - ETA: 9s - loss: 0.3490 - acc: 0.846 - ETA: 8s - loss: 0.3488 - acc: 0.847 - ETA: 8s - loss: 0.3486 - acc: 0.847 - ETA: 8s - loss: 0.3485 - acc: 0.847 - ETA: 8s - loss: 0.3485 - acc: 0.847 - ETA: 8s - loss: 0.3485 - acc: 0.847 - ETA: 8s - loss: 0.3484 - acc: 0.847 - ETA: 7s - loss: 0.3484 - acc: 0.847 - ETA: 7s - loss: 0.3484 - acc: 0.847 - ETA: 7s - loss: 0.3482 - acc: 0.847 - ETA: 7s - loss: 0.3480 - acc: 0.847 - ETA: 7s - loss: 0.3483 - acc: 0.847 - ETA: 6s - loss: 0.3483 - acc: 0.847 - ETA: 6s - loss: 0.3480 - acc: 0.847 - ETA: 6s - loss: 0.3480 - acc: 0.847 - ETA: 6s - loss: 0.3478 - acc: 0.847 - ETA: 6s - loss: 0.3480 - acc: 0.847 - ETA: 6s - loss: 0.3478 - acc: 0.847 - ETA: 5s - loss: 0.3477 - acc: 0.847 - ETA: 5s - loss: 0.3478 - acc: 0.847 - ETA: 5s - loss: 0.3475 - acc: 0.847 - ETA: 5s - loss: 0.3478 - acc: 0.847 - ETA: 5s - loss: 0.3477 - acc: 0.847 - ETA: 5s - loss: 0.3475 - acc: 0.847 - ETA: 4s - loss: 0.3480 - acc: 0.847 - ETA: 4s - loss: 0.3481 - acc: 0.847 - ETA: 4s - loss: 0.3479 - acc: 0.847 - ETA: 4s - loss: 0.3478 - acc: 0.847 - ETA: 4s - loss: 0.3476 - acc: 0.847 - ETA: 4s - loss: 0.3474 - acc: 0.847 - ETA: 3s - loss: 0.3474 - acc: 0.847 - ETA: 3s - loss: 0.3472 - acc: 0.847 - ETA: 3s - loss: 0.3470 - acc: 0.848 - ETA: 3s - loss: 0.3468 - acc: 0.848 - ETA: 3s - loss: 0.3467 - acc: 0.848 - ETA: 2s - loss: 0.3467 - acc: 0.848 - ETA: 2s - loss: 0.3466 - acc: 0.848 - ETA: 2s - loss: 0.3465 - acc: 0.848 - ETA: 2s - loss: 0.3465 - acc: 0.848 - ETA: 2s - loss: 0.3464 - acc: 0.848 - ETA: 2s - loss: 0.3461 - acc: 0.848 - ETA: 1s - loss: 0.3459 - acc: 0.848 - ETA: 1s - loss: 0.3460 - acc: 0.848 - ETA: 1s - loss: 0.3460 - acc: 0.848 - ETA: 1s - loss: 0.3459 - acc: 0.848 - ETA: 1s - loss: 0.3457 - acc: 0.848 - ETA: 1s - loss: 0.3457 - acc: 0.848 - ETA: 0s - loss: 0.3457 - acc: 0.848 - ETA: 0s - loss: 0.3456 - acc: 0.848 - ETA: 0s - loss: 0.3456 - acc: 0.848 - ETA: 0s - loss: 0.3455 - acc: 0.848 - ETA: 0s - loss: 0.3453 - acc: 0.848 - ETA: 0s - loss: 0.3452 - acc: 0.848 - 135s 6ms/step - loss: 0.3452 - acc: 0.8486 - val_loss: 0.2899 - val_acc: 0.8819\n",
      "Epoch 2/3\n"
     ]
    },
    {
     "name": "stdout",
     "output_type": "stream",
     "text": [
      " 6528/24136 [=======>......................] - ETA: 2:00 - loss: 0.1032 - acc: 1.000 - ETA: 1:58 - loss: 0.1506 - acc: 0.984 - ETA: 2:02 - loss: 0.1624 - acc: 0.979 - ETA: 2:03 - loss: 0.1613 - acc: 0.968 - ETA: 2:04 - loss: 0.1781 - acc: 0.956 - ETA: 2:04 - loss: 0.1905 - acc: 0.953 - ETA: 2:03 - loss: 0.1798 - acc: 0.950 - ETA: 2:04 - loss: 0.1848 - acc: 0.945 - ETA: 2:04 - loss: 0.2025 - acc: 0.937 - ETA: 2:04 - loss: 0.1987 - acc: 0.937 - ETA: 2:04 - loss: 0.1915 - acc: 0.940 - ETA: 2:04 - loss: 0.1865 - acc: 0.940 - ETA: 2:04 - loss: 0.1848 - acc: 0.942 - ETA: 2:04 - loss: 0.1842 - acc: 0.939 - ETA: 2:04 - loss: 0.1823 - acc: 0.941 - ETA: 2:04 - loss: 0.1842 - acc: 0.939 - ETA: 2:03 - loss: 0.1865 - acc: 0.935 - ETA: 2:03 - loss: 0.1988 - acc: 0.932 - ETA: 2:04 - loss: 0.1931 - acc: 0.934 - ETA: 2:03 - loss: 0.1958 - acc: 0.934 - ETA: 2:03 - loss: 0.1920 - acc: 0.936 - ETA: 2:03 - loss: 0.1910 - acc: 0.934 - ETA: 2:03 - loss: 0.1883 - acc: 0.933 - ETA: 2:03 - loss: 0.1860 - acc: 0.934 - ETA: 2:03 - loss: 0.1819 - acc: 0.936 - ETA: 2:03 - loss: 0.1788 - acc: 0.937 - ETA: 2:02 - loss: 0.1761 - acc: 0.938 - ETA: 2:02 - loss: 0.1795 - acc: 0.937 - ETA: 2:02 - loss: 0.1834 - acc: 0.936 - ETA: 2:02 - loss: 0.1798 - acc: 0.937 - ETA: 2:02 - loss: 0.1760 - acc: 0.939 - ETA: 2:02 - loss: 0.1753 - acc: 0.939 - ETA: 2:02 - loss: 0.1751 - acc: 0.938 - ETA: 2:01 - loss: 0.1722 - acc: 0.939 - ETA: 2:01 - loss: 0.1733 - acc: 0.938 - ETA: 2:01 - loss: 0.1782 - acc: 0.936 - ETA: 2:01 - loss: 0.1774 - acc: 0.937 - ETA: 2:01 - loss: 0.1790 - acc: 0.936 - ETA: 2:01 - loss: 0.1900 - acc: 0.934 - ETA: 2:01 - loss: 0.1928 - acc: 0.933 - ETA: 2:01 - loss: 0.1924 - acc: 0.932 - ETA: 2:00 - loss: 0.1923 - acc: 0.932 - ETA: 2:00 - loss: 0.1918 - acc: 0.932 - ETA: 2:00 - loss: 0.1894 - acc: 0.933 - ETA: 2:00 - loss: 0.1874 - acc: 0.934 - ETA: 2:00 - loss: 0.1920 - acc: 0.932 - ETA: 2:00 - loss: 0.1901 - acc: 0.932 - ETA: 2:00 - loss: 0.1914 - acc: 0.933 - ETA: 1:59 - loss: 0.1946 - acc: 0.933 - ETA: 1:59 - loss: 0.1932 - acc: 0.933 - ETA: 1:59 - loss: 0.1912 - acc: 0.934 - ETA: 1:59 - loss: 0.1905 - acc: 0.935 - ETA: 1:59 - loss: 0.1891 - acc: 0.935 - ETA: 1:58 - loss: 0.1903 - acc: 0.935 - ETA: 1:58 - loss: 0.1889 - acc: 0.935 - ETA: 1:58 - loss: 0.1891 - acc: 0.935 - ETA: 1:58 - loss: 0.1887 - acc: 0.935 - ETA: 1:58 - loss: 0.1892 - acc: 0.934 - ETA: 1:58 - loss: 0.1914 - acc: 0.933 - ETA: 1:58 - loss: 0.1936 - acc: 0.931 - ETA: 1:58 - loss: 0.1928 - acc: 0.931 - ETA: 1:57 - loss: 0.1946 - acc: 0.930 - ETA: 1:57 - loss: 0.1929 - acc: 0.931 - ETA: 1:57 - loss: 0.1919 - acc: 0.931 - ETA: 1:57 - loss: 0.1917 - acc: 0.931 - ETA: 1:57 - loss: 0.1911 - acc: 0.931 - ETA: 1:57 - loss: 0.1907 - acc: 0.931 - ETA: 1:56 - loss: 0.1894 - acc: 0.931 - ETA: 1:56 - loss: 0.1888 - acc: 0.931 - ETA: 1:56 - loss: 0.1891 - acc: 0.931 - ETA: 1:56 - loss: 0.1904 - acc: 0.930 - ETA: 1:56 - loss: 0.1893 - acc: 0.931 - ETA: 1:55 - loss: 0.1882 - acc: 0.931 - ETA: 1:55 - loss: 0.1872 - acc: 0.932 - ETA: 1:55 - loss: 0.1864 - acc: 0.932 - ETA: 1:55 - loss: 0.1851 - acc: 0.932 - ETA: 1:55 - loss: 0.1844 - acc: 0.933 - ETA: 1:55 - loss: 0.1849 - acc: 0.932 - ETA: 1:54 - loss: 0.1853 - acc: 0.931 - ETA: 1:54 - loss: 0.1854 - acc: 0.931 - ETA: 1:54 - loss: 0.1865 - acc: 0.931 - ETA: 1:54 - loss: 0.1861 - acc: 0.931 - ETA: 1:54 - loss: 0.1908 - acc: 0.930 - ETA: 1:54 - loss: 0.1901 - acc: 0.930 - ETA: 1:53 - loss: 0.1891 - acc: 0.930 - ETA: 1:53 - loss: 0.1893 - acc: 0.930 - ETA: 1:53 - loss: 0.1880 - acc: 0.931 - ETA: 1:53 - loss: 0.1875 - acc: 0.931 - ETA: 1:53 - loss: 0.1870 - acc: 0.931 - ETA: 1:53 - loss: 0.1866 - acc: 0.931 - ETA: 1:52 - loss: 0.1870 - acc: 0.931 - ETA: 1:52 - loss: 0.1863 - acc: 0.931 - ETA: 1:52 - loss: 0.1856 - acc: 0.931 - ETA: 1:52 - loss: 0.1847 - acc: 0.932 - ETA: 1:52 - loss: 0.1837 - acc: 0.932 - ETA: 1:52 - loss: 0.1863 - acc: 0.932 - ETA: 1:51 - loss: 0.1871 - acc: 0.932 - ETA: 1:51 - loss: 0.1871 - acc: 0.932 - ETA: 1:51 - loss: 0.1862 - acc: 0.932 - ETA: 1:51 - loss: 0.1860 - acc: 0.932 - ETA: 1:51 - loss: 0.1847 - acc: 0.933 - ETA: 1:51 - loss: 0.1845 - acc: 0.933 - ETA: 1:50 - loss: 0.1837 - acc: 0.933 - ETA: 1:50 - loss: 0.1853 - acc: 0.933 - ETA: 1:50 - loss: 0.1857 - acc: 0.933 - ETA: 1:50 - loss: 0.1844 - acc: 0.933 - ETA: 1:50 - loss: 0.1845 - acc: 0.933 - ETA: 1:50 - loss: 0.1852 - acc: 0.932 - ETA: 1:49 - loss: 0.1850 - acc: 0.932 - ETA: 1:49 - loss: 0.1846 - acc: 0.933 - ETA: 1:49 - loss: 0.1842 - acc: 0.933 - ETA: 1:49 - loss: 0.1830 - acc: 0.933 - ETA: 1:49 - loss: 0.1823 - acc: 0.933 - ETA: 1:49 - loss: 0.1826 - acc: 0.933 - ETA: 1:48 - loss: 0.1825 - acc: 0.934 - ETA: 1:48 - loss: 0.1821 - acc: 0.933 - ETA: 1:48 - loss: 0.1818 - acc: 0.933 - ETA: 1:48 - loss: 0.1815 - acc: 0.933 - ETA: 1:48 - loss: 0.1808 - acc: 0.934 - ETA: 1:47 - loss: 0.1823 - acc: 0.934 - ETA: 1:47 - loss: 0.1817 - acc: 0.934 - ETA: 1:47 - loss: 0.1813 - acc: 0.934 - ETA: 1:47 - loss: 0.1811 - acc: 0.934 - ETA: 1:47 - loss: 0.1825 - acc: 0.934 - ETA: 1:47 - loss: 0.1822 - acc: 0.934 - ETA: 1:46 - loss: 0.1823 - acc: 0.934 - ETA: 1:46 - loss: 0.1820 - acc: 0.934 - ETA: 1:46 - loss: 0.1837 - acc: 0.933 - ETA: 1:46 - loss: 0.1825 - acc: 0.933 - ETA: 1:46 - loss: 0.1819 - acc: 0.933 - ETA: 1:46 - loss: 0.1814 - acc: 0.934 - ETA: 1:45 - loss: 0.1814 - acc: 0.933 - ETA: 1:45 - loss: 0.1810 - acc: 0.934 - ETA: 1:45 - loss: 0.1807 - acc: 0.934 - ETA: 1:45 - loss: 0.1812 - acc: 0.933 - ETA: 1:45 - loss: 0.1806 - acc: 0.933 - ETA: 1:45 - loss: 0.1818 - acc: 0.933 - ETA: 1:44 - loss: 0.1818 - acc: 0.933 - ETA: 1:44 - loss: 0.1820 - acc: 0.933 - ETA: 1:44 - loss: 0.1819 - acc: 0.933 - ETA: 1:44 - loss: 0.1825 - acc: 0.932 - ETA: 1:44 - loss: 0.1833 - acc: 0.932 - ETA: 1:44 - loss: 0.1834 - acc: 0.932 - ETA: 1:43 - loss: 0.1857 - acc: 0.931 - ETA: 1:43 - loss: 0.1863 - acc: 0.931 - ETA: 1:43 - loss: 0.1872 - acc: 0.930 - ETA: 1:43 - loss: 0.1874 - acc: 0.930 - ETA: 1:43 - loss: 0.1878 - acc: 0.930 - ETA: 1:43 - loss: 0.1874 - acc: 0.930 - ETA: 1:42 - loss: 0.1876 - acc: 0.930 - ETA: 1:42 - loss: 0.1887 - acc: 0.929 - ETA: 1:42 - loss: 0.1886 - acc: 0.929 - ETA: 1:42 - loss: 0.1885 - acc: 0.929 - ETA: 1:42 - loss: 0.1884 - acc: 0.929 - ETA: 1:42 - loss: 0.1882 - acc: 0.929 - ETA: 1:41 - loss: 0.1877 - acc: 0.929 - ETA: 1:41 - loss: 0.1878 - acc: 0.929 - ETA: 1:41 - loss: 0.1876 - acc: 0.929 - ETA: 1:41 - loss: 0.1872 - acc: 0.930 - ETA: 1:41 - loss: 0.1873 - acc: 0.929 - ETA: 1:41 - loss: 0.1874 - acc: 0.929 - ETA: 1:40 - loss: 0.1883 - acc: 0.929 - ETA: 1:40 - loss: 0.1879 - acc: 0.929 - ETA: 1:40 - loss: 0.1880 - acc: 0.929 - ETA: 1:40 - loss: 0.1880 - acc: 0.929 - ETA: 1:40 - loss: 0.1887 - acc: 0.929 - ETA: 1:40 - loss: 0.1887 - acc: 0.929 - ETA: 1:39 - loss: 0.1882 - acc: 0.929 - ETA: 1:39 - loss: 0.1878 - acc: 0.930 - ETA: 1:39 - loss: 0.1880 - acc: 0.930 - ETA: 1:39 - loss: 0.1874 - acc: 0.930 - ETA: 1:39 - loss: 0.1874 - acc: 0.930 - ETA: 1:39 - loss: 0.1871 - acc: 0.930 - ETA: 1:38 - loss: 0.1870 - acc: 0.930 - ETA: 1:38 - loss: 0.1864 - acc: 0.930 - ETA: 1:38 - loss: 0.1865 - acc: 0.930 - ETA: 1:38 - loss: 0.1864 - acc: 0.931 - ETA: 1:38 - loss: 0.1867 - acc: 0.930 - ETA: 1:38 - loss: 0.1867 - acc: 0.930 - ETA: 1:37 - loss: 0.1870 - acc: 0.930 - ETA: 1:37 - loss: 0.1872 - acc: 0.930 - ETA: 1:37 - loss: 0.1870 - acc: 0.930 - ETA: 1:37 - loss: 0.1872 - acc: 0.930 - ETA: 1:37 - loss: 0.1868 - acc: 0.930 - ETA: 1:37 - loss: 0.1862 - acc: 0.930 - ETA: 1:36 - loss: 0.1860 - acc: 0.930 - ETA: 1:36 - loss: 0.1857 - acc: 0.930 - ETA: 1:36 - loss: 0.1864 - acc: 0.930 - ETA: 1:36 - loss: 0.1864 - acc: 0.930 - ETA: 1:36 - loss: 0.1859 - acc: 0.930 - ETA: 1:36 - loss: 0.1853 - acc: 0.930 - ETA: 1:35 - loss: 0.1847 - acc: 0.930 - ETA: 1:35 - loss: 0.1845 - acc: 0.930 - ETA: 1:35 - loss: 0.1842 - acc: 0.930 - ETA: 1:35 - loss: 0.1836 - acc: 0.930 - ETA: 1:35 - loss: 0.1827 - acc: 0.930 - ETA: 1:35 - loss: 0.1828 - acc: 0.930 - ETA: 1:34 - loss: 0.1830 - acc: 0.930 - ETA: 1:34 - loss: 0.1831 - acc: 0.930 - ETA: 1:34 - loss: 0.1827 - acc: 0.930 - ETA: 1:34 - loss: 0.1825 - acc: 0.930 - ETA: 1:34 - loss: 0.1823 - acc: 0.930 - ETA: 1:34 - loss: 0.1818 - acc: 0.931 - ETA: 1:33 - loss: 0.1829 - acc: 0.9309"
     ]
    },
    {
     "name": "stdout",
     "output_type": "stream",
     "text": [
      "13056/24136 [===============>..............] - ETA: 1:33 - loss: 0.1837 - acc: 0.930 - ETA: 1:33 - loss: 0.1838 - acc: 0.930 - ETA: 1:33 - loss: 0.1832 - acc: 0.930 - ETA: 1:33 - loss: 0.1831 - acc: 0.930 - ETA: 1:33 - loss: 0.1847 - acc: 0.929 - ETA: 1:32 - loss: 0.1845 - acc: 0.929 - ETA: 1:32 - loss: 0.1854 - acc: 0.929 - ETA: 1:32 - loss: 0.1864 - acc: 0.929 - ETA: 1:32 - loss: 0.1869 - acc: 0.929 - ETA: 1:32 - loss: 0.1867 - acc: 0.929 - ETA: 1:32 - loss: 0.1869 - acc: 0.928 - ETA: 1:31 - loss: 0.1878 - acc: 0.928 - ETA: 1:31 - loss: 0.1879 - acc: 0.928 - ETA: 1:31 - loss: 0.1878 - acc: 0.928 - ETA: 1:31 - loss: 0.1873 - acc: 0.928 - ETA: 1:31 - loss: 0.1873 - acc: 0.929 - ETA: 1:31 - loss: 0.1870 - acc: 0.929 - ETA: 1:30 - loss: 0.1869 - acc: 0.929 - ETA: 1:30 - loss: 0.1865 - acc: 0.929 - ETA: 1:30 - loss: 0.1869 - acc: 0.928 - ETA: 1:30 - loss: 0.1868 - acc: 0.928 - ETA: 1:30 - loss: 0.1871 - acc: 0.928 - ETA: 1:30 - loss: 0.1874 - acc: 0.928 - ETA: 1:29 - loss: 0.1873 - acc: 0.929 - ETA: 1:29 - loss: 0.1870 - acc: 0.929 - ETA: 1:29 - loss: 0.1866 - acc: 0.929 - ETA: 1:29 - loss: 0.1873 - acc: 0.929 - ETA: 1:29 - loss: 0.1876 - acc: 0.929 - ETA: 1:29 - loss: 0.1880 - acc: 0.928 - ETA: 1:28 - loss: 0.1877 - acc: 0.929 - ETA: 1:28 - loss: 0.1873 - acc: 0.929 - ETA: 1:28 - loss: 0.1880 - acc: 0.928 - ETA: 1:28 - loss: 0.1883 - acc: 0.928 - ETA: 1:28 - loss: 0.1884 - acc: 0.928 - ETA: 1:28 - loss: 0.1885 - acc: 0.928 - ETA: 1:27 - loss: 0.1881 - acc: 0.928 - ETA: 1:27 - loss: 0.1877 - acc: 0.929 - ETA: 1:27 - loss: 0.1879 - acc: 0.929 - ETA: 1:27 - loss: 0.1881 - acc: 0.928 - ETA: 1:27 - loss: 0.1883 - acc: 0.928 - ETA: 1:27 - loss: 0.1883 - acc: 0.928 - ETA: 1:26 - loss: 0.1884 - acc: 0.928 - ETA: 1:26 - loss: 0.1881 - acc: 0.928 - ETA: 1:26 - loss: 0.1879 - acc: 0.928 - ETA: 1:26 - loss: 0.1879 - acc: 0.928 - ETA: 1:26 - loss: 0.1876 - acc: 0.928 - ETA: 1:26 - loss: 0.1879 - acc: 0.928 - ETA: 1:25 - loss: 0.1877 - acc: 0.928 - ETA: 1:25 - loss: 0.1876 - acc: 0.928 - ETA: 1:25 - loss: 0.1877 - acc: 0.928 - ETA: 1:25 - loss: 0.1878 - acc: 0.928 - ETA: 1:25 - loss: 0.1878 - acc: 0.928 - ETA: 1:24 - loss: 0.1873 - acc: 0.928 - ETA: 1:24 - loss: 0.1873 - acc: 0.928 - ETA: 1:24 - loss: 0.1870 - acc: 0.929 - ETA: 1:24 - loss: 0.1869 - acc: 0.929 - ETA: 1:24 - loss: 0.1882 - acc: 0.928 - ETA: 1:24 - loss: 0.1885 - acc: 0.928 - ETA: 1:23 - loss: 0.1886 - acc: 0.928 - ETA: 1:23 - loss: 0.1891 - acc: 0.928 - ETA: 1:23 - loss: 0.1903 - acc: 0.927 - ETA: 1:23 - loss: 0.1898 - acc: 0.927 - ETA: 1:23 - loss: 0.1902 - acc: 0.927 - ETA: 1:23 - loss: 0.1902 - acc: 0.927 - ETA: 1:22 - loss: 0.1900 - acc: 0.928 - ETA: 1:22 - loss: 0.1903 - acc: 0.927 - ETA: 1:22 - loss: 0.1898 - acc: 0.928 - ETA: 1:22 - loss: 0.1895 - acc: 0.928 - ETA: 1:22 - loss: 0.1897 - acc: 0.928 - ETA: 1:22 - loss: 0.1895 - acc: 0.928 - ETA: 1:21 - loss: 0.1894 - acc: 0.928 - ETA: 1:21 - loss: 0.1893 - acc: 0.928 - ETA: 1:21 - loss: 0.1892 - acc: 0.928 - ETA: 1:21 - loss: 0.1894 - acc: 0.928 - ETA: 1:21 - loss: 0.1895 - acc: 0.928 - ETA: 1:21 - loss: 0.1896 - acc: 0.928 - ETA: 1:20 - loss: 0.1894 - acc: 0.928 - ETA: 1:20 - loss: 0.1899 - acc: 0.928 - ETA: 1:20 - loss: 0.1900 - acc: 0.927 - ETA: 1:20 - loss: 0.1898 - acc: 0.927 - ETA: 1:20 - loss: 0.1899 - acc: 0.927 - ETA: 1:19 - loss: 0.1904 - acc: 0.927 - ETA: 1:19 - loss: 0.1903 - acc: 0.927 - ETA: 1:19 - loss: 0.1899 - acc: 0.927 - ETA: 1:19 - loss: 0.1900 - acc: 0.927 - ETA: 1:19 - loss: 0.1899 - acc: 0.927 - ETA: 1:19 - loss: 0.1894 - acc: 0.928 - ETA: 1:19 - loss: 0.1889 - acc: 0.928 - ETA: 1:19 - loss: 0.1889 - acc: 0.928 - ETA: 1:18 - loss: 0.1888 - acc: 0.928 - ETA: 1:18 - loss: 0.1886 - acc: 0.928 - ETA: 1:18 - loss: 0.1885 - acc: 0.928 - ETA: 1:18 - loss: 0.1883 - acc: 0.928 - ETA: 1:18 - loss: 0.1889 - acc: 0.928 - ETA: 1:18 - loss: 0.1887 - acc: 0.928 - ETA: 1:17 - loss: 0.1885 - acc: 0.928 - ETA: 1:17 - loss: 0.1886 - acc: 0.928 - ETA: 1:17 - loss: 0.1883 - acc: 0.928 - ETA: 1:17 - loss: 0.1879 - acc: 0.928 - ETA: 1:17 - loss: 0.1875 - acc: 0.928 - ETA: 1:17 - loss: 0.1877 - acc: 0.928 - ETA: 1:16 - loss: 0.1882 - acc: 0.928 - ETA: 1:16 - loss: 0.1886 - acc: 0.928 - ETA: 1:16 - loss: 0.1882 - acc: 0.928 - ETA: 1:16 - loss: 0.1882 - acc: 0.928 - ETA: 1:16 - loss: 0.1886 - acc: 0.928 - ETA: 1:16 - loss: 0.1885 - acc: 0.928 - ETA: 1:15 - loss: 0.1885 - acc: 0.928 - ETA: 1:15 - loss: 0.1884 - acc: 0.928 - ETA: 1:15 - loss: 0.1880 - acc: 0.928 - ETA: 1:15 - loss: 0.1883 - acc: 0.928 - ETA: 1:15 - loss: 0.1882 - acc: 0.928 - ETA: 1:14 - loss: 0.1883 - acc: 0.928 - ETA: 1:14 - loss: 0.1881 - acc: 0.928 - ETA: 1:14 - loss: 0.1891 - acc: 0.928 - ETA: 1:14 - loss: 0.1891 - acc: 0.928 - ETA: 1:14 - loss: 0.1895 - acc: 0.928 - ETA: 1:14 - loss: 0.1895 - acc: 0.928 - ETA: 1:13 - loss: 0.1901 - acc: 0.928 - ETA: 1:13 - loss: 0.1904 - acc: 0.928 - ETA: 1:13 - loss: 0.1906 - acc: 0.927 - ETA: 1:13 - loss: 0.1918 - acc: 0.927 - ETA: 1:13 - loss: 0.1914 - acc: 0.927 - ETA: 1:13 - loss: 0.1914 - acc: 0.927 - ETA: 1:12 - loss: 0.1916 - acc: 0.927 - ETA: 1:12 - loss: 0.1918 - acc: 0.927 - ETA: 1:12 - loss: 0.1918 - acc: 0.927 - ETA: 1:12 - loss: 0.1922 - acc: 0.927 - ETA: 1:12 - loss: 0.1921 - acc: 0.927 - ETA: 1:12 - loss: 0.1928 - acc: 0.927 - ETA: 1:11 - loss: 0.1929 - acc: 0.927 - ETA: 1:11 - loss: 0.1932 - acc: 0.927 - ETA: 1:11 - loss: 0.1934 - acc: 0.926 - ETA: 1:11 - loss: 0.1933 - acc: 0.926 - ETA: 1:11 - loss: 0.1937 - acc: 0.926 - ETA: 1:11 - loss: 0.1935 - acc: 0.926 - ETA: 1:10 - loss: 0.1933 - acc: 0.926 - ETA: 1:10 - loss: 0.1931 - acc: 0.927 - ETA: 1:10 - loss: 0.1930 - acc: 0.927 - ETA: 1:10 - loss: 0.1927 - acc: 0.927 - ETA: 1:10 - loss: 0.1928 - acc: 0.927 - ETA: 1:10 - loss: 0.1926 - acc: 0.927 - ETA: 1:09 - loss: 0.1930 - acc: 0.926 - ETA: 1:09 - loss: 0.1932 - acc: 0.926 - ETA: 1:09 - loss: 0.1932 - acc: 0.926 - ETA: 1:09 - loss: 0.1931 - acc: 0.926 - ETA: 1:09 - loss: 0.1933 - acc: 0.926 - ETA: 1:08 - loss: 0.1937 - acc: 0.926 - ETA: 1:08 - loss: 0.1937 - acc: 0.926 - ETA: 1:08 - loss: 0.1937 - acc: 0.926 - ETA: 1:08 - loss: 0.1937 - acc: 0.926 - ETA: 1:08 - loss: 0.1937 - acc: 0.926 - ETA: 1:08 - loss: 0.1937 - acc: 0.926 - ETA: 1:07 - loss: 0.1938 - acc: 0.926 - ETA: 1:07 - loss: 0.1935 - acc: 0.926 - ETA: 1:07 - loss: 0.1939 - acc: 0.926 - ETA: 1:07 - loss: 0.1937 - acc: 0.926 - ETA: 1:07 - loss: 0.1938 - acc: 0.926 - ETA: 1:07 - loss: 0.1937 - acc: 0.926 - ETA: 1:06 - loss: 0.1938 - acc: 0.926 - ETA: 1:06 - loss: 0.1938 - acc: 0.926 - ETA: 1:06 - loss: 0.1937 - acc: 0.926 - ETA: 1:06 - loss: 0.1934 - acc: 0.926 - ETA: 1:06 - loss: 0.1941 - acc: 0.926 - ETA: 1:06 - loss: 0.1941 - acc: 0.926 - ETA: 1:05 - loss: 0.1944 - acc: 0.926 - ETA: 1:05 - loss: 0.1944 - acc: 0.926 - ETA: 1:05 - loss: 0.1943 - acc: 0.926 - ETA: 1:05 - loss: 0.1946 - acc: 0.926 - ETA: 1:05 - loss: 0.1947 - acc: 0.926 - ETA: 1:04 - loss: 0.1949 - acc: 0.926 - ETA: 1:04 - loss: 0.1948 - acc: 0.926 - ETA: 1:04 - loss: 0.1946 - acc: 0.926 - ETA: 1:04 - loss: 0.1949 - acc: 0.926 - ETA: 1:04 - loss: 0.1951 - acc: 0.925 - ETA: 1:04 - loss: 0.1950 - acc: 0.925 - ETA: 1:03 - loss: 0.1952 - acc: 0.925 - ETA: 1:03 - loss: 0.1953 - acc: 0.925 - ETA: 1:03 - loss: 0.1952 - acc: 0.925 - ETA: 1:03 - loss: 0.1953 - acc: 0.925 - ETA: 1:03 - loss: 0.1958 - acc: 0.925 - ETA: 1:03 - loss: 0.1956 - acc: 0.925 - ETA: 1:02 - loss: 0.1960 - acc: 0.925 - ETA: 1:02 - loss: 0.1965 - acc: 0.925 - ETA: 1:02 - loss: 0.1963 - acc: 0.925 - ETA: 1:02 - loss: 0.1964 - acc: 0.925 - ETA: 1:02 - loss: 0.1961 - acc: 0.925 - ETA: 1:02 - loss: 0.1966 - acc: 0.925 - ETA: 1:01 - loss: 0.1969 - acc: 0.925 - ETA: 1:01 - loss: 0.1970 - acc: 0.925 - ETA: 1:01 - loss: 0.1972 - acc: 0.925 - ETA: 1:01 - loss: 0.1974 - acc: 0.925 - ETA: 1:01 - loss: 0.1973 - acc: 0.925 - ETA: 1:01 - loss: 0.1972 - acc: 0.925 - ETA: 1:00 - loss: 0.1976 - acc: 0.925 - ETA: 1:00 - loss: 0.1977 - acc: 0.924 - ETA: 1:00 - loss: 0.1975 - acc: 0.925 - ETA: 1:00 - loss: 0.1973 - acc: 0.925 - ETA: 1:00 - loss: 0.1972 - acc: 0.925 - ETA: 59s - loss: 0.1969 - acc: 0.925 - ETA: 59s - loss: 0.1971 - acc: 0.92 - ETA: 59s - loss: 0.1973 - acc: 0.92 - ETA: 59s - loss: 0.1974 - acc: 0.92 - ETA: 59s - loss: 0.1972 - acc: 0.9253"
     ]
    },
    {
     "name": "stdout",
     "output_type": "stream",
     "text": [
      "19936/24136 [=======================>......] - ETA: 59s - loss: 0.1968 - acc: 0.92 - ETA: 58s - loss: 0.1966 - acc: 0.92 - ETA: 58s - loss: 0.1967 - acc: 0.92 - ETA: 58s - loss: 0.1968 - acc: 0.92 - ETA: 58s - loss: 0.1966 - acc: 0.92 - ETA: 58s - loss: 0.1962 - acc: 0.92 - ETA: 58s - loss: 0.1964 - acc: 0.92 - ETA: 57s - loss: 0.1966 - acc: 0.92 - ETA: 57s - loss: 0.1967 - acc: 0.92 - ETA: 57s - loss: 0.1964 - acc: 0.92 - ETA: 57s - loss: 0.1967 - acc: 0.92 - ETA: 57s - loss: 0.1968 - acc: 0.92 - ETA: 57s - loss: 0.1970 - acc: 0.92 - ETA: 56s - loss: 0.1969 - acc: 0.92 - ETA: 56s - loss: 0.1969 - acc: 0.92 - ETA: 56s - loss: 0.1968 - acc: 0.92 - ETA: 56s - loss: 0.1967 - acc: 0.92 - ETA: 56s - loss: 0.1969 - acc: 0.92 - ETA: 56s - loss: 0.1969 - acc: 0.92 - ETA: 55s - loss: 0.1968 - acc: 0.92 - ETA: 55s - loss: 0.1966 - acc: 0.92 - ETA: 55s - loss: 0.1969 - acc: 0.92 - ETA: 55s - loss: 0.1967 - acc: 0.92 - ETA: 55s - loss: 0.1965 - acc: 0.92 - ETA: 54s - loss: 0.1963 - acc: 0.92 - ETA: 54s - loss: 0.1965 - acc: 0.92 - ETA: 54s - loss: 0.1966 - acc: 0.92 - ETA: 54s - loss: 0.1964 - acc: 0.92 - ETA: 54s - loss: 0.1963 - acc: 0.92 - ETA: 54s - loss: 0.1969 - acc: 0.92 - ETA: 53s - loss: 0.1966 - acc: 0.92 - ETA: 53s - loss: 0.1965 - acc: 0.92 - ETA: 53s - loss: 0.1964 - acc: 0.92 - ETA: 53s - loss: 0.1966 - acc: 0.92 - ETA: 53s - loss: 0.1967 - acc: 0.92 - ETA: 53s - loss: 0.1967 - acc: 0.92 - ETA: 52s - loss: 0.1973 - acc: 0.92 - ETA: 52s - loss: 0.1971 - acc: 0.92 - ETA: 52s - loss: 0.1972 - acc: 0.92 - ETA: 52s - loss: 0.1974 - acc: 0.92 - ETA: 52s - loss: 0.1974 - acc: 0.92 - ETA: 52s - loss: 0.1974 - acc: 0.92 - ETA: 51s - loss: 0.1975 - acc: 0.92 - ETA: 51s - loss: 0.1979 - acc: 0.92 - ETA: 51s - loss: 0.1976 - acc: 0.92 - ETA: 51s - loss: 0.1974 - acc: 0.92 - ETA: 51s - loss: 0.1973 - acc: 0.92 - ETA: 51s - loss: 0.1977 - acc: 0.92 - ETA: 50s - loss: 0.1974 - acc: 0.92 - ETA: 50s - loss: 0.1980 - acc: 0.92 - ETA: 50s - loss: 0.1981 - acc: 0.92 - ETA: 50s - loss: 0.1980 - acc: 0.92 - ETA: 50s - loss: 0.1983 - acc: 0.92 - ETA: 50s - loss: 0.1985 - acc: 0.92 - ETA: 49s - loss: 0.1983 - acc: 0.92 - ETA: 49s - loss: 0.1981 - acc: 0.92 - ETA: 49s - loss: 0.1981 - acc: 0.92 - ETA: 49s - loss: 0.1982 - acc: 0.92 - ETA: 49s - loss: 0.1982 - acc: 0.92 - ETA: 48s - loss: 0.1982 - acc: 0.92 - ETA: 48s - loss: 0.1980 - acc: 0.92 - ETA: 48s - loss: 0.1978 - acc: 0.92 - ETA: 48s - loss: 0.1976 - acc: 0.92 - ETA: 48s - loss: 0.1975 - acc: 0.92 - ETA: 48s - loss: 0.1974 - acc: 0.92 - ETA: 47s - loss: 0.1973 - acc: 0.92 - ETA: 47s - loss: 0.1975 - acc: 0.92 - ETA: 47s - loss: 0.1975 - acc: 0.92 - ETA: 47s - loss: 0.1974 - acc: 0.92 - ETA: 47s - loss: 0.1974 - acc: 0.92 - ETA: 47s - loss: 0.1973 - acc: 0.92 - ETA: 46s - loss: 0.1973 - acc: 0.92 - ETA: 46s - loss: 0.1970 - acc: 0.92 - ETA: 46s - loss: 0.1971 - acc: 0.92 - ETA: 46s - loss: 0.1969 - acc: 0.92 - ETA: 46s - loss: 0.1967 - acc: 0.92 - ETA: 46s - loss: 0.1967 - acc: 0.92 - ETA: 45s - loss: 0.1966 - acc: 0.92 - ETA: 45s - loss: 0.1965 - acc: 0.92 - ETA: 45s - loss: 0.1963 - acc: 0.92 - ETA: 45s - loss: 0.1963 - acc: 0.92 - ETA: 45s - loss: 0.1963 - acc: 0.92 - ETA: 45s - loss: 0.1962 - acc: 0.92 - ETA: 44s - loss: 0.1965 - acc: 0.92 - ETA: 44s - loss: 0.1964 - acc: 0.92 - ETA: 44s - loss: 0.1963 - acc: 0.92 - ETA: 44s - loss: 0.1964 - acc: 0.92 - ETA: 44s - loss: 0.1963 - acc: 0.92 - ETA: 44s - loss: 0.1961 - acc: 0.92 - ETA: 43s - loss: 0.1959 - acc: 0.92 - ETA: 43s - loss: 0.1962 - acc: 0.92 - ETA: 43s - loss: 0.1964 - acc: 0.92 - ETA: 43s - loss: 0.1962 - acc: 0.92 - ETA: 43s - loss: 0.1958 - acc: 0.92 - ETA: 42s - loss: 0.1955 - acc: 0.92 - ETA: 42s - loss: 0.1957 - acc: 0.92 - ETA: 42s - loss: 0.1955 - acc: 0.92 - ETA: 42s - loss: 0.1954 - acc: 0.92 - ETA: 42s - loss: 0.1957 - acc: 0.92 - ETA: 42s - loss: 0.1958 - acc: 0.92 - ETA: 41s - loss: 0.1956 - acc: 0.92 - ETA: 41s - loss: 0.1962 - acc: 0.92 - ETA: 41s - loss: 0.1961 - acc: 0.92 - ETA: 41s - loss: 0.1963 - acc: 0.92 - ETA: 41s - loss: 0.1965 - acc: 0.92 - ETA: 41s - loss: 0.1967 - acc: 0.92 - ETA: 40s - loss: 0.1967 - acc: 0.92 - ETA: 40s - loss: 0.1971 - acc: 0.92 - ETA: 40s - loss: 0.1973 - acc: 0.92 - ETA: 40s - loss: 0.1974 - acc: 0.92 - ETA: 40s - loss: 0.1973 - acc: 0.92 - ETA: 40s - loss: 0.1975 - acc: 0.92 - ETA: 39s - loss: 0.1974 - acc: 0.92 - ETA: 39s - loss: 0.1973 - acc: 0.92 - ETA: 39s - loss: 0.1974 - acc: 0.92 - ETA: 39s - loss: 0.1975 - acc: 0.92 - ETA: 39s - loss: 0.1973 - acc: 0.92 - ETA: 39s - loss: 0.1973 - acc: 0.92 - ETA: 38s - loss: 0.1973 - acc: 0.92 - ETA: 38s - loss: 0.1973 - acc: 0.92 - ETA: 38s - loss: 0.1972 - acc: 0.92 - ETA: 38s - loss: 0.1973 - acc: 0.92 - ETA: 38s - loss: 0.1973 - acc: 0.92 - ETA: 38s - loss: 0.1976 - acc: 0.92 - ETA: 37s - loss: 0.1977 - acc: 0.92 - ETA: 37s - loss: 0.1976 - acc: 0.92 - ETA: 37s - loss: 0.1974 - acc: 0.92 - ETA: 37s - loss: 0.1974 - acc: 0.92 - ETA: 37s - loss: 0.1974 - acc: 0.92 - ETA: 37s - loss: 0.1973 - acc: 0.92 - ETA: 36s - loss: 0.1974 - acc: 0.92 - ETA: 36s - loss: 0.1974 - acc: 0.92 - ETA: 36s - loss: 0.1973 - acc: 0.92 - ETA: 36s - loss: 0.1972 - acc: 0.92 - ETA: 36s - loss: 0.1971 - acc: 0.92 - ETA: 35s - loss: 0.1970 - acc: 0.92 - ETA: 35s - loss: 0.1972 - acc: 0.92 - ETA: 35s - loss: 0.1976 - acc: 0.92 - ETA: 35s - loss: 0.1978 - acc: 0.92 - ETA: 35s - loss: 0.1980 - acc: 0.92 - ETA: 35s - loss: 0.1983 - acc: 0.92 - ETA: 34s - loss: 0.1989 - acc: 0.92 - ETA: 34s - loss: 0.1989 - acc: 0.92 - ETA: 34s - loss: 0.1989 - acc: 0.92 - ETA: 34s - loss: 0.1988 - acc: 0.92 - ETA: 34s - loss: 0.1987 - acc: 0.92 - ETA: 34s - loss: 0.1985 - acc: 0.92 - ETA: 33s - loss: 0.1987 - acc: 0.92 - ETA: 33s - loss: 0.1986 - acc: 0.92 - ETA: 33s - loss: 0.1987 - acc: 0.92 - ETA: 33s - loss: 0.1986 - acc: 0.92 - ETA: 33s - loss: 0.1985 - acc: 0.92 - ETA: 33s - loss: 0.1988 - acc: 0.92 - ETA: 32s - loss: 0.1986 - acc: 0.92 - ETA: 32s - loss: 0.1985 - acc: 0.92 - ETA: 32s - loss: 0.1985 - acc: 0.92 - ETA: 32s - loss: 0.1983 - acc: 0.92 - ETA: 32s - loss: 0.1985 - acc: 0.92 - ETA: 32s - loss: 0.1985 - acc: 0.92 - ETA: 31s - loss: 0.1993 - acc: 0.92 - ETA: 31s - loss: 0.1996 - acc: 0.92 - ETA: 31s - loss: 0.1997 - acc: 0.92 - ETA: 31s - loss: 0.1997 - acc: 0.92 - ETA: 31s - loss: 0.1997 - acc: 0.92 - ETA: 31s - loss: 0.1998 - acc: 0.92 - ETA: 30s - loss: 0.2000 - acc: 0.92 - ETA: 30s - loss: 0.2001 - acc: 0.92 - ETA: 30s - loss: 0.2001 - acc: 0.92 - ETA: 30s - loss: 0.2000 - acc: 0.92 - ETA: 30s - loss: 0.1998 - acc: 0.92 - ETA: 30s - loss: 0.1998 - acc: 0.92 - ETA: 29s - loss: 0.1999 - acc: 0.92 - ETA: 29s - loss: 0.2002 - acc: 0.92 - ETA: 29s - loss: 0.2000 - acc: 0.92 - ETA: 29s - loss: 0.2001 - acc: 0.92 - ETA: 29s - loss: 0.1999 - acc: 0.92 - ETA: 28s - loss: 0.2000 - acc: 0.92 - ETA: 28s - loss: 0.2000 - acc: 0.92 - ETA: 28s - loss: 0.2002 - acc: 0.92 - ETA: 28s - loss: 0.2003 - acc: 0.92 - ETA: 28s - loss: 0.2004 - acc: 0.92 - ETA: 28s - loss: 0.2003 - acc: 0.92 - ETA: 27s - loss: 0.2004 - acc: 0.92 - ETA: 27s - loss: 0.2004 - acc: 0.92 - ETA: 27s - loss: 0.2004 - acc: 0.92 - ETA: 27s - loss: 0.2005 - acc: 0.92 - ETA: 27s - loss: 0.2004 - acc: 0.92 - ETA: 27s - loss: 0.2004 - acc: 0.92 - ETA: 26s - loss: 0.2002 - acc: 0.92 - ETA: 26s - loss: 0.2004 - acc: 0.92 - ETA: 26s - loss: 0.2004 - acc: 0.92 - ETA: 26s - loss: 0.2002 - acc: 0.92 - ETA: 26s - loss: 0.2001 - acc: 0.92 - ETA: 26s - loss: 0.2003 - acc: 0.92 - ETA: 25s - loss: 0.2002 - acc: 0.92 - ETA: 25s - loss: 0.2003 - acc: 0.92 - ETA: 25s - loss: 0.2002 - acc: 0.92 - ETA: 25s - loss: 0.2001 - acc: 0.92 - ETA: 25s - loss: 0.2002 - acc: 0.92 - ETA: 25s - loss: 0.2003 - acc: 0.92 - ETA: 24s - loss: 0.2006 - acc: 0.92 - ETA: 24s - loss: 0.2007 - acc: 0.92 - ETA: 24s - loss: 0.2009 - acc: 0.92 - ETA: 24s - loss: 0.2010 - acc: 0.92 - ETA: 24s - loss: 0.2011 - acc: 0.92 - ETA: 24s - loss: 0.2011 - acc: 0.92 - ETA: 23s - loss: 0.2013 - acc: 0.92 - ETA: 23s - loss: 0.2012 - acc: 0.92 - ETA: 23s - loss: 0.2013 - acc: 0.92 - ETA: 23s - loss: 0.2017 - acc: 0.92 - ETA: 23s - loss: 0.2021 - acc: 0.92 - ETA: 22s - loss: 0.2021 - acc: 0.92 - ETA: 22s - loss: 0.2022 - acc: 0.92 - ETA: 22s - loss: 0.2026 - acc: 0.92 - ETA: 22s - loss: 0.2026 - acc: 0.9230"
     ]
    },
    {
     "name": "stdout",
     "output_type": "stream",
     "text": [
      "24136/24136 [==============================] - ETA: 22s - loss: 0.2027 - acc: 0.92 - ETA: 22s - loss: 0.2026 - acc: 0.92 - ETA: 21s - loss: 0.2027 - acc: 0.92 - ETA: 21s - loss: 0.2027 - acc: 0.92 - ETA: 21s - loss: 0.2032 - acc: 0.92 - ETA: 21s - loss: 0.2033 - acc: 0.92 - ETA: 21s - loss: 0.2033 - acc: 0.92 - ETA: 21s - loss: 0.2032 - acc: 0.92 - ETA: 20s - loss: 0.2033 - acc: 0.92 - ETA: 20s - loss: 0.2034 - acc: 0.92 - ETA: 20s - loss: 0.2033 - acc: 0.92 - ETA: 20s - loss: 0.2036 - acc: 0.92 - ETA: 20s - loss: 0.2034 - acc: 0.92 - ETA: 20s - loss: 0.2034 - acc: 0.92 - ETA: 19s - loss: 0.2034 - acc: 0.92 - ETA: 19s - loss: 0.2032 - acc: 0.92 - ETA: 19s - loss: 0.2032 - acc: 0.92 - ETA: 19s - loss: 0.2032 - acc: 0.92 - ETA: 19s - loss: 0.2030 - acc: 0.92 - ETA: 19s - loss: 0.2030 - acc: 0.92 - ETA: 18s - loss: 0.2029 - acc: 0.92 - ETA: 18s - loss: 0.2032 - acc: 0.92 - ETA: 18s - loss: 0.2033 - acc: 0.92 - ETA: 18s - loss: 0.2032 - acc: 0.92 - ETA: 18s - loss: 0.2034 - acc: 0.92 - ETA: 18s - loss: 0.2038 - acc: 0.92 - ETA: 17s - loss: 0.2038 - acc: 0.92 - ETA: 17s - loss: 0.2037 - acc: 0.92 - ETA: 17s - loss: 0.2038 - acc: 0.92 - ETA: 17s - loss: 0.2038 - acc: 0.92 - ETA: 17s - loss: 0.2039 - acc: 0.92 - ETA: 16s - loss: 0.2039 - acc: 0.92 - ETA: 16s - loss: 0.2040 - acc: 0.92 - ETA: 16s - loss: 0.2042 - acc: 0.92 - ETA: 16s - loss: 0.2042 - acc: 0.92 - ETA: 16s - loss: 0.2041 - acc: 0.92 - ETA: 16s - loss: 0.2040 - acc: 0.92 - ETA: 15s - loss: 0.2039 - acc: 0.92 - ETA: 15s - loss: 0.2039 - acc: 0.92 - ETA: 15s - loss: 0.2039 - acc: 0.92 - ETA: 15s - loss: 0.2043 - acc: 0.92 - ETA: 15s - loss: 0.2042 - acc: 0.92 - ETA: 15s - loss: 0.2042 - acc: 0.92 - ETA: 14s - loss: 0.2042 - acc: 0.92 - ETA: 14s - loss: 0.2042 - acc: 0.92 - ETA: 14s - loss: 0.2042 - acc: 0.92 - ETA: 14s - loss: 0.2042 - acc: 0.92 - ETA: 14s - loss: 0.2042 - acc: 0.92 - ETA: 14s - loss: 0.2041 - acc: 0.92 - ETA: 13s - loss: 0.2042 - acc: 0.92 - ETA: 13s - loss: 0.2043 - acc: 0.92 - ETA: 13s - loss: 0.2043 - acc: 0.92 - ETA: 13s - loss: 0.2043 - acc: 0.92 - ETA: 13s - loss: 0.2044 - acc: 0.92 - ETA: 13s - loss: 0.2045 - acc: 0.92 - ETA: 12s - loss: 0.2046 - acc: 0.92 - ETA: 12s - loss: 0.2044 - acc: 0.92 - ETA: 12s - loss: 0.2043 - acc: 0.92 - ETA: 12s - loss: 0.2041 - acc: 0.92 - ETA: 12s - loss: 0.2041 - acc: 0.92 - ETA: 12s - loss: 0.2039 - acc: 0.92 - ETA: 11s - loss: 0.2039 - acc: 0.92 - ETA: 11s - loss: 0.2038 - acc: 0.92 - ETA: 11s - loss: 0.2036 - acc: 0.92 - ETA: 11s - loss: 0.2037 - acc: 0.92 - ETA: 11s - loss: 0.2037 - acc: 0.92 - ETA: 10s - loss: 0.2039 - acc: 0.92 - ETA: 10s - loss: 0.2040 - acc: 0.92 - ETA: 10s - loss: 0.2040 - acc: 0.92 - ETA: 10s - loss: 0.2039 - acc: 0.92 - ETA: 10s - loss: 0.2042 - acc: 0.92 - ETA: 10s - loss: 0.2042 - acc: 0.92 - ETA: 9s - loss: 0.2041 - acc: 0.9222 - ETA: 9s - loss: 0.2041 - acc: 0.922 - ETA: 9s - loss: 0.2039 - acc: 0.922 - ETA: 9s - loss: 0.2040 - acc: 0.922 - ETA: 9s - loss: 0.2040 - acc: 0.922 - ETA: 9s - loss: 0.2039 - acc: 0.922 - ETA: 8s - loss: 0.2040 - acc: 0.922 - ETA: 8s - loss: 0.2039 - acc: 0.922 - ETA: 8s - loss: 0.2040 - acc: 0.922 - ETA: 8s - loss: 0.2039 - acc: 0.922 - ETA: 8s - loss: 0.2038 - acc: 0.922 - ETA: 8s - loss: 0.2041 - acc: 0.922 - ETA: 7s - loss: 0.2040 - acc: 0.922 - ETA: 7s - loss: 0.2042 - acc: 0.922 - ETA: 7s - loss: 0.2044 - acc: 0.921 - ETA: 7s - loss: 0.2044 - acc: 0.921 - ETA: 7s - loss: 0.2043 - acc: 0.921 - ETA: 7s - loss: 0.2044 - acc: 0.921 - ETA: 6s - loss: 0.2045 - acc: 0.921 - ETA: 6s - loss: 0.2045 - acc: 0.921 - ETA: 6s - loss: 0.2045 - acc: 0.921 - ETA: 6s - loss: 0.2045 - acc: 0.921 - ETA: 6s - loss: 0.2046 - acc: 0.921 - ETA: 6s - loss: 0.2044 - acc: 0.921 - ETA: 5s - loss: 0.2045 - acc: 0.921 - ETA: 5s - loss: 0.2045 - acc: 0.921 - ETA: 5s - loss: 0.2047 - acc: 0.921 - ETA: 5s - loss: 0.2052 - acc: 0.921 - ETA: 5s - loss: 0.2051 - acc: 0.921 - ETA: 5s - loss: 0.2051 - acc: 0.921 - ETA: 4s - loss: 0.2049 - acc: 0.921 - ETA: 4s - loss: 0.2049 - acc: 0.921 - ETA: 4s - loss: 0.2049 - acc: 0.921 - ETA: 4s - loss: 0.2048 - acc: 0.921 - ETA: 4s - loss: 0.2048 - acc: 0.921 - ETA: 3s - loss: 0.2049 - acc: 0.921 - ETA: 3s - loss: 0.2049 - acc: 0.921 - ETA: 3s - loss: 0.2049 - acc: 0.921 - ETA: 3s - loss: 0.2048 - acc: 0.921 - ETA: 3s - loss: 0.2048 - acc: 0.921 - ETA: 3s - loss: 0.2048 - acc: 0.921 - ETA: 2s - loss: 0.2048 - acc: 0.921 - ETA: 2s - loss: 0.2048 - acc: 0.921 - ETA: 2s - loss: 0.2047 - acc: 0.921 - ETA: 2s - loss: 0.2049 - acc: 0.921 - ETA: 2s - loss: 0.2050 - acc: 0.921 - ETA: 2s - loss: 0.2051 - acc: 0.921 - ETA: 1s - loss: 0.2051 - acc: 0.921 - ETA: 1s - loss: 0.2050 - acc: 0.921 - ETA: 1s - loss: 0.2048 - acc: 0.921 - ETA: 1s - loss: 0.2047 - acc: 0.921 - ETA: 1s - loss: 0.2051 - acc: 0.921 - ETA: 1s - loss: 0.2054 - acc: 0.921 - ETA: 0s - loss: 0.2056 - acc: 0.921 - ETA: 0s - loss: 0.2054 - acc: 0.921 - ETA: 0s - loss: 0.2053 - acc: 0.921 - ETA: 0s - loss: 0.2055 - acc: 0.921 - ETA: 0s - loss: 0.2055 - acc: 0.921 - ETA: 0s - loss: 0.2056 - acc: 0.921 - 133s 6ms/step - loss: 0.2056 - acc: 0.9210 - val_loss: 0.2879 - val_acc: 0.8790\n",
      "Epoch 3/3\n"
     ]
    },
    {
     "name": "stdout",
     "output_type": "stream",
     "text": [
      " 6528/24136 [=======>......................] - ETA: 2:09 - loss: 0.1627 - acc: 0.968 - ETA: 2:09 - loss: 0.1034 - acc: 0.984 - ETA: 2:05 - loss: 0.1297 - acc: 0.979 - ETA: 2:06 - loss: 0.1087 - acc: 0.984 - ETA: 2:07 - loss: 0.0939 - acc: 0.987 - ETA: 2:06 - loss: 0.0867 - acc: 0.989 - ETA: 2:06 - loss: 0.0954 - acc: 0.982 - ETA: 2:06 - loss: 0.0903 - acc: 0.984 - ETA: 2:06 - loss: 0.0930 - acc: 0.982 - ETA: 2:06 - loss: 0.0922 - acc: 0.981 - ETA: 2:06 - loss: 0.0891 - acc: 0.983 - ETA: 2:06 - loss: 0.0937 - acc: 0.979 - ETA: 2:06 - loss: 0.0885 - acc: 0.980 - ETA: 2:06 - loss: 0.0937 - acc: 0.979 - ETA: 2:06 - loss: 0.0913 - acc: 0.981 - ETA: 2:05 - loss: 0.0985 - acc: 0.976 - ETA: 2:06 - loss: 0.0972 - acc: 0.976 - ETA: 2:05 - loss: 0.1027 - acc: 0.974 - ETA: 2:05 - loss: 0.1009 - acc: 0.975 - ETA: 2:05 - loss: 0.0986 - acc: 0.976 - ETA: 2:04 - loss: 0.0978 - acc: 0.976 - ETA: 2:04 - loss: 0.1008 - acc: 0.974 - ETA: 2:04 - loss: 0.0980 - acc: 0.975 - ETA: 2:04 - loss: 0.1053 - acc: 0.972 - ETA: 2:04 - loss: 0.1072 - acc: 0.971 - ETA: 2:04 - loss: 0.1051 - acc: 0.971 - ETA: 2:04 - loss: 0.1053 - acc: 0.971 - ETA: 2:04 - loss: 0.1041 - acc: 0.972 - ETA: 2:03 - loss: 0.1053 - acc: 0.969 - ETA: 2:03 - loss: 0.1077 - acc: 0.968 - ETA: 2:03 - loss: 0.1054 - acc: 0.969 - ETA: 2:03 - loss: 0.1039 - acc: 0.969 - ETA: 2:02 - loss: 0.1018 - acc: 0.970 - ETA: 2:02 - loss: 0.1021 - acc: 0.969 - ETA: 2:02 - loss: 0.1004 - acc: 0.969 - ETA: 2:02 - loss: 0.1003 - acc: 0.969 - ETA: 2:02 - loss: 0.1023 - acc: 0.968 - ETA: 2:01 - loss: 0.1020 - acc: 0.968 - ETA: 2:01 - loss: 0.1002 - acc: 0.969 - ETA: 2:01 - loss: 0.1017 - acc: 0.968 - ETA: 2:01 - loss: 0.1009 - acc: 0.968 - ETA: 2:01 - loss: 0.0993 - acc: 0.969 - ETA: 2:01 - loss: 0.0985 - acc: 0.970 - ETA: 2:01 - loss: 0.0983 - acc: 0.970 - ETA: 2:00 - loss: 0.0973 - acc: 0.970 - ETA: 2:00 - loss: 0.0967 - acc: 0.970 - ETA: 2:00 - loss: 0.0993 - acc: 0.968 - ETA: 2:00 - loss: 0.1012 - acc: 0.968 - ETA: 2:00 - loss: 0.1004 - acc: 0.968 - ETA: 1:59 - loss: 0.0996 - acc: 0.968 - ETA: 1:59 - loss: 0.0983 - acc: 0.968 - ETA: 1:59 - loss: 0.0998 - acc: 0.968 - ETA: 1:59 - loss: 0.0985 - acc: 0.968 - ETA: 1:59 - loss: 0.0975 - acc: 0.969 - ETA: 1:58 - loss: 0.0966 - acc: 0.969 - ETA: 1:58 - loss: 0.0974 - acc: 0.968 - ETA: 1:58 - loss: 0.0975 - acc: 0.968 - ETA: 1:58 - loss: 0.0965 - acc: 0.968 - ETA: 1:58 - loss: 0.0959 - acc: 0.968 - ETA: 1:58 - loss: 0.0968 - acc: 0.968 - ETA: 1:57 - loss: 0.0976 - acc: 0.967 - ETA: 1:57 - loss: 0.0967 - acc: 0.968 - ETA: 1:57 - loss: 0.0966 - acc: 0.968 - ETA: 1:57 - loss: 0.0958 - acc: 0.968 - ETA: 1:57 - loss: 0.0962 - acc: 0.968 - ETA: 1:56 - loss: 0.0984 - acc: 0.968 - ETA: 1:56 - loss: 0.0984 - acc: 0.968 - ETA: 1:56 - loss: 0.0976 - acc: 0.968 - ETA: 1:56 - loss: 0.0991 - acc: 0.967 - ETA: 1:56 - loss: 0.0986 - acc: 0.967 - ETA: 1:56 - loss: 0.0977 - acc: 0.967 - ETA: 1:55 - loss: 0.0991 - acc: 0.967 - ETA: 1:55 - loss: 0.0994 - acc: 0.966 - ETA: 1:55 - loss: 0.0990 - acc: 0.967 - ETA: 1:55 - loss: 0.0982 - acc: 0.967 - ETA: 1:55 - loss: 0.0982 - acc: 0.967 - ETA: 1:54 - loss: 0.0991 - acc: 0.966 - ETA: 1:54 - loss: 0.1003 - acc: 0.965 - ETA: 1:54 - loss: 0.0993 - acc: 0.966 - ETA: 1:54 - loss: 0.0994 - acc: 0.966 - ETA: 1:54 - loss: 0.0987 - acc: 0.966 - ETA: 1:54 - loss: 0.0999 - acc: 0.966 - ETA: 1:53 - loss: 0.0993 - acc: 0.966 - ETA: 1:53 - loss: 0.0988 - acc: 0.966 - ETA: 1:53 - loss: 0.0985 - acc: 0.966 - ETA: 1:53 - loss: 0.0979 - acc: 0.966 - ETA: 1:53 - loss: 0.0972 - acc: 0.967 - ETA: 1:53 - loss: 0.0980 - acc: 0.966 - ETA: 1:52 - loss: 0.0976 - acc: 0.966 - ETA: 1:52 - loss: 0.0967 - acc: 0.967 - ETA: 1:52 - loss: 0.0966 - acc: 0.967 - ETA: 1:52 - loss: 0.0965 - acc: 0.967 - ETA: 1:52 - loss: 0.0957 - acc: 0.967 - ETA: 1:52 - loss: 0.0971 - acc: 0.967 - ETA: 1:51 - loss: 0.0969 - acc: 0.967 - ETA: 1:51 - loss: 0.0966 - acc: 0.967 - ETA: 1:51 - loss: 0.0970 - acc: 0.966 - ETA: 1:51 - loss: 0.0992 - acc: 0.966 - ETA: 1:51 - loss: 0.0996 - acc: 0.966 - ETA: 1:51 - loss: 0.0989 - acc: 0.966 - ETA: 1:50 - loss: 0.0985 - acc: 0.967 - ETA: 1:50 - loss: 0.1000 - acc: 0.966 - ETA: 1:50 - loss: 0.0994 - acc: 0.967 - ETA: 1:50 - loss: 0.0987 - acc: 0.967 - ETA: 1:50 - loss: 0.0991 - acc: 0.967 - ETA: 1:50 - loss: 0.1005 - acc: 0.967 - ETA: 1:49 - loss: 0.0997 - acc: 0.967 - ETA: 1:49 - loss: 0.0992 - acc: 0.967 - ETA: 1:49 - loss: 0.1001 - acc: 0.967 - ETA: 1:49 - loss: 0.1008 - acc: 0.967 - ETA: 1:49 - loss: 0.1003 - acc: 0.967 - ETA: 1:49 - loss: 0.0998 - acc: 0.967 - ETA: 1:48 - loss: 0.0998 - acc: 0.967 - ETA: 1:48 - loss: 0.0999 - acc: 0.967 - ETA: 1:48 - loss: 0.0995 - acc: 0.967 - ETA: 1:48 - loss: 0.1000 - acc: 0.967 - ETA: 1:48 - loss: 0.1017 - acc: 0.966 - ETA: 1:48 - loss: 0.1014 - acc: 0.966 - ETA: 1:47 - loss: 0.1028 - acc: 0.966 - ETA: 1:47 - loss: 0.1024 - acc: 0.966 - ETA: 1:47 - loss: 0.1022 - acc: 0.966 - ETA: 1:47 - loss: 0.1022 - acc: 0.966 - ETA: 1:47 - loss: 0.1019 - acc: 0.966 - ETA: 1:46 - loss: 0.1013 - acc: 0.966 - ETA: 1:46 - loss: 0.1025 - acc: 0.966 - ETA: 1:46 - loss: 0.1030 - acc: 0.965 - ETA: 1:46 - loss: 0.1033 - acc: 0.965 - ETA: 1:46 - loss: 0.1028 - acc: 0.965 - ETA: 1:46 - loss: 0.1036 - acc: 0.965 - ETA: 1:45 - loss: 0.1033 - acc: 0.965 - ETA: 1:45 - loss: 0.1031 - acc: 0.965 - ETA: 1:45 - loss: 0.1026 - acc: 0.965 - ETA: 1:45 - loss: 0.1020 - acc: 0.965 - ETA: 1:45 - loss: 0.1031 - acc: 0.965 - ETA: 1:45 - loss: 0.1032 - acc: 0.965 - ETA: 1:44 - loss: 0.1038 - acc: 0.964 - ETA: 1:44 - loss: 0.1043 - acc: 0.964 - ETA: 1:44 - loss: 0.1039 - acc: 0.964 - ETA: 1:44 - loss: 0.1041 - acc: 0.964 - ETA: 1:44 - loss: 0.1046 - acc: 0.964 - ETA: 1:43 - loss: 0.1043 - acc: 0.964 - ETA: 1:43 - loss: 0.1039 - acc: 0.964 - ETA: 1:43 - loss: 0.1042 - acc: 0.964 - ETA: 1:43 - loss: 0.1062 - acc: 0.964 - ETA: 1:43 - loss: 0.1057 - acc: 0.964 - ETA: 1:43 - loss: 0.1055 - acc: 0.964 - ETA: 1:42 - loss: 0.1053 - acc: 0.964 - ETA: 1:42 - loss: 0.1051 - acc: 0.964 - ETA: 1:42 - loss: 0.1055 - acc: 0.964 - ETA: 1:42 - loss: 0.1061 - acc: 0.964 - ETA: 1:42 - loss: 0.1059 - acc: 0.964 - ETA: 1:42 - loss: 0.1054 - acc: 0.964 - ETA: 1:41 - loss: 0.1051 - acc: 0.964 - ETA: 1:41 - loss: 0.1046 - acc: 0.964 - ETA: 1:41 - loss: 0.1065 - acc: 0.963 - ETA: 1:41 - loss: 0.1064 - acc: 0.963 - ETA: 1:41 - loss: 0.1061 - acc: 0.963 - ETA: 1:41 - loss: 0.1056 - acc: 0.964 - ETA: 1:40 - loss: 0.1056 - acc: 0.964 - ETA: 1:40 - loss: 0.1061 - acc: 0.964 - ETA: 1:40 - loss: 0.1058 - acc: 0.964 - ETA: 1:40 - loss: 0.1056 - acc: 0.964 - ETA: 1:40 - loss: 0.1059 - acc: 0.964 - ETA: 1:40 - loss: 0.1053 - acc: 0.964 - ETA: 1:39 - loss: 0.1049 - acc: 0.964 - ETA: 1:39 - loss: 0.1067 - acc: 0.963 - ETA: 1:39 - loss: 0.1063 - acc: 0.964 - ETA: 1:39 - loss: 0.1063 - acc: 0.964 - ETA: 1:39 - loss: 0.1058 - acc: 0.964 - ETA: 1:39 - loss: 0.1053 - acc: 0.964 - ETA: 1:38 - loss: 0.1055 - acc: 0.964 - ETA: 1:38 - loss: 0.1052 - acc: 0.964 - ETA: 1:38 - loss: 0.1053 - acc: 0.964 - ETA: 1:38 - loss: 0.1053 - acc: 0.964 - ETA: 1:38 - loss: 0.1053 - acc: 0.964 - ETA: 1:38 - loss: 0.1055 - acc: 0.964 - ETA: 1:37 - loss: 0.1052 - acc: 0.964 - ETA: 1:37 - loss: 0.1051 - acc: 0.964 - ETA: 1:37 - loss: 0.1049 - acc: 0.964 - ETA: 1:37 - loss: 0.1045 - acc: 0.964 - ETA: 1:37 - loss: 0.1044 - acc: 0.964 - ETA: 1:37 - loss: 0.1047 - acc: 0.964 - ETA: 1:36 - loss: 0.1043 - acc: 0.964 - ETA: 1:36 - loss: 0.1041 - acc: 0.964 - ETA: 1:36 - loss: 0.1038 - acc: 0.964 - ETA: 1:36 - loss: 0.1043 - acc: 0.964 - ETA: 1:36 - loss: 0.1041 - acc: 0.964 - ETA: 1:36 - loss: 0.1047 - acc: 0.964 - ETA: 1:35 - loss: 0.1048 - acc: 0.964 - ETA: 1:35 - loss: 0.1045 - acc: 0.964 - ETA: 1:35 - loss: 0.1045 - acc: 0.964 - ETA: 1:35 - loss: 0.1042 - acc: 0.964 - ETA: 1:35 - loss: 0.1045 - acc: 0.964 - ETA: 1:35 - loss: 0.1045 - acc: 0.964 - ETA: 1:34 - loss: 0.1044 - acc: 0.964 - ETA: 1:34 - loss: 0.1042 - acc: 0.964 - ETA: 1:34 - loss: 0.1053 - acc: 0.964 - ETA: 1:34 - loss: 0.1051 - acc: 0.964 - ETA: 1:34 - loss: 0.1050 - acc: 0.964 - ETA: 1:33 - loss: 0.1046 - acc: 0.964 - ETA: 1:33 - loss: 0.1052 - acc: 0.964 - ETA: 1:33 - loss: 0.1049 - acc: 0.964 - ETA: 1:33 - loss: 0.1049 - acc: 0.964 - ETA: 1:33 - loss: 0.1049 - acc: 0.9646"
     ]
    },
    {
     "name": "stdout",
     "output_type": "stream",
     "text": [
      "13088/24136 [===============>..............] - ETA: 1:33 - loss: 0.1055 - acc: 0.964 - ETA: 1:32 - loss: 0.1056 - acc: 0.964 - ETA: 1:32 - loss: 0.1060 - acc: 0.963 - ETA: 1:32 - loss: 0.1061 - acc: 0.963 - ETA: 1:32 - loss: 0.1057 - acc: 0.963 - ETA: 1:32 - loss: 0.1054 - acc: 0.964 - ETA: 1:32 - loss: 0.1051 - acc: 0.964 - ETA: 1:31 - loss: 0.1052 - acc: 0.964 - ETA: 1:31 - loss: 0.1049 - acc: 0.964 - ETA: 1:31 - loss: 0.1054 - acc: 0.963 - ETA: 1:31 - loss: 0.1053 - acc: 0.964 - ETA: 1:31 - loss: 0.1058 - acc: 0.963 - ETA: 1:31 - loss: 0.1056 - acc: 0.964 - ETA: 1:30 - loss: 0.1054 - acc: 0.964 - ETA: 1:30 - loss: 0.1050 - acc: 0.964 - ETA: 1:30 - loss: 0.1054 - acc: 0.964 - ETA: 1:30 - loss: 0.1054 - acc: 0.964 - ETA: 1:30 - loss: 0.1052 - acc: 0.964 - ETA: 1:30 - loss: 0.1049 - acc: 0.964 - ETA: 1:29 - loss: 0.1048 - acc: 0.964 - ETA: 1:29 - loss: 0.1046 - acc: 0.964 - ETA: 1:29 - loss: 0.1044 - acc: 0.964 - ETA: 1:29 - loss: 0.1046 - acc: 0.964 - ETA: 1:29 - loss: 0.1044 - acc: 0.964 - ETA: 1:29 - loss: 0.1042 - acc: 0.964 - ETA: 1:28 - loss: 0.1038 - acc: 0.964 - ETA: 1:28 - loss: 0.1035 - acc: 0.964 - ETA: 1:28 - loss: 0.1032 - acc: 0.964 - ETA: 1:28 - loss: 0.1035 - acc: 0.964 - ETA: 1:28 - loss: 0.1034 - acc: 0.964 - ETA: 1:28 - loss: 0.1029 - acc: 0.964 - ETA: 1:27 - loss: 0.1035 - acc: 0.964 - ETA: 1:27 - loss: 0.1049 - acc: 0.964 - ETA: 1:27 - loss: 0.1050 - acc: 0.964 - ETA: 1:27 - loss: 0.1048 - acc: 0.964 - ETA: 1:27 - loss: 0.1045 - acc: 0.964 - ETA: 1:27 - loss: 0.1042 - acc: 0.964 - ETA: 1:26 - loss: 0.1040 - acc: 0.965 - ETA: 1:26 - loss: 0.1037 - acc: 0.965 - ETA: 1:26 - loss: 0.1039 - acc: 0.965 - ETA: 1:26 - loss: 0.1042 - acc: 0.964 - ETA: 1:26 - loss: 0.1040 - acc: 0.965 - ETA: 1:25 - loss: 0.1039 - acc: 0.965 - ETA: 1:25 - loss: 0.1045 - acc: 0.965 - ETA: 1:25 - loss: 0.1042 - acc: 0.965 - ETA: 1:25 - loss: 0.1046 - acc: 0.965 - ETA: 1:25 - loss: 0.1047 - acc: 0.964 - ETA: 1:25 - loss: 0.1044 - acc: 0.964 - ETA: 1:24 - loss: 0.1046 - acc: 0.964 - ETA: 1:24 - loss: 0.1043 - acc: 0.964 - ETA: 1:24 - loss: 0.1044 - acc: 0.964 - ETA: 1:24 - loss: 0.1042 - acc: 0.965 - ETA: 1:24 - loss: 0.1044 - acc: 0.964 - ETA: 1:24 - loss: 0.1044 - acc: 0.964 - ETA: 1:23 - loss: 0.1043 - acc: 0.964 - ETA: 1:23 - loss: 0.1040 - acc: 0.964 - ETA: 1:23 - loss: 0.1039 - acc: 0.964 - ETA: 1:23 - loss: 0.1036 - acc: 0.965 - ETA: 1:23 - loss: 0.1033 - acc: 0.965 - ETA: 1:23 - loss: 0.1036 - acc: 0.965 - ETA: 1:22 - loss: 0.1033 - acc: 0.965 - ETA: 1:22 - loss: 0.1039 - acc: 0.965 - ETA: 1:22 - loss: 0.1037 - acc: 0.965 - ETA: 1:22 - loss: 0.1040 - acc: 0.964 - ETA: 1:22 - loss: 0.1045 - acc: 0.964 - ETA: 1:22 - loss: 0.1042 - acc: 0.964 - ETA: 1:21 - loss: 0.1040 - acc: 0.964 - ETA: 1:21 - loss: 0.1040 - acc: 0.964 - ETA: 1:21 - loss: 0.1043 - acc: 0.964 - ETA: 1:21 - loss: 0.1041 - acc: 0.965 - ETA: 1:21 - loss: 0.1052 - acc: 0.964 - ETA: 1:21 - loss: 0.1049 - acc: 0.964 - ETA: 1:20 - loss: 0.1047 - acc: 0.965 - ETA: 1:20 - loss: 0.1050 - acc: 0.964 - ETA: 1:20 - loss: 0.1048 - acc: 0.965 - ETA: 1:20 - loss: 0.1047 - acc: 0.965 - ETA: 1:20 - loss: 0.1050 - acc: 0.964 - ETA: 1:20 - loss: 0.1047 - acc: 0.965 - ETA: 1:19 - loss: 0.1046 - acc: 0.965 - ETA: 1:19 - loss: 0.1045 - acc: 0.965 - ETA: 1:19 - loss: 0.1043 - acc: 0.965 - ETA: 1:19 - loss: 0.1041 - acc: 0.965 - ETA: 1:19 - loss: 0.1043 - acc: 0.965 - ETA: 1:19 - loss: 0.1047 - acc: 0.965 - ETA: 1:18 - loss: 0.1045 - acc: 0.965 - ETA: 1:18 - loss: 0.1043 - acc: 0.965 - ETA: 1:18 - loss: 0.1042 - acc: 0.965 - ETA: 1:18 - loss: 0.1044 - acc: 0.965 - ETA: 1:18 - loss: 0.1044 - acc: 0.965 - ETA: 1:18 - loss: 0.1041 - acc: 0.965 - ETA: 1:17 - loss: 0.1043 - acc: 0.965 - ETA: 1:17 - loss: 0.1040 - acc: 0.965 - ETA: 1:17 - loss: 0.1039 - acc: 0.965 - ETA: 1:17 - loss: 0.1043 - acc: 0.965 - ETA: 1:17 - loss: 0.1047 - acc: 0.965 - ETA: 1:17 - loss: 0.1044 - acc: 0.965 - ETA: 1:16 - loss: 0.1051 - acc: 0.965 - ETA: 1:16 - loss: 0.1050 - acc: 0.965 - ETA: 1:16 - loss: 0.1052 - acc: 0.965 - ETA: 1:16 - loss: 0.1051 - acc: 0.965 - ETA: 1:16 - loss: 0.1051 - acc: 0.965 - ETA: 1:15 - loss: 0.1049 - acc: 0.965 - ETA: 1:15 - loss: 0.1049 - acc: 0.965 - ETA: 1:15 - loss: 0.1047 - acc: 0.965 - ETA: 1:15 - loss: 0.1046 - acc: 0.965 - ETA: 1:15 - loss: 0.1044 - acc: 0.965 - ETA: 1:15 - loss: 0.1049 - acc: 0.965 - ETA: 1:14 - loss: 0.1047 - acc: 0.965 - ETA: 1:14 - loss: 0.1048 - acc: 0.965 - ETA: 1:14 - loss: 0.1045 - acc: 0.965 - ETA: 1:14 - loss: 0.1045 - acc: 0.965 - ETA: 1:14 - loss: 0.1043 - acc: 0.965 - ETA: 1:14 - loss: 0.1041 - acc: 0.965 - ETA: 1:13 - loss: 0.1039 - acc: 0.965 - ETA: 1:13 - loss: 0.1038 - acc: 0.965 - ETA: 1:13 - loss: 0.1040 - acc: 0.965 - ETA: 1:13 - loss: 0.1047 - acc: 0.965 - ETA: 1:13 - loss: 0.1047 - acc: 0.965 - ETA: 1:13 - loss: 0.1047 - acc: 0.965 - ETA: 1:12 - loss: 0.1054 - acc: 0.965 - ETA: 1:12 - loss: 0.1052 - acc: 0.965 - ETA: 1:12 - loss: 0.1053 - acc: 0.965 - ETA: 1:12 - loss: 0.1050 - acc: 0.965 - ETA: 1:12 - loss: 0.1050 - acc: 0.965 - ETA: 1:12 - loss: 0.1049 - acc: 0.965 - ETA: 1:11 - loss: 0.1048 - acc: 0.965 - ETA: 1:11 - loss: 0.1049 - acc: 0.965 - ETA: 1:11 - loss: 0.1047 - acc: 0.965 - ETA: 1:11 - loss: 0.1046 - acc: 0.965 - ETA: 1:11 - loss: 0.1044 - acc: 0.965 - ETA: 1:11 - loss: 0.1042 - acc: 0.965 - ETA: 1:10 - loss: 0.1041 - acc: 0.965 - ETA: 1:10 - loss: 0.1039 - acc: 0.965 - ETA: 1:10 - loss: 0.1040 - acc: 0.965 - ETA: 1:10 - loss: 0.1038 - acc: 0.965 - ETA: 1:10 - loss: 0.1035 - acc: 0.965 - ETA: 1:10 - loss: 0.1033 - acc: 0.965 - ETA: 1:09 - loss: 0.1033 - acc: 0.965 - ETA: 1:09 - loss: 0.1034 - acc: 0.965 - ETA: 1:09 - loss: 0.1033 - acc: 0.965 - ETA: 1:09 - loss: 0.1030 - acc: 0.965 - ETA: 1:09 - loss: 0.1033 - acc: 0.966 - ETA: 1:09 - loss: 0.1034 - acc: 0.966 - ETA: 1:08 - loss: 0.1037 - acc: 0.965 - ETA: 1:08 - loss: 0.1035 - acc: 0.966 - ETA: 1:08 - loss: 0.1033 - acc: 0.966 - ETA: 1:08 - loss: 0.1032 - acc: 0.966 - ETA: 1:08 - loss: 0.1033 - acc: 0.966 - ETA: 1:07 - loss: 0.1032 - acc: 0.966 - ETA: 1:07 - loss: 0.1033 - acc: 0.965 - ETA: 1:07 - loss: 0.1032 - acc: 0.965 - ETA: 1:07 - loss: 0.1031 - acc: 0.965 - ETA: 1:07 - loss: 0.1029 - acc: 0.966 - ETA: 1:07 - loss: 0.1031 - acc: 0.966 - ETA: 1:06 - loss: 0.1031 - acc: 0.966 - ETA: 1:06 - loss: 0.1033 - acc: 0.966 - ETA: 1:06 - loss: 0.1031 - acc: 0.966 - ETA: 1:06 - loss: 0.1033 - acc: 0.966 - ETA: 1:06 - loss: 0.1034 - acc: 0.966 - ETA: 1:06 - loss: 0.1034 - acc: 0.966 - ETA: 1:05 - loss: 0.1032 - acc: 0.966 - ETA: 1:05 - loss: 0.1031 - acc: 0.966 - ETA: 1:05 - loss: 0.1031 - acc: 0.966 - ETA: 1:05 - loss: 0.1029 - acc: 0.966 - ETA: 1:05 - loss: 0.1033 - acc: 0.966 - ETA: 1:05 - loss: 0.1033 - acc: 0.966 - ETA: 1:04 - loss: 0.1032 - acc: 0.966 - ETA: 1:04 - loss: 0.1034 - acc: 0.966 - ETA: 1:04 - loss: 0.1033 - acc: 0.966 - ETA: 1:04 - loss: 0.1031 - acc: 0.966 - ETA: 1:04 - loss: 0.1031 - acc: 0.966 - ETA: 1:04 - loss: 0.1029 - acc: 0.966 - ETA: 1:03 - loss: 0.1027 - acc: 0.966 - ETA: 1:03 - loss: 0.1026 - acc: 0.966 - ETA: 1:03 - loss: 0.1026 - acc: 0.966 - ETA: 1:03 - loss: 0.1025 - acc: 0.966 - ETA: 1:03 - loss: 0.1024 - acc: 0.966 - ETA: 1:03 - loss: 0.1022 - acc: 0.966 - ETA: 1:02 - loss: 0.1020 - acc: 0.966 - ETA: 1:02 - loss: 0.1021 - acc: 0.966 - ETA: 1:02 - loss: 0.1022 - acc: 0.966 - ETA: 1:02 - loss: 0.1021 - acc: 0.966 - ETA: 1:02 - loss: 0.1027 - acc: 0.966 - ETA: 1:02 - loss: 0.1026 - acc: 0.966 - ETA: 1:01 - loss: 0.1029 - acc: 0.965 - ETA: 1:01 - loss: 0.1028 - acc: 0.965 - ETA: 1:01 - loss: 0.1030 - acc: 0.965 - ETA: 1:01 - loss: 0.1030 - acc: 0.965 - ETA: 1:01 - loss: 0.1031 - acc: 0.965 - ETA: 1:01 - loss: 0.1031 - acc: 0.965 - ETA: 1:00 - loss: 0.1033 - acc: 0.965 - ETA: 1:00 - loss: 0.1033 - acc: 0.965 - ETA: 1:00 - loss: 0.1031 - acc: 0.965 - ETA: 1:00 - loss: 0.1031 - acc: 0.965 - ETA: 1:00 - loss: 0.1032 - acc: 0.965 - ETA: 1:00 - loss: 0.1031 - acc: 0.965 - ETA: 59s - loss: 0.1031 - acc: 0.965 - ETA: 59s - loss: 0.1032 - acc: 0.96 - ETA: 59s - loss: 0.1030 - acc: 0.96 - ETA: 59s - loss: 0.1029 - acc: 0.96 - ETA: 59s - loss: 0.1034 - acc: 0.96 - ETA: 59s - loss: 0.1034 - acc: 0.96 - ETA: 58s - loss: 0.1032 - acc: 0.96 - ETA: 58s - loss: 0.1031 - acc: 0.96 - ETA: 58s - loss: 0.1035 - acc: 0.9658"
     ]
    },
    {
     "name": "stdout",
     "output_type": "stream",
     "text": [
      "19968/24136 [=======================>......] - ETA: 58s - loss: 0.1037 - acc: 0.96 - ETA: 58s - loss: 0.1037 - acc: 0.96 - ETA: 58s - loss: 0.1036 - acc: 0.96 - ETA: 57s - loss: 0.1034 - acc: 0.96 - ETA: 57s - loss: 0.1037 - acc: 0.96 - ETA: 57s - loss: 0.1036 - acc: 0.96 - ETA: 57s - loss: 0.1034 - acc: 0.96 - ETA: 57s - loss: 0.1034 - acc: 0.96 - ETA: 56s - loss: 0.1033 - acc: 0.96 - ETA: 56s - loss: 0.1037 - acc: 0.96 - ETA: 56s - loss: 0.1036 - acc: 0.96 - ETA: 56s - loss: 0.1038 - acc: 0.96 - ETA: 56s - loss: 0.1037 - acc: 0.96 - ETA: 56s - loss: 0.1035 - acc: 0.96 - ETA: 55s - loss: 0.1034 - acc: 0.96 - ETA: 55s - loss: 0.1037 - acc: 0.96 - ETA: 55s - loss: 0.1035 - acc: 0.96 - ETA: 55s - loss: 0.1041 - acc: 0.96 - ETA: 55s - loss: 0.1040 - acc: 0.96 - ETA: 55s - loss: 0.1039 - acc: 0.96 - ETA: 54s - loss: 0.1037 - acc: 0.96 - ETA: 54s - loss: 0.1045 - acc: 0.96 - ETA: 54s - loss: 0.1045 - acc: 0.96 - ETA: 54s - loss: 0.1044 - acc: 0.96 - ETA: 54s - loss: 0.1043 - acc: 0.96 - ETA: 54s - loss: 0.1042 - acc: 0.96 - ETA: 53s - loss: 0.1045 - acc: 0.96 - ETA: 53s - loss: 0.1047 - acc: 0.96 - ETA: 53s - loss: 0.1047 - acc: 0.96 - ETA: 53s - loss: 0.1046 - acc: 0.96 - ETA: 53s - loss: 0.1049 - acc: 0.96 - ETA: 53s - loss: 0.1049 - acc: 0.96 - ETA: 52s - loss: 0.1049 - acc: 0.96 - ETA: 52s - loss: 0.1050 - acc: 0.96 - ETA: 52s - loss: 0.1054 - acc: 0.96 - ETA: 52s - loss: 0.1053 - acc: 0.96 - ETA: 52s - loss: 0.1051 - acc: 0.96 - ETA: 52s - loss: 0.1053 - acc: 0.96 - ETA: 51s - loss: 0.1055 - acc: 0.96 - ETA: 51s - loss: 0.1060 - acc: 0.96 - ETA: 51s - loss: 0.1062 - acc: 0.96 - ETA: 51s - loss: 0.1065 - acc: 0.96 - ETA: 51s - loss: 0.1065 - acc: 0.96 - ETA: 51s - loss: 0.1064 - acc: 0.96 - ETA: 50s - loss: 0.1067 - acc: 0.96 - ETA: 50s - loss: 0.1068 - acc: 0.96 - ETA: 50s - loss: 0.1066 - acc: 0.96 - ETA: 50s - loss: 0.1065 - acc: 0.96 - ETA: 50s - loss: 0.1064 - acc: 0.96 - ETA: 50s - loss: 0.1062 - acc: 0.96 - ETA: 49s - loss: 0.1061 - acc: 0.96 - ETA: 49s - loss: 0.1060 - acc: 0.96 - ETA: 49s - loss: 0.1060 - acc: 0.96 - ETA: 49s - loss: 0.1060 - acc: 0.96 - ETA: 49s - loss: 0.1060 - acc: 0.96 - ETA: 49s - loss: 0.1061 - acc: 0.96 - ETA: 48s - loss: 0.1061 - acc: 0.96 - ETA: 48s - loss: 0.1059 - acc: 0.96 - ETA: 48s - loss: 0.1059 - acc: 0.96 - ETA: 48s - loss: 0.1058 - acc: 0.96 - ETA: 48s - loss: 0.1057 - acc: 0.96 - ETA: 48s - loss: 0.1061 - acc: 0.96 - ETA: 47s - loss: 0.1060 - acc: 0.96 - ETA: 47s - loss: 0.1059 - acc: 0.96 - ETA: 47s - loss: 0.1060 - acc: 0.96 - ETA: 47s - loss: 0.1058 - acc: 0.96 - ETA: 47s - loss: 0.1065 - acc: 0.96 - ETA: 47s - loss: 0.1063 - acc: 0.96 - ETA: 46s - loss: 0.1066 - acc: 0.96 - ETA: 46s - loss: 0.1066 - acc: 0.96 - ETA: 46s - loss: 0.1066 - acc: 0.96 - ETA: 46s - loss: 0.1064 - acc: 0.96 - ETA: 46s - loss: 0.1063 - acc: 0.96 - ETA: 46s - loss: 0.1063 - acc: 0.96 - ETA: 45s - loss: 0.1062 - acc: 0.96 - ETA: 45s - loss: 0.1060 - acc: 0.96 - ETA: 45s - loss: 0.1059 - acc: 0.96 - ETA: 45s - loss: 0.1062 - acc: 0.96 - ETA: 45s - loss: 0.1062 - acc: 0.96 - ETA: 45s - loss: 0.1065 - acc: 0.96 - ETA: 44s - loss: 0.1064 - acc: 0.96 - ETA: 44s - loss: 0.1064 - acc: 0.96 - ETA: 44s - loss: 0.1063 - acc: 0.96 - ETA: 44s - loss: 0.1064 - acc: 0.96 - ETA: 44s - loss: 0.1065 - acc: 0.96 - ETA: 43s - loss: 0.1067 - acc: 0.96 - ETA: 43s - loss: 0.1065 - acc: 0.96 - ETA: 43s - loss: 0.1064 - acc: 0.96 - ETA: 43s - loss: 0.1063 - acc: 0.96 - ETA: 43s - loss: 0.1065 - acc: 0.96 - ETA: 43s - loss: 0.1063 - acc: 0.96 - ETA: 42s - loss: 0.1064 - acc: 0.96 - ETA: 42s - loss: 0.1065 - acc: 0.96 - ETA: 42s - loss: 0.1064 - acc: 0.96 - ETA: 42s - loss: 0.1065 - acc: 0.96 - ETA: 42s - loss: 0.1067 - acc: 0.96 - ETA: 42s - loss: 0.1066 - acc: 0.96 - ETA: 41s - loss: 0.1068 - acc: 0.96 - ETA: 41s - loss: 0.1067 - acc: 0.96 - ETA: 41s - loss: 0.1065 - acc: 0.96 - ETA: 41s - loss: 0.1066 - acc: 0.96 - ETA: 41s - loss: 0.1065 - acc: 0.96 - ETA: 41s - loss: 0.1067 - acc: 0.96 - ETA: 40s - loss: 0.1066 - acc: 0.96 - ETA: 40s - loss: 0.1065 - acc: 0.96 - ETA: 40s - loss: 0.1067 - acc: 0.96 - ETA: 40s - loss: 0.1067 - acc: 0.96 - ETA: 40s - loss: 0.1066 - acc: 0.96 - ETA: 40s - loss: 0.1065 - acc: 0.96 - ETA: 39s - loss: 0.1064 - acc: 0.96 - ETA: 39s - loss: 0.1063 - acc: 0.96 - ETA: 39s - loss: 0.1063 - acc: 0.96 - ETA: 39s - loss: 0.1062 - acc: 0.96 - ETA: 39s - loss: 0.1061 - acc: 0.96 - ETA: 39s - loss: 0.1063 - acc: 0.96 - ETA: 38s - loss: 0.1064 - acc: 0.96 - ETA: 38s - loss: 0.1063 - acc: 0.96 - ETA: 38s - loss: 0.1061 - acc: 0.96 - ETA: 38s - loss: 0.1063 - acc: 0.96 - ETA: 38s - loss: 0.1064 - acc: 0.96 - ETA: 38s - loss: 0.1066 - acc: 0.96 - ETA: 37s - loss: 0.1065 - acc: 0.96 - ETA: 37s - loss: 0.1065 - acc: 0.96 - ETA: 37s - loss: 0.1064 - acc: 0.96 - ETA: 37s - loss: 0.1066 - acc: 0.96 - ETA: 37s - loss: 0.1066 - acc: 0.96 - ETA: 37s - loss: 0.1065 - acc: 0.96 - ETA: 36s - loss: 0.1063 - acc: 0.96 - ETA: 36s - loss: 0.1062 - acc: 0.96 - ETA: 36s - loss: 0.1062 - acc: 0.96 - ETA: 36s - loss: 0.1061 - acc: 0.96 - ETA: 36s - loss: 0.1062 - acc: 0.96 - ETA: 36s - loss: 0.1060 - acc: 0.96 - ETA: 35s - loss: 0.1060 - acc: 0.96 - ETA: 35s - loss: 0.1064 - acc: 0.96 - ETA: 35s - loss: 0.1064 - acc: 0.96 - ETA: 35s - loss: 0.1064 - acc: 0.96 - ETA: 35s - loss: 0.1067 - acc: 0.96 - ETA: 35s - loss: 0.1065 - acc: 0.96 - ETA: 34s - loss: 0.1066 - acc: 0.96 - ETA: 34s - loss: 0.1066 - acc: 0.96 - ETA: 34s - loss: 0.1065 - acc: 0.96 - ETA: 34s - loss: 0.1064 - acc: 0.96 - ETA: 34s - loss: 0.1065 - acc: 0.96 - ETA: 33s - loss: 0.1064 - acc: 0.96 - ETA: 33s - loss: 0.1063 - acc: 0.96 - ETA: 33s - loss: 0.1063 - acc: 0.96 - ETA: 33s - loss: 0.1062 - acc: 0.96 - ETA: 33s - loss: 0.1063 - acc: 0.96 - ETA: 33s - loss: 0.1063 - acc: 0.96 - ETA: 32s - loss: 0.1062 - acc: 0.96 - ETA: 32s - loss: 0.1064 - acc: 0.96 - ETA: 32s - loss: 0.1063 - acc: 0.96 - ETA: 32s - loss: 0.1070 - acc: 0.96 - ETA: 32s - loss: 0.1070 - acc: 0.96 - ETA: 32s - loss: 0.1070 - acc: 0.96 - ETA: 31s - loss: 0.1071 - acc: 0.96 - ETA: 31s - loss: 0.1072 - acc: 0.96 - ETA: 31s - loss: 0.1076 - acc: 0.96 - ETA: 31s - loss: 0.1075 - acc: 0.96 - ETA: 31s - loss: 0.1077 - acc: 0.96 - ETA: 31s - loss: 0.1077 - acc: 0.96 - ETA: 30s - loss: 0.1076 - acc: 0.96 - ETA: 30s - loss: 0.1076 - acc: 0.96 - ETA: 30s - loss: 0.1078 - acc: 0.96 - ETA: 30s - loss: 0.1078 - acc: 0.96 - ETA: 30s - loss: 0.1079 - acc: 0.96 - ETA: 30s - loss: 0.1078 - acc: 0.96 - ETA: 29s - loss: 0.1077 - acc: 0.96 - ETA: 29s - loss: 0.1078 - acc: 0.96 - ETA: 29s - loss: 0.1077 - acc: 0.96 - ETA: 29s - loss: 0.1078 - acc: 0.96 - ETA: 29s - loss: 0.1079 - acc: 0.96 - ETA: 29s - loss: 0.1079 - acc: 0.96 - ETA: 28s - loss: 0.1078 - acc: 0.96 - ETA: 28s - loss: 0.1079 - acc: 0.96 - ETA: 28s - loss: 0.1078 - acc: 0.96 - ETA: 28s - loss: 0.1081 - acc: 0.96 - ETA: 28s - loss: 0.1081 - acc: 0.96 - ETA: 28s - loss: 0.1081 - acc: 0.96 - ETA: 27s - loss: 0.1082 - acc: 0.96 - ETA: 27s - loss: 0.1083 - acc: 0.96 - ETA: 27s - loss: 0.1082 - acc: 0.96 - ETA: 27s - loss: 0.1083 - acc: 0.96 - ETA: 27s - loss: 0.1082 - acc: 0.96 - ETA: 27s - loss: 0.1080 - acc: 0.96 - ETA: 26s - loss: 0.1081 - acc: 0.96 - ETA: 26s - loss: 0.1083 - acc: 0.96 - ETA: 26s - loss: 0.1083 - acc: 0.96 - ETA: 26s - loss: 0.1083 - acc: 0.96 - ETA: 26s - loss: 0.1083 - acc: 0.96 - ETA: 26s - loss: 0.1085 - acc: 0.96 - ETA: 25s - loss: 0.1085 - acc: 0.96 - ETA: 25s - loss: 0.1085 - acc: 0.96 - ETA: 25s - loss: 0.1084 - acc: 0.96 - ETA: 25s - loss: 0.1085 - acc: 0.96 - ETA: 25s - loss: 0.1085 - acc: 0.96 - ETA: 24s - loss: 0.1085 - acc: 0.96 - ETA: 24s - loss: 0.1090 - acc: 0.96 - ETA: 24s - loss: 0.1090 - acc: 0.96 - ETA: 24s - loss: 0.1091 - acc: 0.96 - ETA: 24s - loss: 0.1089 - acc: 0.96 - ETA: 24s - loss: 0.1090 - acc: 0.96 - ETA: 23s - loss: 0.1091 - acc: 0.96 - ETA: 23s - loss: 0.1091 - acc: 0.96 - ETA: 23s - loss: 0.1092 - acc: 0.96 - ETA: 23s - loss: 0.1092 - acc: 0.96 - ETA: 23s - loss: 0.1092 - acc: 0.96 - ETA: 23s - loss: 0.1093 - acc: 0.96 - ETA: 22s - loss: 0.1093 - acc: 0.96 - ETA: 22s - loss: 0.1096 - acc: 0.96 - ETA: 22s - loss: 0.1097 - acc: 0.96 - ETA: 22s - loss: 0.1098 - acc: 0.96 - ETA: 22s - loss: 0.1100 - acc: 0.96 - ETA: 22s - loss: 0.1102 - acc: 0.9624"
     ]
    },
    {
     "name": "stdout",
     "output_type": "stream",
     "text": [
      "24136/24136 [==============================] - ETA: 21s - loss: 0.1102 - acc: 0.96 - ETA: 21s - loss: 0.1102 - acc: 0.96 - ETA: 21s - loss: 0.1102 - acc: 0.96 - ETA: 21s - loss: 0.1101 - acc: 0.96 - ETA: 21s - loss: 0.1102 - acc: 0.96 - ETA: 21s - loss: 0.1103 - acc: 0.96 - ETA: 20s - loss: 0.1105 - acc: 0.96 - ETA: 20s - loss: 0.1104 - acc: 0.96 - ETA: 20s - loss: 0.1105 - acc: 0.96 - ETA: 20s - loss: 0.1104 - acc: 0.96 - ETA: 20s - loss: 0.1103 - acc: 0.96 - ETA: 20s - loss: 0.1103 - acc: 0.96 - ETA: 19s - loss: 0.1103 - acc: 0.96 - ETA: 19s - loss: 0.1104 - acc: 0.96 - ETA: 19s - loss: 0.1105 - acc: 0.96 - ETA: 19s - loss: 0.1105 - acc: 0.96 - ETA: 19s - loss: 0.1104 - acc: 0.96 - ETA: 19s - loss: 0.1106 - acc: 0.96 - ETA: 18s - loss: 0.1105 - acc: 0.96 - ETA: 18s - loss: 0.1105 - acc: 0.96 - ETA: 18s - loss: 0.1103 - acc: 0.96 - ETA: 18s - loss: 0.1103 - acc: 0.96 - ETA: 18s - loss: 0.1104 - acc: 0.96 - ETA: 18s - loss: 0.1106 - acc: 0.96 - ETA: 17s - loss: 0.1107 - acc: 0.96 - ETA: 17s - loss: 0.1107 - acc: 0.96 - ETA: 17s - loss: 0.1107 - acc: 0.96 - ETA: 17s - loss: 0.1108 - acc: 0.96 - ETA: 17s - loss: 0.1108 - acc: 0.96 - ETA: 17s - loss: 0.1107 - acc: 0.96 - ETA: 16s - loss: 0.1108 - acc: 0.96 - ETA: 16s - loss: 0.1107 - acc: 0.96 - ETA: 16s - loss: 0.1106 - acc: 0.96 - ETA: 16s - loss: 0.1107 - acc: 0.96 - ETA: 16s - loss: 0.1108 - acc: 0.96 - ETA: 15s - loss: 0.1113 - acc: 0.96 - ETA: 15s - loss: 0.1114 - acc: 0.96 - ETA: 15s - loss: 0.1114 - acc: 0.96 - ETA: 15s - loss: 0.1113 - acc: 0.96 - ETA: 15s - loss: 0.1112 - acc: 0.96 - ETA: 15s - loss: 0.1115 - acc: 0.96 - ETA: 14s - loss: 0.1114 - acc: 0.96 - ETA: 14s - loss: 0.1115 - acc: 0.96 - ETA: 14s - loss: 0.1114 - acc: 0.96 - ETA: 14s - loss: 0.1115 - acc: 0.96 - ETA: 14s - loss: 0.1115 - acc: 0.96 - ETA: 14s - loss: 0.1114 - acc: 0.96 - ETA: 13s - loss: 0.1113 - acc: 0.96 - ETA: 13s - loss: 0.1114 - acc: 0.96 - ETA: 13s - loss: 0.1113 - acc: 0.96 - ETA: 13s - loss: 0.1114 - acc: 0.96 - ETA: 13s - loss: 0.1113 - acc: 0.96 - ETA: 13s - loss: 0.1112 - acc: 0.96 - ETA: 12s - loss: 0.1112 - acc: 0.96 - ETA: 12s - loss: 0.1113 - acc: 0.96 - ETA: 12s - loss: 0.1113 - acc: 0.96 - ETA: 12s - loss: 0.1111 - acc: 0.96 - ETA: 12s - loss: 0.1112 - acc: 0.96 - ETA: 12s - loss: 0.1112 - acc: 0.96 - ETA: 11s - loss: 0.1111 - acc: 0.96 - ETA: 11s - loss: 0.1111 - acc: 0.96 - ETA: 11s - loss: 0.1111 - acc: 0.96 - ETA: 11s - loss: 0.1110 - acc: 0.96 - ETA: 11s - loss: 0.1111 - acc: 0.96 - ETA: 11s - loss: 0.1111 - acc: 0.96 - ETA: 10s - loss: 0.1109 - acc: 0.96 - ETA: 10s - loss: 0.1110 - acc: 0.96 - ETA: 10s - loss: 0.1111 - acc: 0.96 - ETA: 10s - loss: 0.1109 - acc: 0.96 - ETA: 10s - loss: 0.1109 - acc: 0.96 - ETA: 10s - loss: 0.1110 - acc: 0.96 - ETA: 9s - loss: 0.1111 - acc: 0.9615 - ETA: 9s - loss: 0.1111 - acc: 0.961 - ETA: 9s - loss: 0.1112 - acc: 0.961 - ETA: 9s - loss: 0.1111 - acc: 0.961 - ETA: 9s - loss: 0.1112 - acc: 0.961 - ETA: 9s - loss: 0.1111 - acc: 0.961 - ETA: 8s - loss: 0.1113 - acc: 0.961 - ETA: 8s - loss: 0.1112 - acc: 0.961 - ETA: 8s - loss: 0.1111 - acc: 0.961 - ETA: 8s - loss: 0.1112 - acc: 0.961 - ETA: 8s - loss: 0.1111 - acc: 0.961 - ETA: 8s - loss: 0.1110 - acc: 0.961 - ETA: 7s - loss: 0.1113 - acc: 0.961 - ETA: 7s - loss: 0.1113 - acc: 0.961 - ETA: 7s - loss: 0.1113 - acc: 0.961 - ETA: 7s - loss: 0.1114 - acc: 0.961 - ETA: 7s - loss: 0.1113 - acc: 0.961 - ETA: 7s - loss: 0.1112 - acc: 0.961 - ETA: 6s - loss: 0.1113 - acc: 0.961 - ETA: 6s - loss: 0.1114 - acc: 0.961 - ETA: 6s - loss: 0.1114 - acc: 0.961 - ETA: 6s - loss: 0.1114 - acc: 0.961 - ETA: 6s - loss: 0.1115 - acc: 0.961 - ETA: 5s - loss: 0.1115 - acc: 0.961 - ETA: 5s - loss: 0.1114 - acc: 0.961 - ETA: 5s - loss: 0.1113 - acc: 0.961 - ETA: 5s - loss: 0.1115 - acc: 0.961 - ETA: 5s - loss: 0.1119 - acc: 0.961 - ETA: 5s - loss: 0.1120 - acc: 0.961 - ETA: 4s - loss: 0.1120 - acc: 0.961 - ETA: 4s - loss: 0.1120 - acc: 0.961 - ETA: 4s - loss: 0.1119 - acc: 0.961 - ETA: 4s - loss: 0.1118 - acc: 0.961 - ETA: 4s - loss: 0.1117 - acc: 0.961 - ETA: 4s - loss: 0.1118 - acc: 0.961 - ETA: 3s - loss: 0.1119 - acc: 0.961 - ETA: 3s - loss: 0.1119 - acc: 0.961 - ETA: 3s - loss: 0.1119 - acc: 0.961 - ETA: 3s - loss: 0.1119 - acc: 0.961 - ETA: 3s - loss: 0.1121 - acc: 0.961 - ETA: 3s - loss: 0.1122 - acc: 0.960 - ETA: 2s - loss: 0.1121 - acc: 0.961 - ETA: 2s - loss: 0.1120 - acc: 0.961 - ETA: 2s - loss: 0.1121 - acc: 0.960 - ETA: 2s - loss: 0.1121 - acc: 0.960 - ETA: 2s - loss: 0.1124 - acc: 0.960 - ETA: 2s - loss: 0.1124 - acc: 0.960 - ETA: 1s - loss: 0.1123 - acc: 0.960 - ETA: 1s - loss: 0.1126 - acc: 0.960 - ETA: 1s - loss: 0.1126 - acc: 0.960 - ETA: 1s - loss: 0.1125 - acc: 0.960 - ETA: 1s - loss: 0.1126 - acc: 0.960 - ETA: 1s - loss: 0.1127 - acc: 0.960 - ETA: 0s - loss: 0.1128 - acc: 0.960 - ETA: 0s - loss: 0.1128 - acc: 0.960 - ETA: 0s - loss: 0.1129 - acc: 0.960 - ETA: 0s - loss: 0.1129 - acc: 0.960 - ETA: 0s - loss: 0.1130 - acc: 0.960 - ETA: 0s - loss: 0.1129 - acc: 0.960 - 132s 5ms/step - loss: 0.1130 - acc: 0.9607 - val_loss: 0.3431 - val_acc: 0.8717\n"
     ]
    },
    {
     "data": {
      "text/plain": [
       "<keras.callbacks.History at 0x236aa0a86a0>"
      ]
     },
     "execution_count": 30,
     "metadata": {},
     "output_type": "execute_result"
    }
   ],
   "source": [
    "model_conv = create_conv_model()\n",
    "model_conv.fit(data, np.array(labels), validation_split=0.2, epochs = 3)"
   ]
  },
  {
   "cell_type": "code",
   "execution_count": 36,
   "metadata": {},
   "outputs": [],
   "source": [
    "predictions = model_conv.predict_classes(test_tokenize)"
   ]
  },
  {
   "cell_type": "code",
   "execution_count": 39,
   "metadata": {},
   "outputs": [
    {
     "data": {
      "text/html": [
       "<div>\n",
       "<style scoped>\n",
       "    .dataframe tbody tr th:only-of-type {\n",
       "        vertical-align: middle;\n",
       "    }\n",
       "\n",
       "    .dataframe tbody tr th {\n",
       "        vertical-align: top;\n",
       "    }\n",
       "\n",
       "    .dataframe thead th {\n",
       "        text-align: right;\n",
       "    }\n",
       "</style>\n",
       "<table border=\"1\" class=\"dataframe\">\n",
       "  <thead>\n",
       "    <tr style=\"text-align: right;\">\n",
       "      <th></th>\n",
       "      <th>User_ID</th>\n",
       "      <th>Is_Response</th>\n",
       "    </tr>\n",
       "  </thead>\n",
       "  <tbody>\n",
       "    <tr>\n",
       "      <th>0</th>\n",
       "      <td>9602</td>\n",
       "      <td>Good</td>\n",
       "    </tr>\n",
       "    <tr>\n",
       "      <th>1</th>\n",
       "      <td>8749</td>\n",
       "      <td>Good</td>\n",
       "    </tr>\n",
       "    <tr>\n",
       "      <th>2</th>\n",
       "      <td>15500</td>\n",
       "      <td>Good</td>\n",
       "    </tr>\n",
       "    <tr>\n",
       "      <th>3</th>\n",
       "      <td>5495</td>\n",
       "      <td>Good</td>\n",
       "    </tr>\n",
       "    <tr>\n",
       "      <th>4</th>\n",
       "      <td>18570</td>\n",
       "      <td>Good</td>\n",
       "    </tr>\n",
       "  </tbody>\n",
       "</table>\n",
       "</div>"
      ],
      "text/plain": [
       "   User_ID Is_Response\n",
       "0     9602        Good\n",
       "1     8749        Good\n",
       "2    15500        Good\n",
       "3     5495        Good\n",
       "4    18570        Good"
      ]
     },
     "execution_count": 39,
     "metadata": {},
     "output_type": "execute_result"
    }
   ],
   "source": [
    "out_df = pd.DataFrame({\"User_ID\":test[\"User_ID\"].values})\n",
    "out_df['Is_Response'] = predictions\n",
    "stars_dict = {1:'Good',0:'Bad'}\n",
    "out_df[\"Is_Response\"] = out_df['Is_Response'].replace(stars_dict,regex=True)\n",
    "out_df.to_csv(\"submission_LSTM.csv\", index=False)\n",
    "out_df.head()"
   ]
  }
 ],
 "metadata": {
  "kernelspec": {
   "display_name": "Python 3",
   "language": "python",
   "name": "python3"
  },
  "language_info": {
   "codemirror_mode": {
    "name": "ipython",
    "version": 3
   },
   "file_extension": ".py",
   "mimetype": "text/x-python",
   "name": "python",
   "nbconvert_exporter": "python",
   "pygments_lexer": "ipython3",
   "version": "3.6.5"
  }
 },
 "nbformat": 4,
 "nbformat_minor": 2
}
